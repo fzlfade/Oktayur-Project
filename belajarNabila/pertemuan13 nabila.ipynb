{
 "cells": [
  {
   "cell_type": "code",
   "execution_count": 6,
   "metadata": {},
   "outputs": [
    {
     "name": "stdout",
     "output_type": "stream",
     "text": [
      "Nama\t\t\t\t:  Ballpoint\n",
      "Stok\t\t\t\t:  10\n",
      "Harga Satuan\t\t\t:  2000\n",
      "Harga\t\t\t\t:  20000\n",
      "================= RESTOK BALLPOINT COY =====================\n",
      "Stok setelah restok\t\t:  20\n",
      "Harga harga setelah restok\t:  40000\n",
      "\n",
      "============================================================\n",
      "Nama\t\t\t\t:  Pensil\n",
      "Stok\t\t\t\t:  10\n",
      "Harga Satuan\t\t\t:  1000\n",
      "Harga\t\t\t\t:  10000\n",
      "================= RESTOK PENSIL COY =====================\n",
      "Stok setelah restok\t\t:  20\n",
      "Harga harga setelah restok\t:  20000\n",
      "\n",
      "============================================================\n",
      "Nama\t\t\t\t:  Penghapus\n",
      "Stok\t\t\t\t:  10\n",
      "Harga Satuan\t\t\t:  500\n",
      "Harga\t\t\t\t:  5000\n",
      "================= RESTOK PENGHAPUS COY =====================\n",
      "Stok setelah restok\t\t:  20\n",
      "Harga harga setelah restok\t:  10000\n"
     ]
    }
   ],
   "source": [
    "class AlatTulis():\n",
    "    def __init__(self, nama, stok, hargaSatuan):\n",
    "        self.nama = nama\n",
    "        self.stok = stok\n",
    "        self.hargaSatuan = hargaSatuan\n",
    "        self.harga = stok * hargaSatuan\n",
    "    \n",
    "    def setNama(self, nama):\n",
    "        self.nama = nama\n",
    "    \n",
    "    def setStok(self, stok):\n",
    "        self.stok = stok\n",
    "        self.harga = self.hargaSatuan * self.stok\n",
    "    \n",
    "    def setHargaSatuan(self, hargaSatuan):\n",
    "        self.hargaSatuan = hargaSatuan\n",
    "        self.harga = self.hargaSatuan * self.stok\n",
    "    \n",
    "    def getNama(self):\n",
    "        return self.nama\n",
    "    \n",
    "    def getStok(self):\n",
    "        return self.stok\n",
    "    \n",
    "    def getHargaSatuan(self):\n",
    "        return self.hargaSatuan\n",
    "    \n",
    "    def getHarga(self):\n",
    "        return self.harga\n",
    "    \n",
    "ballpoint = AlatTulis(\"Ballpoint\", 10, 2000)\n",
    "pensil = AlatTulis(\"Pensil\", 10, 1000)\n",
    "penghapus = AlatTulis(\"Penghapus\", 10, 500)\n",
    "\n",
    "print(\"Nama\\t\\t\\t\\t: \", ballpoint.getNama())\n",
    "print(\"Stok\\t\\t\\t\\t: \", ballpoint.getStok())\n",
    "print(\"Harga Satuan\\t\\t\\t: \", ballpoint.getHargaSatuan())\n",
    "print(\"Harga\\t\\t\\t\\t: \", ballpoint.getHarga())\n",
    "print(\"================= RESTOK BALLPOINT COY =====================\")\n",
    "\n",
    "ballpoint.setStok(20)\n",
    "print(\"Stok setelah restok\\t\\t: \", ballpoint.getStok())\n",
    "print(\"Harga harga setelah restok\\t: \", ballpoint.getHarga())\n",
    "\n",
    "print()\n",
    "print(\"============================================================\")\n",
    "\n",
    "print(\"Nama\\t\\t\\t\\t: \", pensil.getNama())\n",
    "print(\"Stok\\t\\t\\t\\t: \", pensil.getStok())\n",
    "print(\"Harga Satuan\\t\\t\\t: \", pensil.getHargaSatuan())\n",
    "print(\"Harga\\t\\t\\t\\t: \", pensil.getHarga())\n",
    "print(\"================= RESTOK PENSIL COY =====================\")\n",
    "\n",
    "pensil.setStok(20)\n",
    "print(\"Stok setelah restok\\t\\t: \", pensil.getStok())\n",
    "print(\"Harga harga setelah restok\\t: \", pensil.getHarga())\n",
    "\n",
    "print()\n",
    "print(\"============================================================\")\n",
    "\n",
    "print(\"Nama\\t\\t\\t\\t: \", penghapus.getNama())\n",
    "print(\"Stok\\t\\t\\t\\t: \", penghapus.getStok())\n",
    "print(\"Harga Satuan\\t\\t\\t: \", penghapus.getHargaSatuan())\n",
    "print(\"Harga\\t\\t\\t\\t: \", penghapus.getHarga())\n",
    "print(\"================= RESTOK PENGHAPUS COY =====================\")\n",
    "\n",
    "penghapus.setStok(20)\n",
    "print(\"Stok setelah restok\\t\\t: \", penghapus.getStok())\n",
    "print(\"Harga harga setelah restok\\t: \", penghapus.getHarga())\n"
   ]
  },
  {
   "cell_type": "code",
   "execution_count": 12,
   "metadata": {},
   "outputs": [
    {
     "name": "stdout",
     "output_type": "stream",
     "text": [
      "hitam\n",
      "0\n",
      "5\n",
      "10\n"
     ]
    }
   ],
   "source": [
    "class Mobil:\n",
    "    def __init__(self, merk, warna):  \n",
    "        self.merk = merk\n",
    "        self.warna = warna\n",
    "        self.kecepatan = 0  #ini kecepatan awal... atau pas mobilnya berhenti\n",
    "\n",
    "    def tambahKecepatan(self, nilai):\n",
    "        self.kecepatan += nilai\n",
    "\n",
    "\n",
    "mobilSaya = Mobil(\"Honda\", \"Biru\")\n",
    "mobilTetangga = Mobil(\"Toyota\", \"Merah\")\n",
    "mobilKamu = Mobil('bmw', 'hitam')\n",
    "\n",
    "print(mobilKamu.warna)\n",
    "print(mobilKamu.kecepatan)\n",
    "\n",
    "mobilKamu.tambahKecepatan(5)\n",
    "\n",
    "print(mobilKamu.kecepatan)\n",
    "\n",
    "mobilKamu.tambahKecepatan(5)\n",
    "\n",
    "print(mobilKamu.kecepatan)"
   ]
  },
  {
   "cell_type": "code",
   "execution_count": 33,
   "metadata": {},
   "outputs": [
    {
     "name": "stdout",
     "output_type": "stream",
     "text": [
      "abu\n",
      "abu abu\n",
      "MIAWW\n",
      "kamu\n",
      "guk guk!\n"
     ]
    }
   ],
   "source": [
    "class Kucing():\n",
    "    def __init__(self, nama, warna, suara):\n",
    "        self.nama = nama\n",
    "        self.warna = warna\n",
    "        self.kaki = 4\n",
    "        self.ekor = 1\n",
    "        self.suara = suara\n",
    "    \n",
    "    def keluarkanSuara(self):\n",
    "        return self.suara\n",
    "    \n",
    "\n",
    "kucing1 = Kucing('abu', 'abu abu', 'MIAWW')\n",
    "kucing2 = Kucing('kamu', 'merah', 'guk guk!')\n",
    "\n",
    "print(kucing1.nama)\n",
    "print(kucing1.warna)\n",
    "print(kucing1.keluarkanSuara())\n",
    "\n",
    "print(kucing2.nama)\n",
    "print(kucing2.keluarkanSuara())"
   ]
  }
 ],
 "metadata": {
  "kernelspec": {
   "display_name": "Python 3",
   "language": "python",
   "name": "python3"
  },
  "language_info": {
   "codemirror_mode": {
    "name": "ipython",
    "version": 3
   },
   "file_extension": ".py",
   "mimetype": "text/x-python",
   "name": "python",
   "nbconvert_exporter": "python",
   "pygments_lexer": "ipython3",
   "version": "3.11.5"
  }
 },
 "nbformat": 4,
 "nbformat_minor": 2
}
