{
 "cells": [
  {
   "cell_type": "code",
   "execution_count": 5,
   "metadata": {},
   "outputs": [
    {
     "name": "stdout",
     "output_type": "stream",
     "text": [
      "JADI NILAI FAKTORIAL DARI 4 ADALAH 24\n"
     ]
    }
   ],
   "source": [
    "\n",
    "bilangan=int(input(\"MASUKKAN BILANGAN\"))\n",
    "\n",
    "faktorial=1\n",
    "\n",
    "if bilangan==0:\n",
    "    faktorial=1\n",
    "elif bilangan>=1:\n",
    "    for i in range(1, bilangan+1):\n",
    "        faktorial=faktorial*i\n",
    "else:\n",
    "    print(\"salah\")\n",
    "    \n",
    "print(\"JADI NILAI FAKTORIAL DARI\", bilangan, \"ADALAH\" ,faktorial)\n",
    "\n"
   ]
  },
  {
   "cell_type": "code",
   "execution_count": 10,
   "metadata": {},
   "outputs": [
    {
     "name": "stdout",
     "output_type": "stream",
     "text": [
      "JADI NILAI FAKTORIAL DARI 4 ADALAH 24\n"
     ]
    }
   ],
   "source": [
    "#rekursif\n",
    "\n",
    "bilangan=int(input(\"MASUKKAN BILANGAN\"))\n",
    "\n",
    "def faktorial(bilangan):\n",
    "    if bilangan==0:\n",
    "         return 1\n",
    "    else:\n",
    "         return bilangan*faktorial(bilangan-1)\n",
    "print(\"JADI NILAI FAKTORIAL DARI\", bilangan, \"ADALAH\", faktorial(bilangan))\n",
    "\n",
    "\n",
    "\n"
   ]
  },
  {
   "cell_type": "code",
   "execution_count": null,
   "metadata": {},
   "outputs": [],
   "source": [
    "tanya=int(input(\"HITUNG LUAS LINGKARAN(1) ATAU PERSEGI(2), SEGITIGA (3) (1/2/3)\"))\n",
    "\n",
    "if tanya==1:\n",
    "    def lingkaran():\n",
    "        return cons*r*r \n",
    "    cons=3.14\n",
    "    r=float(input(\"MASUKAN JARI JARI LINGKARAN\"))\n",
    "    print(\"JADI LUAS DARI LINGKARAN DENGAN JARI JARI\", r, \"adalah\", lingkaran ())\n",
    "elif tanya==2:\n",
    "    def persegi():\n",
    "        return s*s\n",
    "    s=float(input(\"MASUKKAN SISI DARI PERSEGI\"))\n",
    "    print(\"JADI LUAS DARI PERSEGI DENGAN SISI\", s, \"adalah\", persegi())\n",
    "elif tanya==3:\n",
    "    def segitiga():\n",
    "        return 0.5*a*t\n",
    "    a=float(input(\"MASUKKAN ALAS SEGITIGA\"))\n",
    "    t=float(input(\"MASUKKAN TINGGI SEGITIGA\"))\n",
    "    print(\"JADI LUAS DARI SEGITIGA DENGAN ALAS\",a, \"DAN TINGGI\",t, \"ADALAH\", segitiga())\n"
   ]
  }
 ],
 "metadata": {
  "kernelspec": {
   "display_name": "anaconda3",
   "language": "python",
   "name": "python3"
  },
  "language_info": {
   "codemirror_mode": {
    "name": "ipython",
    "version": 3
   },
   "file_extension": ".py",
   "mimetype": "text/x-python",
   "name": "python",
   "nbconvert_exporter": "python",
   "pygments_lexer": "ipython3",
   "version": "3.11.4"
  }
 },
 "nbformat": 4,
 "nbformat_minor": 2
}
