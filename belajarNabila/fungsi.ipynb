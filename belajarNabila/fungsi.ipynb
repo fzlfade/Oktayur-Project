{
 "cells": [
  {
   "cell_type": "code",
   "execution_count": 2,
   "metadata": {},
   "outputs": [
    {
     "name": "stdout",
     "output_type": "stream",
     "text": [
      "None\n"
     ]
    }
   ],
   "source": [
    "def tambah(a,b):\n",
    "    hasil = a + b\n",
    "\n",
    "hitung = tambah(1, 2) #! karena fungsi tambah tidak mengembalikan nilai maka variable hitung akan bernilai none\n",
    "print(hitung)\n",
    "\n",
    "#? hasilnya none karena variable hasil di dlm fungsi tambah tida di return ke variable hitung"
   ]
  },
  {
   "cell_type": "code",
   "execution_count": 3,
   "metadata": {},
   "outputs": [
    {
     "name": "stdout",
     "output_type": "stream",
     "text": [
      "3\n"
     ]
    }
   ],
   "source": [
    "def tambah(a,b):\n",
    "    hasil = a + b\n",
    "    return hasil\n",
    "\n",
    "hitung = tambah(1, 2) #! variable hitung ini diisi nilai dari return fungsi tambah\n",
    "print(hitung)\n",
    "\n",
    "#? hasilnya 3 karena variable hasil di dlm fungsi tambah ada returnnya.. jadi nilai hasil di return ke variable hitung"
   ]
  },
  {
   "cell_type": "code",
   "execution_count": 4,
   "metadata": {},
   "outputs": [
    {
     "name": "stdout",
     "output_type": "stream",
     "text": [
      "3\n"
     ]
    }
   ],
   "source": [
    "def tambah(a,b):\n",
    "    hasil = a + b\n",
    "    print(hasil) #* nilainya ga di return, tapi lsg di print... jadi ga bisa di simpen ke variable hitung kyk yg tdi\n",
    "\n",
    "tambah(1, 2) #! ini cuma buat jalanin fungsinya, ga disimpen dlm variable\n",
    "\n",
    "#? hasilnya 3 karena variable hasil di dlm fungsi tambah ada printnya.. jadi nilai hasil di print ke console"
   ]
  }
 ],
 "metadata": {
  "kernelspec": {
   "display_name": "Python 3",
   "language": "python",
   "name": "python3"
  },
  "language_info": {
   "codemirror_mode": {
    "name": "ipython",
    "version": 3
   },
   "file_extension": ".py",
   "mimetype": "text/x-python",
   "name": "python",
   "nbconvert_exporter": "python",
   "pygments_lexer": "ipython3",
   "version": "3.11.5"
  }
 },
 "nbformat": 4,
 "nbformat_minor": 2
}
