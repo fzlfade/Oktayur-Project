{
 "cells": [
  {
   "cell_type": "code",
   "execution_count": 12,
   "metadata": {},
   "outputs": [
    {
     "name": "stdout",
     "output_type": "stream",
     "text": [
      "tidak ada yang tersedia\n"
     ]
    }
   ],
   "source": [
    "Nama=(input(\"NamaTamu\"))\n",
    "Keanggotaan=(input(\"Member,yes/no\"))\n",
    "lama=int(input(\"Lama\"))\n",
    "TipeKamar=(input(\"TipeKamar\"))\n",
    "suite=1000000\n",
    "superior=600000\n",
    "deluxe=400000\n",
    "diskon=0.2\n",
    "\n",
    "try:\n",
    "    if Keanggotaan==\"yes\":\n",
    "        if TipeKamar==\"suite\":\n",
    "            print(Nama, Keanggotaan, \"Total Biaya\", suite*lama*diskon)\n",
    "        elif TipeKamar==\"superior\":\n",
    "            print(Nama, Keanggotaan,\"Total Biaya\", superior*lama*diskon)\n",
    "        elif TipeKamar==\"deluxe\":\n",
    "            print(Nama, Keanggotaan,\"Total Biaya\", deluxe*lama*diskon)\n",
    "        else:\n",
    "            print(\"tidak ada yang tersedia\")\n",
    "\n",
    "    elif Keanggotaan==\"no\":\n",
    "        if TipeKamar==\"suite\":\n",
    "            print(\"Total Biaya\", suite*lama)\n",
    "        elif TipeKamar==\"superior\":\n",
    "            print(\"Total Biaya\", superior*lama)\n",
    "        elif TipeKamar==\"deluxe\":\n",
    "            print(\"Total Biaya\", deluxe*lama)\n",
    "    else:\n",
    "        raise TypeError\n",
    "    \n",
    "except:\n",
    "    print(\"keanggotaan diisi yes atau no\")\n",
    "\n",
    "\n",
    "\n",
    "\n",
    "       \n",
    "       \n"
   ]
  },
  {
   "cell_type": "code",
   "execution_count": null,
   "metadata": {},
   "outputs": [],
   "source": []
  },
  {
   "cell_type": "code",
   "execution_count": null,
   "metadata": {},
   "outputs": [],
   "source": []
  }
 ],
 "metadata": {
  "kernelspec": {
   "display_name": "anaconda3",
   "language": "python",
   "name": "python3"
  },
  "language_info": {
   "codemirror_mode": {
    "name": "ipython",
    "version": 3
   },
   "file_extension": ".py",
   "mimetype": "text/x-python",
   "name": "python",
   "nbconvert_exporter": "python",
   "pygments_lexer": "ipython3",
   "version": "3.11.4"
  }
 },
 "nbformat": 4,
 "nbformat_minor": 2
}
