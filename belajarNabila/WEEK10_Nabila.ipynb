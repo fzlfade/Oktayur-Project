{
 "cells": [
  {
   "cell_type": "code",
   "execution_count": null,
   "metadata": {},
   "outputs": [],
   "source": [
    "def faktorial(n):\n",
    "    if n == 1:\n",
    "        return n\n",
    "    else:\n",
    "        return n * faktorial(n -1)\n",
    "\n",
    "input_nilai = int(input('masukan angka'))\n",
    "print(faktorial(input_nilai))"
   ]
  },
  {
   "cell_type": "code",
   "execution_count": 1,
   "metadata": {},
   "outputs": [
    {
     "name": "stdout",
     "output_type": "stream",
     "text": [
      "luas persegi adalah  100\n",
      "luas persegi adalah  9\n"
     ]
    }
   ],
   "source": [
    "def luas_lingkaran(radius):\n",
    "    return 3.14 * radius * radius\n",
    "\n",
    "def luas_segitiga(alas, tinggi):\n",
    "    return 0.5 * alas * tinggi\n",
    "\n",
    "def luas_persegi(sisi):\n",
    "    return sisi * sisi\n",
    "\n",
    "selesai = ''\n",
    "\n",
    "while selesai != 'sudah':\n",
    "    shape = input('hitung luas apa? persegi/lingkaran/segitiga')\n",
    "    \n",
    "    if shape == \"persegi\":\n",
    "        sisi = int(input('masukan sisi persegi!'))\n",
    "        print('luas persegi adalah ', luas_persegi(sisi))\n",
    "\n",
    "    elif shape == \"segitiga\":\n",
    "        alas = int(input('masukan alas segitiga!'))\n",
    "        tinggi = int(input('masukan tinggi segitiga!'))\n",
    "        print('luas segitiga adalah ', luas_segitiga(alas, tinggi))\n",
    "\n",
    "    elif shape == \"lingkaran\":\n",
    "        radius = int(input('masukan radius!'))\n",
    "        print('luas lingkaran adalah ', luas_lingkaran(radius))\n",
    "\n",
    "    else:\n",
    "        print('pilihan mu tidak ada di daftar')\n",
    "    \n",
    "    selesai = input('selesai apa belum?(selesai/belum)')"
   ]
  }
 ],
 "metadata": {
  "kernelspec": {
   "display_name": "Python 3",
   "language": "python",
   "name": "python3"
  },
  "language_info": {
   "codemirror_mode": {
    "name": "ipython",
    "version": 3
   },
   "file_extension": ".py",
   "mimetype": "text/x-python",
   "name": "python",
   "nbconvert_exporter": "python",
   "pygments_lexer": "ipython3",
   "version": "3.11.5"
  }
 },
 "nbformat": 4,
 "nbformat_minor": 2
}
