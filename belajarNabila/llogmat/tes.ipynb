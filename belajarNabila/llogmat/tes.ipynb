{
 "cells": [
  {
   "cell_type": "code",
   "execution_count": 17,
   "metadata": {},
   "outputs": [
    {
     "name": "stdout",
     "output_type": "stream",
     "text": [
      "stop jadi seleb\n",
      "stop jadi seleb\n",
      "stop jadi seleb\n"
     ]
    }
   ],
   "source": [
    "i=int(input(\"banyaknya seleb yang ingin dihentikan: \"))\n",
    "p=\"stop jadi seleb\"\n",
    "\n",
    "for i in range (1, i+1):\n",
    "      print(p)"
   ]
  },
  {
   "cell_type": "code",
   "execution_count": 19,
   "metadata": {},
   "outputs": [
    {
     "name": "stdout",
     "output_type": "stream",
     "text": [
      "Pilihlah operasi gerbang logika berikut ini :\n",
      "1. Gerbang AND\n",
      "2. Gerbang OR \n",
      "3. Gerbang NOT\n",
      "4. Gerbang XOR\n",
      "5. Gerbang NAND\n",
      "6. Gerbang NOR\n",
      "Gerbang OR\n",
      "True / 1\n"
     ]
    }
   ],
   "source": [
    "def masukan():\n",
    "   while True:\n",
    "      try:\n",
    "         a = int(input(\"Masukkan angka pertama (0/1) = \"))\n",
    "         if a not in (0,1):\n",
    "            raise ValueError(\"Masukkan hanya 0 atau 1 !\")\n",
    "         b = int(input(\"Masukkan angka kedua (0/1) = \"))\n",
    "         if b not in (0,1):\n",
    "            raise ValueError(\"Masukkan hanya 0 atau 1 !\")\n",
    "         \n",
    "         break\n",
    "      except ValueError as e:\n",
    "         print(e)\n",
    "   return a,b\n",
    " \n",
    "\n",
    "def AND ():\n",
    "   a,b = masukan()\n",
    "   if a == 1 and b == 1:\n",
    "      print(\"True / 1\")\n",
    "   else:\n",
    "      print(\"False / 0\")\n",
    "\n",
    "def OR():\n",
    "   a,b = masukan()\n",
    "   if a == 1:\n",
    "      print(\"True / 1\")\n",
    "   elif b == 1:\n",
    "      print(\"True / 1\")\n",
    "   else:\n",
    "      print(\"False / 0\")\n",
    "\n",
    "def NOT():\n",
    "   a= masukan()\n",
    "   if(a == 0):\n",
    "      print(\"True / 1\")\n",
    "   elif(a == 1):\n",
    "      print(\"False / 0\")\n",
    "\n",
    "def XOR():\n",
    "   a,b = masukan()\n",
    "   return a^b\n",
    "\n",
    "def NOR():\n",
    "   a,b = masukan()\n",
    "   if(a == 0) and (b == 0):\n",
    "      print(\"True / 1\")\n",
    "   elif(a == 0) and (b == 1):\n",
    "      print(\"False / 0\")\n",
    "   elif(a == 1) and (b == 0):\n",
    "      print(\"False / 0\")\n",
    "   elif(a == 1) and (b == 1):\n",
    "      print(\"False / 0\")\n",
    "\n",
    "def NAND ():\n",
    "   a,b = masukan()\n",
    "   if a == 1 and b == 1:\n",
    "      print(\"False / 0\")\n",
    "   else:\n",
    "      print(\"True / 1\")\n",
    "   \n",
    "   \n",
    "\n",
    "def pilihan():\n",
    "    print(\"Pilihlah operasi gerbang logika berikut ini :\")\n",
    "    print(\"1. Gerbang AND\")\n",
    "    print(\"2. Gerbang OR \")\n",
    "    print(\"3. Gerbang NOT\")\n",
    "    print(\"4. Gerbang XOR\")\n",
    "    print(\"5. Gerbang NAND\")\n",
    "    print(\"6. Gerbang NOR\")\n",
    "    pilih = input(\"pilihlah gerbang yang ingin anda gunakan :\")\n",
    "    if pilih == \"1\":\n",
    "        print(\"Gerbang AND\")\n",
    "        AND()\n",
    "    if pilih == \"2\":\n",
    "        print(\"Gerbang OR\")\n",
    "        OR()\n",
    "    if pilih == \"3\":\n",
    "        print(\"Gerbang NOT\")\n",
    "        NOT()\n",
    "    if pilih == \"4\":\n",
    "        print(\"Gerbang XOR\")\n",
    "        XOR()\n",
    "    if pilih == \"5\":\n",
    "        print(\"Gerbang NAND\")\n",
    "        NAND()\n",
    "    if pilih == \"6\":\n",
    "        print(\"Gerbang NOR\")\n",
    "        NOR()\n",
    "\n",
    "\n",
    "pilihan()"
   ]
  }
 ],
 "metadata": {
  "kernelspec": {
   "display_name": "Python 3",
   "language": "python",
   "name": "python3"
  },
  "language_info": {
   "codemirror_mode": {
    "name": "ipython",
    "version": 3
   },
   "file_extension": ".py",
   "mimetype": "text/x-python",
   "name": "python",
   "nbconvert_exporter": "python",
   "pygments_lexer": "ipython3",
   "version": "3.11.5"
  }
 },
 "nbformat": 4,
 "nbformat_minor": 2
}
