{
 "cells": [
  {
   "cell_type": "code",
   "execution_count": 4,
   "metadata": {},
   "outputs": [
    {
     "name": "stdout",
     "output_type": "stream",
     "text": [
      "insertion done\n",
      "hash table content: \n",
      " --  (1, 20) (2, 70) (42, 80) (4, 25)  --   --   --   --   --   --   --  (12, 44) (13, 78) (14, 32)  --   --  (17, 11) (37, 97)  --  \n",
      "Element found:  97\n",
      "Element not found\n"
     ]
    }
   ],
   "source": [
    "# Table Hash\n",
    "ukuran = 20\n",
    "class DataItem:\n",
    "    def __init__(self, key, data):\n",
    "        self.key = key\n",
    "        self.data = data\n",
    "\n",
    "hashArray = [None] * ukuran\n",
    "dummyItem = DataItem(-1, -1)\n",
    "item = None\n",
    "\n",
    "def hashCode(key):\n",
    "    return key % ukuran\n",
    "\n",
    "def search(key):\n",
    "    hashIndex = hashCode(key)\n",
    "    while hashArray[hashIndex] != None:\n",
    "        if hashArray[hashIndex].key == key:\n",
    "            return hashArray[hashIndex]\n",
    "        hashIndex = (hashIndex + 1) % ukuran\n",
    "    return None\n",
    "\n",
    "def insert(key, data):\n",
    "    item = DataItem(key, data)\n",
    "    hashIndex = hashCode(key)\n",
    "    while hashArray[hashIndex] != None and hashArray[hashIndex].key != -1:\n",
    "        hashIndex = (hashIndex + 1) % ukuran\n",
    "    hashArray[hashIndex] = item\n",
    "\n",
    "def deleteItem(item):\n",
    "    key = item.key\n",
    "    hashIndex = hashCode(key)\n",
    "    while hashArray[hashIndex] != None:\n",
    "        if hashArray[hashIndex].key == key:\n",
    "            temp = hashArray[hashIndex]\n",
    "            hashArray[hashIndex] = dummyItem\n",
    "            return temp\n",
    "        hashIndex = (hashIndex + 1) % ukuran\n",
    "    return None\n",
    "\n",
    "# Function to display the hash table\n",
    "def display():\n",
    "    for i in range(ukuran):\n",
    "        if hashArray[i] != None:\n",
    "            print(\"({}, {})\".format(hashArray[i].key, hashArray[i].data), end=\" \")\n",
    "        else:\n",
    "            print(\" -- \", end=\" \")\n",
    "    print()\n",
    "\n",
    "if __name__ == \"__main__\":\n",
    "    insert(1, 20)\n",
    "    insert(2, 70)\n",
    "    insert(42, 80)\n",
    "    insert(4, 25)\n",
    "    insert(12, 44)\n",
    "    insert(14, 32)\n",
    "    insert(17, 11)\n",
    "    insert(13, 78)\n",
    "    insert(37, 97)\n",
    "print(\"insertion done\")\n",
    "print(\"hash table content: \")\n",
    "display()\n",
    "item = search(37)\n",
    "if item != None:\n",
    "    print(\"Element found: \", item.data)\n",
    "else:\n",
    "    print(\"Element not found\")\n",
    "deleteItem(item)\n",
    "item = search(37)\n",
    "if item != None:\n",
    "    print(\"Element found: \", item.data)\n",
    "else:\n",
    "    print(\"Element not found\")"
   ]
  },
  {
   "cell_type": "code",
   "execution_count": 7,
   "metadata": {},
   "outputs": [
    {
     "name": "stdout",
     "output_type": "stream",
     "text": [
      "string:  hello world\n",
      "hash value:  -3767447706048733047\n"
     ]
    }
   ],
   "source": [
    "# Buil-in hash function\n",
    "my_string = \"hello world\"\n",
    "\n",
    "hash_value = hash(my_string)\n",
    "\n",
    "print(\"string: \", my_string)\n",
    "print(\"hash value: \", hash_value)"
   ]
  },
  {
   "cell_type": "code",
   "execution_count": 9,
   "metadata": {},
   "outputs": [
    {
     "name": "stdout",
     "output_type": "stream",
     "text": [
      "5eb63bbbe01eeed093cb22bb8f5acdc3\n"
     ]
    }
   ],
   "source": [
    "# hashlib MD5\n",
    "import hashlib\n",
    "\n",
    "text = \"hello world\"\n",
    "hash_object = hashlib.md5(text.encode())\n",
    "print(hash_object.hexdigest())"
   ]
  },
  {
   "cell_type": "code",
   "execution_count": 10,
   "metadata": {},
   "outputs": [
    {
     "name": "stdout",
     "output_type": "stream",
     "text": [
      "2aae6c35c94fcfb415dbe95f408b9ce91ee846ed\n"
     ]
    }
   ],
   "source": [
    "# hashlib SHA-1\n",
    "import hashlib\n",
    "\n",
    "text = \"hello world\"\n",
    "hash_object = hashlib.sha1(text.encode())\n",
    "print(hash_object.hexdigest())"
   ]
  },
  {
   "cell_type": "code",
   "execution_count": 11,
   "metadata": {},
   "outputs": [
    {
     "name": "stdout",
     "output_type": "stream",
     "text": [
      "b94d27b9934d3e08a52e52d7da7dabfac484efe37a5380ee9088f7ace2efcde9\n"
     ]
    }
   ],
   "source": [
    "# hashlib SHA-256\n",
    "import hashlib\n",
    "\n",
    "text = \"hello world\"\n",
    "hash_object = hashlib.sha256(text.encode())\n",
    "print(hash_object.hexdigest())"
   ]
  },
  {
   "cell_type": "code",
   "execution_count": 12,
   "metadata": {},
   "outputs": [
    {
     "name": "stdout",
     "output_type": "stream",
     "text": [
      "fdbd8e75a67f29f701a4e040385e2e23986303ea10239211af907fcbb83578b3e417cb71ce646efd0819dd8c088de1bd\n"
     ]
    }
   ],
   "source": [
    "# hashlib SHA-384\n",
    "import hashlib\n",
    "\n",
    "text = \"hello world\"\n",
    "hash_object = hashlib.sha384(text.encode())\n",
    "print(hash_object.hexdigest())"
   ]
  },
  {
   "cell_type": "code",
   "execution_count": 13,
   "metadata": {},
   "outputs": [
    {
     "name": "stdout",
     "output_type": "stream",
     "text": [
      "309ecc489c12d6eb4cc40f50c902f2b4d0ed77ee511a7c7a9bcd3ca86d4cd86f989dd35bc5ff499670da34255b45b0cfd830e81f605dcf7dc5542e93ae9cd76f\n"
     ]
    }
   ],
   "source": [
    "# hashlib SHA-512\n",
    "import hashlib\n",
    "\n",
    "text = \"hello world\"\n",
    "hash_object = hashlib.sha512(text.encode())\n",
    "print(hash_object.hexdigest())"
   ]
  },
  {
   "cell_type": "code",
   "execution_count": 15,
   "metadata": {},
   "outputs": [
    {
     "name": "stdout",
     "output_type": "stream",
     "text": [
      "10\n",
      "20\n",
      "30\n"
     ]
    }
   ],
   "source": [
    "# Seprate Chaining\n",
    "class node:\n",
    "    def __init__(self, key, value):\n",
    "        self.key = key\n",
    "        self.data = value\n",
    "        self.next = None\n",
    "\n",
    "class separateChainingHashTable:\n",
    "    def __init__(self, size):\n",
    "        self.size = size\n",
    "        self.table = [None] * size\n",
    "\n",
    "    def hashFunction(self, key):\n",
    "        return hash(key) % self.size\n",
    "\n",
    "    def insert(self, key, value):\n",
    "        index = self.hashFunction(key)\n",
    "        if self.table[index] == None:\n",
    "            self.table[index] = node(key, value)\n",
    "        else:\n",
    "            current = self.table[index]\n",
    "            while current.next != None:\n",
    "                current = current.next\n",
    "            current.next = node(key, value)\n",
    "\n",
    "    def search(self, key):\n",
    "        index = self.hashFunction(key)\n",
    "        current = self.table[index]\n",
    "        while current != None:\n",
    "            if current.key == key:\n",
    "                return current.data\n",
    "            current = current.next\n",
    "        return None\n",
    "# contoh penggunaan\n",
    "hashTable = separateChainingHashTable(10)\n",
    "hashTable.insert(\"apple\", 10)\n",
    "hashTable.insert(\"banana\", 20)\n",
    "hashTable.insert(\"orange\", 30)\n",
    "\n",
    "print(hashTable.search(\"apple\"))\n",
    "print(hashTable.search(\"banana\"))\n",
    "print(hashTable.search(\"orange\"))"
   ]
  },
  {
   "cell_type": "code",
   "execution_count": 16,
   "metadata": {},
   "outputs": [
    {
     "name": "stdout",
     "output_type": "stream",
     "text": [
      "10\n",
      "20\n",
      "30\n"
     ]
    }
   ],
   "source": [
    "# Open Addressing\n",
    "class openAddressHashTable:\n",
    "    def __init__(self, size):\n",
    "        self.size = size\n",
    "        self.table = [None] * size\n",
    "\n",
    "    def hashFunction(self, key):\n",
    "        return hash(key) % self.size\n",
    "\n",
    "    def insert(self, key, value):\n",
    "        index = self.hashFunction(key)\n",
    "        while self.table[index] != None:\n",
    "            index = (index + 1) % self.size\n",
    "        self.table[index] = node(key, value)\n",
    "\n",
    "    def search(self, key):\n",
    "        index = self.hashFunction(key)\n",
    "        while self.table[index] != None:\n",
    "            if self.table[index].key == key:\n",
    "                return self.table[index].data\n",
    "            index = (index + 1) % self.size\n",
    "        return None\n",
    "\n",
    "# contoh penggunaan\n",
    "hashTable = openAddressHashTable(10)\n",
    "hashTable.insert(\"apple\", 10)\n",
    "hashTable.insert(\"banana\", 20)\n",
    "hashTable.insert(\"orange\", 30)\n",
    "\n",
    "print(hashTable.search(\"apple\"))\n",
    "print(hashTable.search(\"banana\"))\n",
    "print(hashTable.search(\"orange\"))"
   ]
  },
  {
   "cell_type": "code",
   "execution_count": 17,
   "metadata": {},
   "outputs": [
    {
     "name": "stdout",
     "output_type": "stream",
     "text": [
      "[1, 2, 4, 6, 7, 8]\n"
     ]
    }
   ],
   "source": [
    "# Latihan\n",
    "\n",
    "def hash_sort(arr):\n",
    "    # Langkah 1: Buat array hash dengan ukuran (max_element)\n",
    "    max_element = max(arr)\n",
    "    hash_array = [0] * (max_element + 1)\n",
    "\n",
    "    # Langkah 2: Telusuri semua elemen dan hitung jumlah kemunculan elemen tertentu\n",
    "    for num in arr:\n",
    "        hash_array[num] += 1\n",
    "\n",
    "    # Langkah 3 dan 4: Lakukan iterasi dari 0 hingga max_element dalam array hash\n",
    "    # Jika nilai yang disimpan pada posisi hash mana pun lebih dari 0, cetak elemen tersebut\n",
    "    sorted_arr = []\n",
    "    for i in range(len(hash_array)):\n",
    "        if hash_array[i] > 0:\n",
    "            # Langkah 5: Hash[i] memiliki hitungan berapa kali suatu elemen ada dalam daftar\n",
    "            # Jadi ketika >0, akan mencetak berapa kali elemen tersebut\n",
    "            for _ in range(hash_array[i]):\n",
    "                sorted_arr.append(i)\n",
    "\n",
    "    return sorted_arr\n",
    "\n",
    "# Masukan\n",
    "arr = [8, 2, 4, 6, 7, 1]\n",
    "\n",
    "# Keluaran\n",
    "print(hash_sort(arr))  # Output: [1, 2, 4, 6, 7, 8]"
   ]
  },
  {
   "cell_type": "code",
   "execution_count": null,
   "metadata": {},
   "outputs": [],
   "source": []
  }
 ],
 "metadata": {
  "kernelspec": {
   "display_name": "Python 3",
   "language": "python",
   "name": "python3"
  },
  "language_info": {
   "codemirror_mode": {
    "name": "ipython",
    "version": 3
   },
   "file_extension": ".py",
   "mimetype": "text/x-python",
   "name": "python",
   "nbconvert_exporter": "python",
   "pygments_lexer": "ipython3",
   "version": "3.10.12"
  }
 },
 "nbformat": 4,
 "nbformat_minor": 2
}
