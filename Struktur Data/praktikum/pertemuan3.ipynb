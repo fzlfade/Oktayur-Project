{
 "cells": [
  {
   "cell_type": "code",
   "execution_count": 1,
   "metadata": {},
   "outputs": [
    {
     "name": "stdout",
     "output_type": "stream",
     "text": [
      "Initial stack\n",
      "['a', 'i', 'u', 'e', 'o']\n",
      "\n",
      "Elements popped from stack:\n",
      "o\n",
      "e\n",
      "u\n",
      "\n",
      "Stack after elements are popped:\n",
      "['a', 'i']\n"
     ]
    }
   ],
   "source": [
    "#stack dengan list\n",
    "stack = []\n",
    "\n",
    "#function to push element in the stack\n",
    "stack.append('a')\n",
    "stack.append('i')\n",
    "stack.append('u')\n",
    "stack.append('e')\n",
    "stack.append('o')\n",
    "\n",
    "print('Initial stack')\n",
    "print(stack)\n",
    "\n",
    "#pop() function to pop element from stack in LIFO order\n",
    "print('\\nElements popped from stack:')\n",
    "print(stack.pop())\n",
    "print(stack.pop())\n",
    "print(stack.pop())\n",
    "\n",
    "print('\\nStack after elements are popped:')\n",
    "print(stack)\n",
    "#uncommenting print(stack.pop()) will cause an IndexError as the stack is now empty"
   ]
  },
  {
   "cell_type": "code",
   "execution_count": 2,
   "metadata": {},
   "outputs": [
    {
     "name": "stdout",
     "output_type": "stream",
     "text": [
      "Initial stack:\n",
      "deque(['a', 'i', 'u', 'e', 'o'])\n",
      "\n",
      "Elements popped from stack:\n",
      "o\n",
      "e\n",
      "u\n",
      "\n",
      "Stack after elements are popped:\n",
      "deque(['a', 'i'])\n"
     ]
    }
   ],
   "source": [
    "#stack dengan collections.deque\n",
    "from collections import deque\n",
    "\n",
    "stack = deque()\n",
    "\n",
    "stack.append('a')\n",
    "stack.append('i')\n",
    "stack.append('u')\n",
    "stack.append('e')\n",
    "stack.append('o')\n",
    "\n",
    "print('Initial stack:')\n",
    "print(stack)\n",
    "\n",
    "print('\\nElements popped from stack:')\n",
    "print(stack.pop())\n",
    "print(stack.pop())\n",
    "print(stack.pop())\n",
    "\n",
    "print('\\nStack after elements are popped:')\n",
    "print(stack)"
   ]
  },
  {
   "cell_type": "code",
   "execution_count": 3,
   "metadata": {},
   "outputs": [
    {
     "name": "stdout",
     "output_type": "stream",
     "text": [
      "0\n",
      "Full:  True\n",
      "Size:  5\n",
      "\n",
      "Elements popped from the stack\n",
      "o\n",
      "e\n",
      "u\n",
      "\n",
      "Empty:  False\n"
     ]
    }
   ],
   "source": [
    "#Stack dengan queue.LifoQueue \n",
    "from queue import LifoQueue\n",
    "\n",
    "stack = LifoQueue(maxsize = 5)\n",
    "\n",
    "print(stack.qsize())\n",
    "\n",
    "stack.put('a')\n",
    "stack.put('i')\n",
    "stack.put('u')\n",
    "stack.put('e')\n",
    "stack.put('o')\n",
    "\n",
    "print('Full: ', stack.full())\n",
    "print('Size: ', stack.qsize())\n",
    "\n",
    "print('\\nElements popped from the stack')\n",
    "print(stack.get())\n",
    "print(stack.get())\n",
    "print(stack.get())\n",
    "\n",
    "print('\\nEmpty: ', stack.empty())"
   ]
  },
  {
   "cell_type": "code",
   "execution_count": 6,
   "metadata": {},
   "outputs": [
    {
     "name": "stdout",
     "output_type": "stream",
     "text": [
      "Stack: 10->9->8->7->6->5->4->3->2->1\n",
      "Pop: 10\n",
      "Pop: 9\n",
      "Pop: 8\n",
      "Pop: 7\n",
      "Pop: 6\n",
      "Stack: 5->4->3->2->1\n"
     ]
    }
   ],
   "source": [
    "#stack dengan singel linked list\n",
    "class Node:\n",
    "    def __init__(self, value):\n",
    "        self.value = value\n",
    "        self.next = None\n",
    "\n",
    "class Stack:\n",
    "    #menginisialisasi stack\n",
    "    def __init__(self):\n",
    "        self.head = Node(\"head\")\n",
    "        self.size = 0\n",
    "    \n",
    "    #string merepresentasikan stack\n",
    "    def __str__(self):\n",
    "        cur = self.head.next\n",
    "        out = \"\"\n",
    "        while cur:\n",
    "            out += str(cur.value) + \"->\"\n",
    "            cur = cur.next\n",
    "        return out[:-2]\n",
    "    \n",
    "    #mendapatkan panjang stack\n",
    "    def getSize(self):\n",
    "        return self.size\n",
    "    \n",
    "    #mengecek apakah stack kosong\n",
    "    def isEmpty(self):\n",
    "        return self.size == 0\n",
    "    \n",
    "    #mendapatkan elemen teratas dari stack\n",
    "    def peek(self):\n",
    "        if self.isEmpty():\n",
    "            raise Exception(\"Peeking from an empty stack\")\n",
    "        return self.head.next.value\n",
    "    \n",
    "    #menambahkan elemen ke stack\n",
    "    def push(self, value):\n",
    "        node = Node(value)\n",
    "        node.next = self.head.next\n",
    "        self.head.next = node\n",
    "        self.size += 1\n",
    "\n",
    "    #menghapus elemen dari stack\n",
    "    def pop(self):\n",
    "        if self.isEmpty():\n",
    "            raise Exception(\"Popping from an empty stack\")\n",
    "        remove = self.head.next\n",
    "        self.head.next = self.head.next.next\n",
    "        self.size -= 1\n",
    "        return remove.value\n",
    "    \n",
    "#menjalankan kode\n",
    "if __name__ == \"__main__\":\n",
    "    stack = Stack()\n",
    "    for i in range(1, 11):\n",
    "        stack.push(i)\n",
    "    print(f\"Stack: {stack}\")\n",
    "    \n",
    "    for _ in range(1, 6):\n",
    "        remove = stack.pop()\n",
    "        print(f\"Pop: {remove}\")\n",
    "    print(f\"Stack: {stack}\")\n",
    "\n",
    "    "
   ]
  }
 ],
 "metadata": {
  "kernelspec": {
   "display_name": "Python 3",
   "language": "python",
   "name": "python3"
  },
  "language_info": {
   "codemirror_mode": {
    "name": "ipython",
    "version": 3
   },
   "file_extension": ".py",
   "mimetype": "text/x-python",
   "name": "python",
   "nbconvert_exporter": "python",
   "pygments_lexer": "ipython3",
   "version": "3.10.13"
  }
 },
 "nbformat": 4,
 "nbformat_minor": 2
}
