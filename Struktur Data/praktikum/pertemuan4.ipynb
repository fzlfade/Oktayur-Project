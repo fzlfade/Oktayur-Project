{
 "cells": [
  {
   "cell_type": "code",
   "execution_count": 1,
   "metadata": {},
   "outputs": [
    {
     "name": "stdout",
     "output_type": "stream",
     "text": [
      "instal queue\n",
      "['a', 'i', 'u', 'e', 'o']\n",
      "\n",
      "Element dequeue form queue:\n",
      "a\n",
      "i\n",
      "u\n",
      "\n",
      "Queue after removing elements:\n",
      "['e', 'o']\n"
     ]
    }
   ],
   "source": [
    "# Queue dengan list\n",
    "\n",
    "queue = []\n",
    "\n",
    "queue.append('a')\n",
    "queue.append('i')\n",
    "queue.append('u')\n",
    "queue.append('e')\n",
    "queue.append('o')\n",
    "\n",
    "print('instal queue')\n",
    "print(queue)\n",
    "\n",
    "print('\\nElement dequeue form queue:')\n",
    "print(queue.pop(0))\n",
    "print(queue.pop(0))\n",
    "print(queue.pop(0))\n",
    "\n",
    "print('\\nQueue after removing elements:')\n",
    "print(queue)"
   ]
  },
  {
   "cell_type": "code",
   "execution_count": 2,
   "metadata": {},
   "outputs": [
    {
     "name": "stdout",
     "output_type": "stream",
     "text": [
      "Initial queue:\n",
      "['e', 'o', 'a', 'i', 'u', 'e', 'o']\n",
      "\n",
      "Elements dequeue from the queue:\n",
      "o\n",
      "e\n",
      "u\n",
      "\n",
      "Queue after removing elements:\n",
      "['e', 'o', 'a', 'i']\n"
     ]
    }
   ],
   "source": [
    "# Queue dengan collections.deque\n",
    "\n",
    "from collections import deque\n",
    "\n",
    "queue.append('a')\n",
    "queue.append('i')\n",
    "queue.append('u')\n",
    "queue.append('e')\n",
    "queue.append('o')\n",
    "\n",
    "print('Initial queue:')\n",
    "print(queue)\n",
    "\n",
    "print('\\nElements dequeue from the queue:')\n",
    "print(queue.pop())\n",
    "print(queue.pop())\n",
    "print(queue.pop())\n",
    "\n",
    "print('\\nQueue after removing elements:')\n",
    "print(queue)"
   ]
  },
  {
   "cell_type": "code",
   "execution_count": 3,
   "metadata": {},
   "outputs": [
    {
     "name": "stdout",
     "output_type": "stream",
     "text": [
      "0\n",
      "Full:  True\n",
      "Size:  5\n",
      "\n",
      "Elements dequeued from the queue\n",
      "a\n",
      "i\n",
      "u\n",
      "\n",
      "Empty:  False\n",
      "Full: False\n"
     ]
    }
   ],
   "source": [
    "# Queue dengan queue.LifoQueue\n",
    "\n",
    "from queue import Queue\n",
    "\n",
    "qu = Queue(maxsize = 5)\n",
    "\n",
    "print(qu.qsize())\n",
    "\n",
    "qu.put('a')\n",
    "qu.put('i')\n",
    "qu.put('u')\n",
    "qu.put('e')\n",
    "qu.put('o')\n",
    "\n",
    "print('Full: ', qu.full())\n",
    "print('Size: ', qu.qsize())\n",
    "\n",
    "print('\\nElements dequeued from the queue')\n",
    "print(qu.get())\n",
    "print(qu.get())\n",
    "print(qu.get())\n",
    "\n",
    "print('\\nEmpty: ', qu.empty())\n",
    "print(\"Full:\", qu.full())"
   ]
  },
  {
   "cell_type": "code",
   "execution_count": 4,
   "metadata": {},
   "outputs": [
    {
     "name": "stdout",
     "output_type": "stream",
     "text": [
      "0\n",
      "Full:  True\n",
      "Size:  5\n",
      "\n",
      "Elements dequeued from the queue\n",
      "a\n",
      "i\n",
      "u\n",
      "\n",
      "Empty:  False\n",
      "Full: False\n"
     ]
    }
   ],
   "source": [
    "# Queue dengan queue.Queue\n",
    "\n",
    "from queue import Queue\n",
    "\n",
    "qu = Queue(maxsize = 5)\n",
    "\n",
    "print(qu.qsize())\n",
    "\n",
    "qu.put('a')\n",
    "qu.put('i')\n",
    "qu.put('u')\n",
    "qu.put('e')\n",
    "qu.put('o')\n",
    "\n",
    "print('Full: ', qu.full())\n",
    "print('Size: ', qu.qsize())\n",
    "\n",
    "print('\\nElements dequeued from the queue')\n",
    "print(qu.get())\n",
    "print(qu.get())\n",
    "print(qu.get())\n",
    "\n",
    "print('\\nEmpty: ', qu.empty())\n",
    "print(\"Full:\", qu.full())"
   ]
  },
  {
   "cell_type": "code",
   "execution_count": 5,
   "metadata": {},
   "outputs": [
    {
     "name": "stdout",
     "output_type": "stream",
     "text": [
      "4\n",
      "Jan\n",
      "Feb\n",
      "2\n"
     ]
    }
   ],
   "source": [
    "# Queue dengan Singel Linked List\n",
    "\n",
    "class Queue:\n",
    "    def __init__(self):\n",
    "        self.queue = list()\n",
    "\n",
    "    def addtoqu(self, dataval):\n",
    "        if dataval not in self.queue:\n",
    "            self.queue.insert(0, dataval)\n",
    "            return True\n",
    "        return False\n",
    "\n",
    "    def removefromqu(self):\n",
    "        if len(self.queue) > 0:\n",
    "            return self.queue.pop()\n",
    "        return (\"No elements in Queue!\")\n",
    "\n",
    "    def size(self):\n",
    "        return len(self.queue)\n",
    "\n",
    "TheQueue = Queue()\n",
    "TheQueue.addtoqu(\"Jan\")\n",
    "TheQueue.addtoqu(\"Feb\")\n",
    "TheQueue.addtoqu(\"March\")\n",
    "TheQueue.addtoqu(\"April\")\n",
    "print(TheQueue.size())\n",
    "print(TheQueue.removefromqu())\n",
    "print(TheQueue.removefromqu())\n",
    "print(TheQueue.size())"
   ]
  }
 ],
 "metadata": {
  "kernelspec": {
   "display_name": "Python 3",
   "language": "python",
   "name": "python3"
  },
  "language_info": {
   "codemirror_mode": {
    "name": "ipython",
    "version": 3
   },
   "file_extension": ".py",
   "mimetype": "text/x-python",
   "name": "python",
   "nbconvert_exporter": "python",
   "pygments_lexer": "ipython3",
   "version": "3.11.5"
  }
 },
 "nbformat": 4,
 "nbformat_minor": 2
}
