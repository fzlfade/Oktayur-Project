{
 "cells": [
  {
   "cell_type": "code",
   "execution_count": 48,
   "metadata": {},
   "outputs": [
    {
     "name": "stdout",
     "output_type": "stream",
     "text": [
      "the new created array is :  1 2 3 \n",
      "the new created array is :  2.5 3.2 3.3 \n"
     ]
    }
   ],
   "source": [
    "# Membuat Array\n",
    "import array as arr\n",
    "\n",
    "a = arr.array('i', [1, 2, 3])\n",
    "print('the new created array is : ', end = ' ')\n",
    "for i in range(0, 3):\n",
    "    print(a[i], end = ' ')\n",
    "print()\n",
    "\n",
    "b = arr.array('d', [2.5, 3.2, 3.3])\n",
    "print('the new created array is : ', end = ' ')\n",
    "for i in range(0, 3):\n",
    "    print(b[i], end = ' ')\n",
    "print()\n"
   ]
  },
  {
   "cell_type": "code",
   "execution_count": 1,
   "metadata": {},
   "outputs": [
    {
     "name": "stdout",
     "output_type": "stream",
     "text": [
      "the new created array is :  1 2 3 \n",
      "array after insertion is :  1 4 2 3 \n",
      "the new created array is :  2.5 3.2 3.3 \n",
      "array after inserttion is :  1 4 2 3 \n"
     ]
    }
   ],
   "source": [
    "# Menambahkan Elemen ke Array\n",
    "import array as arr\n",
    "\n",
    "a = arr.array('i', [1, 2, 3])\n",
    "print('the new created array is : ', end = ' ')\n",
    "for i in range(0, 3):\n",
    "    print(a[i], end = ' ')\n",
    "print()\n",
    "a.insert(1, 4)\n",
    "print('array after insertion is : ', end = ' ')\n",
    "for i in (a):\n",
    "    print(i, end = ' ')\n",
    "print()\n",
    "\n",
    "b = arr.array('d', [2.5, 3.2, 3.3])\n",
    "print('the new created array is : ', end = ' ')\n",
    "for i in range(0, 3):\n",
    "    print(b[i], end = ' ')\n",
    "print()\n",
    "b.append(4.4)\n",
    "print('array after inserttion is : ', end = ' ')\n",
    "for i in (a):\n",
    "    print(i, end = ' ')\n",
    "print()\n"
   ]
  },
  {
   "cell_type": "code",
   "execution_count": 47,
   "metadata": {},
   "outputs": [
    {
     "name": "stdout",
     "output_type": "stream",
     "text": [
      "Access element is:  1\n",
      "Access element is:  4\n",
      "Access element is:  3.2\n",
      "Access element is:  3.3\n"
     ]
    }
   ],
   "source": [
    "# Mengakses Elemen dari Array\n",
    "import array as arr \n",
    "a = arr.array('i', [1, 2, 3, 4, 5, 6]) \n",
    "print(\"Access element is: \", a[0]) \n",
    "print(\"Access element is: \", a[3]) \n",
    "\n",
    "b = arr.array('d', [2.5, 3.2, 3.3]) \n",
    "print(\"Access element is: \", b[1]) \n",
    "print(\"Access element is: \", b[2])"
   ]
  },
  {
   "cell_type": "code",
   "execution_count": 46,
   "metadata": {},
   "outputs": [
    {
     "name": "stdout",
     "output_type": "stream",
     "text": [
      "The new created array is :  1 2 3 1 5 \n",
      "The popped element is :  3\n",
      "The array after popping is :  1 2 1 5 \n",
      "The array after removing is :  2 1 5 "
     ]
    }
   ],
   "source": [
    "# Menghapus Elemen Array \n",
    "import array\n",
    "\n",
    "arr = array.array('i', [1, 2, 3, 1, 5])\n",
    "\n",
    "print(\"The new created array is : \", end=\" \")\n",
    "for i in range(0, 5):\n",
    "    print(arr[i], end=\" \")\n",
    "print(\"\\r\")\n",
    "\n",
    "print(\"The popped element is : \", end=\" \")\n",
    "print(arr.pop(2))\n",
    "\n",
    "print(\"The array after popping is : \", end=\" \")\n",
    "for i in range(0, 4):\n",
    "    print(arr[i], end=\" \")\n",
    "print(\"\\r\")\n",
    "\n",
    "arr.remove(1)\n",
    "\n",
    "print(\"The array after removing is : \", end=\" \")\n",
    "for i in range(0, 3):\n",
    "    print(arr[i], end=\" \")"
   ]
  },
  {
   "cell_type": "code",
   "execution_count": 39,
   "metadata": {},
   "outputs": [
    {
     "name": "stdout",
     "output_type": "stream",
     "text": [
      "Initial Array : \n",
      "1 2 3 4 5 6 7 8 9 10 \n",
      "Slicing elements in a range 3-8 : \n",
      "array('i', [4, 5, 6, 7, 8])\n",
      "\n",
      "Elements sliced from 5th element till the end : \n",
      "array('i', [6, 7, 8, 9, 10])\n",
      "\n",
      "Printing all elements using slice operation : \n",
      "array('i', [1, 2, 3, 4, 5, 6, 7, 8, 9, 10])\n"
     ]
    }
   ],
   "source": [
    "# Pemotongan Array \n",
    "import array as arr\n",
    "l = [1, 2, 3, 4, 5, 6, 7, 8, 9, 10]\n",
    "a = arr.array('i', l)\n",
    "print(\"Initial Array : \")\n",
    "for i in (a):\n",
    "    print(i, end=\" \")\n",
    "\n",
    "Sliced_array = a[3:8]\n",
    "print(\"\\nSlicing elements in a range 3-8 : \")\n",
    "print(Sliced_array)\n",
    "\n",
    "Sliced_array = a[5:]\n",
    "print(\"\\nElements sliced from 5th \"\n",
    "\"element till the end : \")\n",
    "print(Sliced_array)\n",
    "\n",
    "Sliced_array = a[:]\n",
    "print(\"\\nPrinting all elements using slice operation : \")\n",
    "print(Sliced_array)"
   ]
  },
  {
   "cell_type": "code",
   "execution_count": 43,
   "metadata": {},
   "outputs": [
    {
     "name": "stdout",
     "output_type": "stream",
     "text": [
      "Array before updation :  1 2 3 1 2 5 \n",
      "\n",
      "Array after updation :  1 2 6 1 2 5 \n",
      "Array after updation :  1 2 6 1 8 5 "
     ]
    }
   ],
   "source": [
    "# Mengubah Elemen dalam Array \n",
    "import array\n",
    "arr = array.array('i', [1, 2, 3, 1, 2, 5])  \n",
    "\n",
    "print(\"Array before updation : \", end=\" \")\n",
    "for i in range(0, 6):\n",
    "    print(arr[i], end=\" \")\n",
    "print(\"\\n\")\n",
    "\n",
    "arr[2] = 6\n",
    "print(\"Array after updation : \", end=\" \")\n",
    "for i in range(0, 6):\n",
    "    print(arr[i], end=\" \")\n",
    "print()\n",
    "\n",
    "arr[4] = 8\n",
    "print(\"Array after updation : \", end=\" \")\n",
    "for i in range(0, 6):\n",
    "    print(arr[i], end=\" \")"
   ]
  },
  {
   "cell_type": "code",
   "execution_count": 29,
   "metadata": {},
   "outputs": [
    {
     "name": "stdout",
     "output_type": "stream",
     "text": [
      "Number of occurrences of 2 :  3\n"
     ]
    }
   ],
   "source": [
    "#Menghitung elemen array\n",
    "import array\n",
    "my_array = array.array('i', [1, 2, 3, 4, 2, 5, 2])\n",
    "\n",
    "count = my_array.count(2)\n",
    "print(\"Number of occurrences of 2 : \", count)"
   ]
  },
  {
   "cell_type": "code",
   "execution_count": 44,
   "metadata": {},
   "outputs": [
    {
     "name": "stdout",
     "output_type": "stream",
     "text": [
      "Number of occurrences of 2 :  3\n",
      "Original array :  1 2 3 4 2 5 2\n",
      "Reversed array :  2 5 2 4 3 2 1\n"
     ]
    }
   ],
   "source": [
    "# Membalik Elemen dalam Array\n",
    "import array\n",
    "my_array = array.array('i', [1, 2, 3, 4, 2, 5, 2])\n",
    "\n",
    "count = my_array.count(2)\n",
    "print(\"Number of occurrences of 2 : \", count)\n",
    "\n",
    "print(\"Original array : \", *my_array)\n",
    "my_array.reverse()\n",
    "print(\"Reversed array : \", *my_array)"
   ]
  },
  {
   "cell_type": "code",
   "execution_count": 30,
   "metadata": {},
   "outputs": [
    {
     "name": "stdout",
     "output_type": "stream",
     "text": [
      "The before array extend :  1 2 3 4 5 \n",
      "\n",
      "The array after extend : 1 2 3 4 5 6 7 8 9 10 \n"
     ]
    }
   ],
   "source": [
    "# Extending Elemen dalam Array 1\n",
    "import array as arr\n",
    "a = arr.array('i', [1, 2, 3,4,5])\n",
    "\n",
    "print(\"The before array extend : \", end=\" \")\n",
    "for i in range (0, 5):\n",
    "    print (a[i], end=\" \")\n",
    "print()\n",
    "\n",
    "a.extend([6,7,8,9,10]) \n",
    "print(\"\\nThe array after extend : \", end=\"\")\n",
    "for i in range(0,10):\n",
    "    print(a[i], end=\" \")\n",
    "print()"
   ]
  },
  {
   "cell_type": "code",
   "execution_count": 38,
   "metadata": {},
   "outputs": [
    {
     "name": "stdout",
     "output_type": "stream",
     "text": [
      "The Before extend array is :  1 2 3 4 5 6 \n",
      "\n",
      "The After extend array is :  1 2 3 4 5 6 17 8 9 10 11 12 \n",
      "\n",
      "The before extend array is :  2.1 2.2 2.3 2.4 2.5 2.6 \n",
      "\n",
      "The after extend array is :  2.1 2.2 2.3 2.4 2.5 2.6 2.6 2.7 2.8 2.9 \n"
     ]
    }
   ],
   "source": [
    "# Extending Elemen dalam Array 2\n",
    "import array as arr\n",
    "a=arr.array('i',[1,2,3,4,5,6])\n",
    "\n",
    "print(\"The Before extend array is : \", end=\" \")\n",
    "for i in range(0,6):\n",
    "    print(a[i], end=\" \")\n",
    "print()\n",
    "\n",
    "a.extend([17,8,9,10,11,12])\n",
    "print(\"\\nThe After extend array is : \", end=\" \")\n",
    "for i in range(0,12):\n",
    "    print(a[i], end=\" \")\n",
    "print()\n",
    "\n",
    "b = arr.array('d', [2.1,2.2,2.3,2.4,2.5,2.6])\n",
    "print(\"\\nThe before extend array is : \", end=\" \")\n",
    "for i in range(0,6):\n",
    "    print(b[i], end=\" \")\n",
    "print()\n",
    "\n",
    "b.extend([2.6, 2.7,2.8,2.9])\n",
    "print(\"\\nThe after extend array is : \", end=\" \")\n",
    "for i in range(0,9+1):\n",
    "    print(b[i], end=\" \")\n",
    "print()"
   ]
  },
  {
   "cell_type": "code",
   "execution_count": null,
   "metadata": {},
   "outputs": [],
   "source": []
  }
 ],
 "metadata": {
  "kernelspec": {
   "display_name": "Python 3",
   "language": "python",
   "name": "python3"
  },
  "language_info": {
   "codemirror_mode": {
    "name": "ipython",
    "version": 3
   },
   "file_extension": ".py",
   "mimetype": "text/x-python",
   "name": "python",
   "nbconvert_exporter": "python",
   "pygments_lexer": "ipython3",
   "version": "3.10.13"
  }
 },
 "nbformat": 4,
 "nbformat_minor": 2
}
