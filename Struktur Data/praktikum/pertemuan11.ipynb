{
 "cells": [
  {
   "cell_type": "code",
   "execution_count": 2,
   "metadata": {},
   "outputs": [
    {
     "name": "stdout",
     "output_type": "stream",
     "text": [
      "the following activities are selected\n",
      "0\n",
      "1\n",
      "3\n",
      "4\n"
     ]
    }
   ],
   "source": [
    "# Algoritma Greedy\n",
    "\n",
    "def printMaxActivities(s, f):\n",
    "  n = len(f)\n",
    "  print(\"the following activities are selected\")\n",
    "  i = 0\n",
    "  print(i)\n",
    "  for j in range(n):\n",
    "    if s[j] >= f[i]:\n",
    "      print(j)\n",
    "      i = j\n",
    "\n",
    "s = [1, 3, 0, 5, 8, 5]\n",
    "f = [2, 4, 6, 7, 9, 9]\n",
    "printMaxActivities(s, f)"
   ]
  },
  {
   "cell_type": "code",
   "execution_count": 3,
   "metadata": {},
   "outputs": [
    {
     "name": "stdout",
     "output_type": "stream",
     "text": [
      "maximum value that can be obtained is 220\n"
     ]
    }
   ],
   "source": [
    "# Knapsack (0/1) dengan pemrograman dinamis\n",
    "def knapsack(wt, val, W, n):\n",
    "  if n == 0 or W == 0:\n",
    "    return 0\n",
    "  if t[n][W] != -1:\n",
    "    return t[n][W]\n",
    "  \n",
    "  if wt[n-1] <= W:\n",
    "    t[n][W] = max(\n",
    "      val[n-1] + knapsack(wt, val, W-wt[n-1], n-1),\n",
    "      knapsack(wt, val, W, n-1)\n",
    "    ); return t[n][W]\n",
    "  elif wt[n-1] > W:\n",
    "    t[n][W] = knapsack(wt, val, W, n-1)\n",
    "    return t[n][W]\n",
    "  \n",
    "if __name__ == \"__main__\":\n",
    "  profit = [60, 100, 120]\n",
    "  weight = [10, 20, 30]\n",
    "  W = 50\n",
    "  n = len(profit)\n",
    "  t = [[-1 for i in range(W+1)] for j in range(n+1)]\n",
    "  print(\"maximum value that can be obtained is\", knapsack(weight, profit, W, n))"
   ]
  },
  {
   "cell_type": "code",
   "execution_count": 4,
   "metadata": {},
   "outputs": [
    {
     "name": "stdout",
     "output_type": "stream",
     "text": [
      "maximum value that can be obtained is 240.0\n"
     ]
    }
   ],
   "source": [
    "# Knapsack Pecahan dengan Algoritma Greedy\n",
    "class Item:\n",
    "  def __init__(self, weight, value):\n",
    "    self.weight = weight\n",
    "    self.value = value\n",
    "    self.ratio = value / weight\n",
    "\n",
    "def fractional_knapsack(items, capacity):\n",
    "  items.sort(key = lambda x: x.ratio, reverse = True)\n",
    "  total_value = 0\n",
    "  remaining_capacity = capacity\n",
    "  for item in items:\n",
    "    if remaining_capacity <= 0:\n",
    "      break\n",
    "    fraction = min(1, remaining_capacity / item.weight)\n",
    "    total_value += fraction * item.value\n",
    "    remaining_capacity -= fraction * item.weight\n",
    "  return round(total_value, 2)\n",
    "\n",
    "items = [Item(10, 60), Item(20, 100), Item(30, 120)]\n",
    "capacity = 50\n",
    "print(\"maximum value that can be obtained is\", fractional_knapsack(items, capacity))"
   ]
  },
  {
   "cell_type": "code",
   "execution_count": null,
   "metadata": {},
   "outputs": [],
   "source": [
    "# Latihan 1\n",
    "'''\n",
    "Pengurutan:\n",
    "-Halaman 4-5: Tidak ada pengurutan.\n",
    "-Kode pada Gambar: Mengurutkan aktivitas berdasarkan waktu selesai.\n",
    "\n",
    "Data:\n",
    "-Halaman 4-5: Menggunakan dua daftar (s dan f).\n",
    "-Kode pada Gambar: Menggunakan dictionary (data).\n",
    "\n",
    "Output:\n",
    "-Halaman 4-5: Mencetak indeks aktivitas.\n",
    "-Kode pada Gambar: Mencetak nama aktivitas.\n",
    "'''"
   ]
  },
  {
   "cell_type": "code",
   "execution_count": 19,
   "metadata": {},
   "outputs": [
    {
     "name": "stdout",
     "output_type": "stream",
     "text": [
      "2\n",
      "4\n"
     ]
    }
   ],
   "source": [
    "# Latihan 2\n",
    "def binPacking(berat, c):\n",
    "    berat.sort(reverse=True)\n",
    "    bins = [c] * len(berat)\n",
    "    jumlah_bin = 0\n",
    "\n",
    "    for i in range(len(berat)):\n",
    "        j = 0\n",
    "\n",
    "        while(j < jumlah_bin):\n",
    "            if bins[j] >= berat[i]:\n",
    "                bins[j] -= berat[i]\n",
    "                break\n",
    "            j += 1\n",
    "\n",
    "        if j == jumlah_bin:\n",
    "            bins[jumlah_bin] -= berat[i]\n",
    "            jumlah_bin += 1\n",
    "\n",
    "    return jumlah_bin\n",
    "\n",
    "berat = [4, 8, 1, 4, 2, 1]\n",
    "c = 10\n",
    "print(binPacking(berat, c))  # Output: 2\n",
    "\n",
    "berat = [9, 8, 2, 2, 5, 4]\n",
    "c = 10\n",
    "print(binPacking(berat, c))  # Output: 4"
   ]
  }
 ],
 "metadata": {
  "kernelspec": {
   "display_name": "Python 3",
   "language": "python",
   "name": "python3"
  },
  "language_info": {
   "codemirror_mode": {
    "name": "ipython",
    "version": 3
   },
   "file_extension": ".py",
   "mimetype": "text/x-python",
   "name": "python",
   "nbconvert_exporter": "python",
   "pygments_lexer": "ipython3",
   "version": "3.10.13"
  }
 },
 "nbformat": 4,
 "nbformat_minor": 2
}
