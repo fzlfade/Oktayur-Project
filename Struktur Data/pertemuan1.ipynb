{
 "cells": [
  {
   "cell_type": "code",
   "execution_count": 3,
   "metadata": {},
   "outputs": [
    {
     "name": "stdout",
     "output_type": "stream",
     "text": [
      "the new created array is :  1 2 3 \n",
      "the new created array is :  2.5 3.2 3.3 \n"
     ]
    }
   ],
   "source": [
    "# weekly exercise 1\n",
    "import array as arr\n",
    "\n",
    "a = arr.array('i', [1, 2, 3])\n",
    "print('the new created array is : ', end = ' ')\n",
    "for i in range(0, 3):\n",
    "    print(a[i], end = ' ')\n",
    "print()\n",
    "\n",
    "b = arr.array('d', [2.5, 3.2, 3.3])\n",
    "print('the new created array is : ', end = ' ')\n",
    "for i in range(0, 3):\n",
    "    print(b[i], end = ' ')\n",
    "print()\n"
   ]
  }
 ],
 "metadata": {
  "kernelspec": {
   "display_name": "Python 3",
   "language": "python",
   "name": "python3"
  },
  "language_info": {
   "codemirror_mode": {
    "name": "ipython",
    "version": 3
   },
   "file_extension": ".py",
   "mimetype": "text/x-python",
   "name": "python",
   "nbconvert_exporter": "python",
   "pygments_lexer": "ipython3",
   "version": "3.10.13"
  }
 },
 "nbformat": 4,
 "nbformat_minor": 2
}
