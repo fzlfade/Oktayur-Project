{
 "cells": [
  {
   "cell_type": "markdown",
   "metadata": {
    "id": "fZwnCCONa4RV"
   },
   "source": [
    "#<h1>Python - Writing Your First Python Code!</h1>"
   ]
  },
  {
   "cell_type": "markdown",
   "metadata": {
    "id": "KkWeDYrGa4RW"
   },
   "source": [
    "<p><strong>Welcome!</strong> This notebook will teach you the basics of the Python programming language. Although the information presented here is quite basic, it is an important foundation that will help you read and write Python code. By the end of this notebook, you'll know the basics of Python.</p>"
   ]
  },
  {
   "cell_type": "markdown",
   "metadata": {
    "id": "cDv65PD8a4Ra"
   },
   "source": [
    "#<h2 id=\"hello\">Say \"Hello\" to the world in Python</h2>"
   ]
  },
  {
   "cell_type": "markdown",
   "metadata": {
    "id": "rmgZ9cwla4Rb"
   },
   "source": [
    "When learning a new programming language, it is customary to start with an \"hello world\" example. As simple as it is, this one line of code will ensure that we know how to print a string in output and how to execute code within cells in a notebook."
   ]
  },
  {
   "cell_type": "markdown",
   "metadata": {
    "id": "LM6-SSIMa4Rc"
   },
   "source": [
    "<hr/>\n",
    "<div class=\"alert alert-success alertsuccess\" style=\"margin-top: 20px\">\n",
    "[Tip]: To execute the Python code in the code cell below, click on the cell to select it and press <kbd>Shift</kbd> + <kbd>Enter</kbd>.\n",
    "</div>\n",
    "<hr/>"
   ]
  },
  {
   "cell_type": "code",
   "execution_count": 1,
   "metadata": {
    "id": "SdaDe0qYa4Rd"
   },
   "outputs": [
    {
     "name": "stdout",
     "output_type": "stream",
     "text": [
      "Hello, Python!\n"
     ]
    }
   ],
   "source": [
    "# Try your first Python output\n",
    "\n",
    "print('Hello, Python!')"
   ]
  },
  {
   "cell_type": "markdown",
   "metadata": {
    "id": "0lM4-cfUa4Ri"
   },
   "source": [
    "After executing the cell above, you should see that Python prints <code>Hello, Python!</code>. Congratulations on running your first Python code!"
   ]
  },
  {
   "cell_type": "markdown",
   "metadata": {
    "id": "cFvzKwNea4Rj"
   },
   "source": [
    "<hr/>\n",
    "<div class=\"alert alert-success alertsuccess\" style=\"margin-top: 20px\">\n",
    "    [Tip:] <code>print()</code> is a function. You passed the string <code>'Hello, Python!'</code> as an argument to instruct Python on what to print.\n",
    "</div>\n",
    "<hr/>"
   ]
  },
  {
   "cell_type": "code",
   "execution_count": 2,
   "metadata": {
    "id": "-VBq_ZIOKjiX"
   },
   "outputs": [],
   "source": [
    "# Try to display \"Teknologi Informasi - Universitas Tidar\"\n"
   ]
  },
  {
   "cell_type": "markdown",
   "metadata": {
    "id": "dtPRm_R9a4Rk"
   },
   "source": [
    "## <h3 id=\"version\">What version of Python are we using?</h3>"
   ]
  },
  {
   "cell_type": "markdown",
   "metadata": {
    "id": "xGHWVMmVa4Rl"
   },
   "source": [
    "<p>\n",
    "    There are two popular versions of the Python programming language in use today: Python 2 and Python 3. The Python community has decided to move on from Python 2 to Python 3, and many popular libraries have announced that they will no longer support Python 2.\n",
    "</p>\n",
    "<p>\n",
    "    Since Python 3 is the future, in this course we will be using it exclusively. How do we know that our notebook is executed by a Python 3 runtime? We can look in the top-right hand corner of this notebook and see \"Python 3\".\n",
    "</p>\n",
    "<p>\n",
    "    We can also ask directly Python and obtain a detailed answer. Try executing the following code:\n",
    "</p>"
   ]
  },
  {
   "cell_type": "code",
   "execution_count": 3,
   "metadata": {
    "id": "wTbqkPEja4Rl"
   },
   "outputs": [
    {
     "name": "stdout",
     "output_type": "stream",
     "text": [
      "3.10.7 (tags/v3.10.7:6cc6b13, Sep  5 2022, 14:08:36) [MSC v.1933 64 bit (AMD64)]\n"
     ]
    }
   ],
   "source": [
    "# Check the Python Version\n",
    "\n",
    "import sys\n",
    "print(sys.version)"
   ]
  },
  {
   "cell_type": "markdown",
   "metadata": {
    "id": "cU9_GXE-a4Rp"
   },
   "source": [
    "<hr/>\n",
    "<div class=\"alert alert-success alertsuccess\" style=\"margin-top: 20px\">\n",
    "    [Tip:] <code>sys</code> is a built-in module that contains many system-specific parameters and functions, including the Python version in use. Before using it, we must explictly <code>import</code> it.\n",
    "</div>\n",
    "<hr/>"
   ]
  },
  {
   "cell_type": "markdown",
   "metadata": {
    "id": "jmKxbLUva4Rp"
   },
   "source": [
    "## <h3 id=\"comments\">Writing comments in Python</h3>"
   ]
  },
  {
   "cell_type": "markdown",
   "metadata": {
    "id": "-Hhtc76Ha4Rq"
   },
   "source": [
    "<p>\n",
    "    In addition to writing code, note that it's always a good idea to add comments to your code. It will help others understand what you were trying to accomplish (the reason why you wrote a given snippet of code). Not only does this help <strong>other people</strong> understand your code, it can also serve as a reminder <strong>to you</strong> when you come back to it weeks or months later.</p>\n",
    "\n",
    "<p>\n",
    "    To write comments in Python, use the number symbol <code>#</code> before writing your comment. When you run your code, Python will ignore everything past the <code>#</code> on a given line.\n",
    "</p>"
   ]
  },
  {
   "cell_type": "code",
   "execution_count": 4,
   "metadata": {
    "id": "Z0_yzsy2a4Rr"
   },
   "outputs": [
    {
     "name": "stdout",
     "output_type": "stream",
     "text": [
      "Hello, Python!\n"
     ]
    }
   ],
   "source": [
    "# Practice on writing comments\n",
    "\n",
    "print('Hello, Python!') # This line prints a string\n",
    "# print('Hi')"
   ]
  },
  {
   "cell_type": "markdown",
   "metadata": {
    "id": "2JaAEuwLa4Ru"
   },
   "source": [
    "<p>\n",
    "    After executing the cell above, you should notice that <code>This line prints a string</code> did not appear in the output, because it was a comment (and thus ignored by Python).\n",
    "</p>\n",
    "<p>\n",
    "    The second line was also not executed because <code>print('Hi')</code> was preceded by the number sign (<code>#</code>) as well! Since this isn't an explanatory comment from the programmer, but an actual line of code, we might say that the programmer <em>commented out</em> that second line of code.\n",
    "</p>"
   ]
  },
  {
   "cell_type": "markdown",
   "metadata": {
    "id": "z_Nngb8ca4Rv"
   },
   "source": [
    "## <h3 id=\"errors\">Errors in Python</h3>"
   ]
  },
  {
   "cell_type": "markdown",
   "metadata": {
    "id": "1Z0_5_JWa4Rw"
   },
   "source": [
    "<p>Everyone makes mistakes. For many types of mistakes, Python will tell you that you have made a mistake by giving you an error message. It is important to read error messages carefully to really understand where you made a mistake and how you may go about correcting it.</p>\n",
    "<p>For example, if you spell <code>print</code> as <code>frint</code>, Python will display an error message. Give it a try:</p>"
   ]
  },
  {
   "cell_type": "code",
   "execution_count": 5,
   "metadata": {
    "id": "F-af-nK6a4Rx"
   },
   "outputs": [
    {
     "ename": "NameError",
     "evalue": "name 'frint' is not defined",
     "output_type": "error",
     "traceback": [
      "\u001b[1;31m---------------------------------------------------------------------------\u001b[0m",
      "\u001b[1;31mNameError\u001b[0m                                 Traceback (most recent call last)",
      "Cell \u001b[1;32mIn[5], line 3\u001b[0m\n\u001b[0;32m      1\u001b[0m \u001b[39m# Print string as error message\u001b[39;00m\n\u001b[1;32m----> 3\u001b[0m frint(\u001b[39m\"\u001b[39m\u001b[39mHello, Python!\u001b[39m\u001b[39m\"\u001b[39m)\n",
      "\u001b[1;31mNameError\u001b[0m: name 'frint' is not defined"
     ]
    }
   ],
   "source": [
    "# Print string as error message\n",
    "\n",
    "frint(\"Hello, Python!\")"
   ]
  },
  {
   "cell_type": "markdown",
   "metadata": {
    "id": "rVjaNRbKa4R2"
   },
   "source": [
    "<p>The error message tells you:\n",
    "<ol>\n",
    "    <li>where the error occurred (more useful in large notebook cells or scripts), and</li>\n",
    "    <li>what kind of error it was (NameError)</li>\n",
    "</ol>\n",
    "<p>Here, Python attempted to run the function <code>frint</code>, but could not determine what <code>frint</code> is since it's not a built-in function and it has not been previously defined by us either.</p>"
   ]
  },
  {
   "cell_type": "markdown",
   "metadata": {
    "id": "caw8W3LUa4R3"
   },
   "source": [
    "<p>\n",
    "    You'll notice that if we make a different type of mistake, by forgetting to close the string, we'll obtain a different error (i.e., a <code>SyntaxError</code>). Try it below:\n",
    "</p>"
   ]
  },
  {
   "cell_type": "code",
   "execution_count": null,
   "metadata": {
    "id": "ulaz0yHaa4R4"
   },
   "outputs": [],
   "source": [
    "# Try to see build in error message\n",
    "\n",
    "print(\"Hello, Python!)"
   ]
  },
  {
   "cell_type": "markdown",
   "metadata": {
    "id": "D1yQphbqa4R9"
   },
   "source": [
    "## <h3 id=\"python_error\">Does Python know about your error before it runs your code?</h3>"
   ]
  },
  {
   "cell_type": "markdown",
   "metadata": {
    "id": "da3LqFbba4R_"
   },
   "source": [
    "Python is what is called an <em>interpreted language</em>. Compiled languages examine your entire program at compile time, and are able to warn you about a whole class of errors prior to execution. In contrast, Python interprets your script line by line as it executes it. Python will stop executing the entire program when it encounters an error (unless the error is expected and handled by the programmer, a more advanced subject that we'll cover later on in this course)."
   ]
  },
  {
   "cell_type": "markdown",
   "metadata": {
    "id": "ENPxneP6a4SA"
   },
   "source": [
    "Try to run the code in the cell below and see what happens:"
   ]
  },
  {
   "cell_type": "code",
   "execution_count": null,
   "metadata": {
    "id": "4tWyLVrWa4SB"
   },
   "outputs": [],
   "source": [
    "# Print string and error to see the running order\n",
    "\n",
    "print(\"This will be printed\")\n",
    "frint(\"This will cause an error\")\n",
    "print(\"This will NOT be printed\")"
   ]
  },
  {
   "cell_type": "markdown",
   "metadata": {
    "id": "0R-eE89Ya4SE"
   },
   "source": [
    "## <h3 id=\"exercise\">Exercise: Your First Program</h3>"
   ]
  },
  {
   "cell_type": "markdown",
   "metadata": {
    "id": "U5XVjKy7a4SE"
   },
   "source": [
    "<p>Generations of programmers have started their coding careers by simply printing \"Hello, world!\". You will be following in their footsteps.</p>\n",
    "<p>In the code cell below, use the <code>print()</code> function to print out the phrase: <code>Hello, world!</code></p>"
   ]
  },
  {
   "cell_type": "code",
   "execution_count": null,
   "metadata": {
    "id": "0WOzLzqWa4SF"
   },
   "outputs": [],
   "source": [
    "# Write your code below and press Shift+Enter to execute"
   ]
  },
  {
   "cell_type": "markdown",
   "metadata": {
    "id": "G2kqWYsRa4SI"
   },
   "source": [
    "Double-click __here__ for the solution.\n",
    "\n",
    "<!-- Your answer is below:\n",
    "\n",
    "print(\"Hello, world!\")\n",
    "\n",
    "-->"
   ]
  },
  {
   "cell_type": "markdown",
   "metadata": {
    "id": "bekTMEIXa4SJ"
   },
   "source": [
    "<p>Now, let's enhance your code with a comment. In the code cell below, print out the phrase: <code>Hello, world!</code> and comment it with the phrase <code>Print the traditional hello world</code> all in one line of code.</p>"
   ]
  },
  {
   "cell_type": "code",
   "execution_count": null,
   "metadata": {
    "id": "qAwp1mxWa4SJ"
   },
   "outputs": [],
   "source": [
    "# Write your code below and press Shift+Enter to execute"
   ]
  },
  {
   "cell_type": "markdown",
   "metadata": {
    "id": "I4w4CG_La4SM"
   },
   "source": [
    "Double-click __here__ for the solution.\n",
    "\n",
    "<!-- Your answer is below:\n",
    "\n",
    "print(\"Hello, world!\") # Print the traditional hello world\n",
    "\n",
    "-->\n"
   ]
  },
  {
   "cell_type": "markdown",
   "metadata": {
    "id": "Ydtypy8Ga4SN"
   },
   "source": [
    "<hr>"
   ]
  },
  {
   "cell_type": "markdown",
   "metadata": {
    "id": "sg8qcshhsl5p"
   },
   "source": [
    "## <h3 id=\"WeeklyExercise1\">Weekly Exercise 1</h3>\n",
    "\n",
    "\n",
    "\n",
    "Buatlah sebuah program untuk menampilkan biodata anda, sebagai contoh :\n",
    "\n",
    "<pre>\n",
    "Nama          : Alifia Revan Prananda <br>\n",
    "NPM           : 1234567 <br>\n",
    "Alamat        : Jl. Kapten Suparman 39, Magelang, Jawa Tengah <br>\n",
    "Tinggi Badan  : 168.2 <br>\n",
    "Berat Badan   : 62.8 <br>\n",
    "</pre>"
   ]
  },
  {
   "cell_type": "markdown",
   "metadata": {
    "id": "z-FiLZS9blKF"
   },
   "source": [
    "## <h3 id=\"WeeklyExercise2\">Weekly Exercise 2</h3>\n",
    "\n",
    "Buatlah sebuah program untuk menampilkan tulisan berikut ini :\n",
    "\n",
    "<pre>\n",
    "<b>UNIVERSITAS TIDAR </b>\n",
    "Universitas Tidar merupakan Perguruan Tinggi Pemerintah atau Perguruan Tinggi Negeri yang telah ditetapkan berdasarkan Peraturan Presiden Republik Indonesia Nomor 23 Tahun 2014 pada tanggal 1 April 2014.\n",
    "\n",
    "<b>JURUSAN TEKNIK ELEKTRO</b>\n",
    "Jurusan Teknik Elektro terdiri atas tiga program studi, antara lain:\n",
    "    1. S1 Teknik Elektro <i>(Bachelor of Electrical Engineering)</i>\n",
    "    2. S1 Teknologi Informasi <i>(Bachelor of Information Technology)</i>\n",
    "    3. S1 Teknik Mekatronika <i>(Bachelor of Mechatronics Engineering)</i>\n",
    "\n",
    "</pre>"
   ]
  },
  {
   "cell_type": "markdown",
   "metadata": {
    "id": "PA1plmoy5syN"
   },
   "source": [
    "<hr>"
   ]
  },
  {
   "cell_type": "markdown",
   "metadata": {
    "id": "UaZcreE4a4WE"
   },
   "source": [
    "<p>Copyright &copy; Prodi Teknologi Informasi -  Universitas Tidar.</p>"
   ]
  }
 ],
 "metadata": {
  "colab": {
   "provenance": []
  },
  "kernelspec": {
   "display_name": "Python 3 (ipykernel)",
   "language": "python",
   "name": "python3"
  },
  "language_info": {
   "codemirror_mode": {
    "name": "ipython",
    "version": 3
   },
   "file_extension": ".py",
   "mimetype": "text/x-python",
   "name": "python",
   "nbconvert_exporter": "python",
   "pygments_lexer": "ipython3",
   "version": "3.11.4"
  }
 },
 "nbformat": 4,
 "nbformat_minor": 4
}
