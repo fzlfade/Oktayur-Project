{
 "cells": [
  {
   "cell_type": "code",
   "execution_count": 22,
   "metadata": {},
   "outputs": [
    {
     "name": "stdout",
     "output_type": "stream",
     "text": [
      "Requirement already satisfied: scipy in /home/oktayudha05/Desktop/Kuliah/.venv/lib/python3.12/site-packages (1.14.1)\n",
      "Requirement already satisfied: numpy<2.3,>=1.23.5 in /home/oktayudha05/Desktop/Kuliah/.venv/lib/python3.12/site-packages (from scipy) (2.1.3)\n",
      "Note: you may need to restart the kernel to use updated packages.\n"
     ]
    }
   ],
   "source": [
    "%pip install scipy"
   ]
  },
  {
   "cell_type": "code",
   "execution_count": 23,
   "metadata": {},
   "outputs": [],
   "source": [
    "import scipy.stats as stats\n",
    "import numpy as np"
   ]
  },
  {
   "cell_type": "markdown",
   "metadata": {},
   "source": [
    "# Latihan 1\n",
    "Dalam suatu laporan oleh peneliti, dinyatakan bahwa tikus yang semula\n",
    "mempunyai jangka hidup rata-rata 32 bulan dapat diperpanjang menjadi 40\n",
    "bulan bila 40% kalori dalam makanannya diganti dengan protein dan vitamin.\n",
    "Apakah ada alasan untuk mempercayai bahwa µ < 40 bila 64 ekor tikus\n",
    "dicobakan dalam penelitian ini agar mencapai jangka hidup rata-rata 38 bulan\n",
    "dengan simpang baku 5,8 bulan? Gunakan taraf nyata 0,025"
   ]
  },
  {
   "cell_type": "code",
   "execution_count": 24,
   "metadata": {},
   "outputs": [
    {
     "name": "stdout",
     "output_type": "stream",
     "text": [
      "Statistik Uji: -2.7586206896551726\n",
      "Nilai Kritis: -1.9599639845400545\n",
      "nilai P: 0.0029022933338009\n",
      "\n",
      "kesimpulan:\n",
      "H0 ditolak, µ < 40\n"
     ]
    }
   ],
   "source": [
    "n = 64\n",
    "x = 38\n",
    "simpangBaku = 5.8\n",
    "H0 = 40\n",
    "alpha = 0.025\n",
    "\n",
    "zHitung = (x - H0) / (simpangBaku / np.sqrt(n))\n",
    "zKritis = stats.norm.ppf(alpha)\n",
    "nilaiP = stats.norm.cdf(zHitung)\n",
    "\n",
    "print(f\"Statistik Uji: {zHitung}\")\n",
    "print(f\"Nilai Kritis: {zKritis}\")\n",
    "print(f\"nilai P: {nilaiP}\")\n",
    "\n",
    "# Kesimpulan\n",
    "print(\"\\nkesimpulan:\")\n",
    "if zHitung < zKritis:\n",
    "    print(\"H0 ditolak, µ < 40\")\n",
    "else:\n",
    "    print(\"H0 diterima µ > 40\")"
   ]
  },
  {
   "cell_type": "markdown",
   "metadata": {},
   "source": [
    "# Latihan 2\n",
    "Ujilah hipotesis bahwa isi kaleng rata-rata suatu jenis minyak pelumas adalah\n",
    "10 liter. Apabila isi suatu contoh acak 10 kaleng adalah 10.2, 9.7, 10.1, 10.3,\n",
    "10.1, 9.8, 9.9, 10.4, 10.3, dan 9.8 liter. Gunakan taraf nyata 0.01 dan\n",
    "asumsikan bahwa isi terrsebut menyebar normal."
   ]
  },
  {
   "cell_type": "code",
   "execution_count": 25,
   "metadata": {},
   "outputs": [
    {
     "name": "stdout",
     "output_type": "stream",
     "text": [
      "statistik uji: 0.771743633141273\n",
      "nilai kritis: 3.2498355415921254\n",
      "nilai p: 0.46004898227096636\n",
      "\n",
      "Kesimpulan:\n",
      "H0 diterima, Tidak cukup bukti untuk menolak hipotesis\n"
     ]
    }
   ],
   "source": [
    "data = [10.2, 9.7, 10.1, 10.3, 10.1, 9.8, 9.9, 10.4, 10.3, 9.8]\n",
    "\n",
    "n = len(data)\n",
    "x = np.mean(data)\n",
    "simpangBaku = np.std(data, ddof=1)\n",
    "H0 = 10\n",
    "\n",
    "tHitung = (x - H0) / (simpangBaku / np.sqrt(n))\n",
    "df = n - 1\n",
    "tKritis = stats.t.ppf(1 - 0.01/2, df)\n",
    "nilaiP = 2 * (1 - stats.t.cdf(abs(tHitung), df))\n",
    "\n",
    "print(f\"statistik uji: {tHitung}\")\n",
    "print(f\"nilai kritis: {tKritis}\")\n",
    "print(f\"nilai p: {nilaiP}\")\n",
    "\n",
    "print(\"\\nKesimpulan:\")\n",
    "if abs(tHitung) > tKritis:\n",
    "    print(\"H0 ditolak, perbedaan signifikan dari 10 liter\")\n",
    "else:\n",
    "    print(\"H0 diterima, Tidak cukup bukti untuk menolak hipotesis\")"
   ]
  },
  {
   "cell_type": "markdown",
   "metadata": {},
   "source": [
    "# Latihan 3\n",
    "Menurut penelitian konsumsi sodium yang tinggi mungkin berhubungan\n",
    "dengan sakit bisul, kanker perut, dan sakit kepala. Manusia membutuhkan\n",
    "garam hanya 220 milligram per hari dan ini sudah dilampaui oleh kandungan\n",
    "satu porsi sereal siap makan.\n",
    "Apabila suatu contoh acak 20 porsi sereal mempunyai kandungan sodium\n",
    "rata-rata 244 milligram dengan simpangan baku 24,5 milligram apakah ini\n",
    "menunjukkan pada taraf nyata 0,05 bahwa kandungan sodium rata-rata satu\n",
    "porsi sereal lebih daripada 220 milligram?\n",
    "Asumsikan bahwa sebaran kandungan sodium adalah normal"
   ]
  },
  {
   "cell_type": "code",
   "execution_count": 26,
   "metadata": {},
   "outputs": [
    {
     "name": "stdout",
     "output_type": "stream",
     "text": [
      "statistik uji: 4.380867874285302\n",
      "nilai kritis: 1.729132811521367\n",
      "nilai p: 0.0001607030618719918\n",
      "\n",
      "Kesimpulan:\n",
      "H0 ditolak, Ada bukti signifikan bahwa kandungan sodium rata-rata sereal > 220 mg\n"
     ]
    }
   ],
   "source": [
    "n = 20\n",
    "x = 244\n",
    "H0 = 220\n",
    "simpangBaku = 24.5\n",
    "alpha = 0.05\n",
    "\n",
    "tHitung = (x - H0) / (simpangBaku / np.sqrt(n))\n",
    "df = n - 1\n",
    "tKritis = stats.t.ppf(1 - alpha, df)\n",
    "nilaiP = 1 - stats.t.cdf(tHitung, df)\n",
    "\n",
    "print(f\"statistik uji: {tHitung}\")\n",
    "print(f\"nilai kritis: {tKritis}\")\n",
    "print(f\"nilai p: {nilaiP}\")\n",
    "\n",
    "print(\"\\nKesimpulan:\")\n",
    "if tHitung > tKritis:\n",
    "    print(\"H0 ditolak, Ada bukti signifikan bahwa kandungan sodium rata-rata sereal > 220 mg\")\n",
    "else:\n",
    "    print(\"H0 diterima, Tidak cukup bukti untuk menyatakan kandungan sodium rata-rata sereal > 220 mg\")"
   ]
  },
  {
   "cell_type": "markdown",
   "metadata": {},
   "source": [
    "# Latihan 4\n",
    "Sebuah perusahaan menyatakan bahwa kekuatan rentangan rata-rata tali A\n",
    "melebihi kekuatan rentangan tali B sebesar sekurang-kurangnya 12 kg. Untuk\n",
    "diuji pernyataan ini, 50 tali dari masing-masing jenis diuji dibawah kondisi\n",
    "yang sama.\n",
    "Hasil uji menunjukkan tali A mempunyai kekuatan rentangan rata-rata 86,7 kg\n",
    "dengan simpangan baku 6,28 kg, sedangkan tali B mempunyai kekuatan\n",
    "rentangan rata-rata 77,8 kg dengan simpangan baku 5,61 kg.\n",
    "Ujilah pernyataan perusahaan tersebut dengan menggunakan taraf nyata\n",
    "0,05"
   ]
  },
  {
   "cell_type": "code",
   "execution_count": 29,
   "metadata": {},
   "outputs": [
    {
     "name": "stdout",
     "output_type": "stream",
     "text": [
      "statistik uji: -2.603103416514782\n",
      "nilai kritis: 1.660751252563535\n",
      "nilai p: 0.9946542548386562\n",
      "\n",
      "Kesimpulan:\n",
      "H0 diterima, Tidak cukup bukti mendukung pernyataan perusahaan\n"
     ]
    }
   ],
   "source": [
    "n1 = 50\n",
    "x1 = 86.7\n",
    "simpangBaku1 = 6.28\n",
    "n2 = 50\n",
    "x2 = 77.8\n",
    "simpangBaku2 = 5.61\n",
    "selisihHipotesis = 12\n",
    "alpha = 0.05\n",
    "\n",
    "stdErrorPerbedaan = np.sqrt((simpangBaku1**2/n1) + (simpangBaku2**2/n2))\n",
    "tHitung = ((x1 - x2) - selisihHipotesis) / stdErrorPerbedaan\n",
    "df = ((simpangBaku1**2/n1 + simpangBaku2**2/n2)**2) / ((simpangBaku1**2/n1)**2/(n1-1) + (simpangBaku2**2/n2)**2/(n2-1))\n",
    "tKritis = stats.t.ppf(1 - alpha, df)\n",
    "nilaiP = 1 - stats.t.cdf(tHitung, df)\n",
    "\n",
    "print(f\"statistik uji: {tHitung}\")\n",
    "print(f\"nilai kritis: {tKritis}\")\n",
    "print(f\"nilai p: {nilaiP}\")\n",
    "\n",
    "print(\"\\nKesimpulan:\")\n",
    "if tHitung > tKritis:\n",
    "    print(\"H0 ditolak, Ada bukti bahwa perbedaan kekuatan rentangan > 12 kg\")\n",
    "else:\n",
    "    print(\"H0 diterima, Tidak cukup bukti mendukung pernyataan perusahaan\")"
   ]
  }
 ],
 "metadata": {
  "kernelspec": {
   "display_name": ".venv",
   "language": "python",
   "name": "python3"
  },
  "language_info": {
   "codemirror_mode": {
    "name": "ipython",
    "version": 3
   },
   "file_extension": ".py",
   "mimetype": "text/x-python",
   "name": "python",
   "nbconvert_exporter": "python",
   "pygments_lexer": "ipython3",
   "version": "3.12.7"
  }
 },
 "nbformat": 4,
 "nbformat_minor": 2
}
