{
 "cells": [
  {
   "cell_type": "code",
   "execution_count": 10,
   "metadata": {},
   "outputs": [
    {
     "name": "stdout",
     "output_type": "stream",
     "text": [
      "Nama         : Nabila Kartika Putri\n",
      "\n",
      "NPM          : 2320506039\n",
      "\n",
      "Alamat       : Griya Katulampa D3/7 RT 02 RW 10, BOGOR TIMUR-JAWA BARAT\n",
      "\n",
      "Tinggi Badan : 167 CM\n",
      "\n",
      "Berat Badan  : 47 KG\n"
     ]
    }
   ],
   "source": [
    "print(\"Nama         : Nabila Kartika Putri\")\n",
    "print()\n",
    "print(\"NPM          : 2320506039\")\n",
    "print(\"\")\n",
    "print(\"Alamat       : Griya Katulampa D3/7 RT 02 RW 10, BOGOR TIMUR-JAWA BARAT\")\n",
    "print(\"\")\n",
    "print(\"Tinggi Badan : 167 CM\")\n",
    "print(\"\")\n",
    "print(\"Berat Badan  : 47 KG\")\n"
   ]
  },
  {
   "cell_type": "code",
   "execution_count": 9,
   "metadata": {},
   "outputs": [
    {
     "name": "stdout",
     "output_type": "stream",
     "text": [
      "\u001b[1mUNIVERSITAS TIDAR\u001b[0m\n",
      "\u001b[3mUniversitas Tidar merupakan Perguruaan Tinggi Pemerintah atau Perguruan Tinggi Negeri yang telah ditetapkan berdasarkan Peraturan\u001b[0m\n",
      "\n",
      "\u001b[1mJURUSAN TEKNIK ELEKTRO\u001b[0m\n",
      "Jurusan Teknik Elektro) terdiri atas tiga program studi, antara lain:\n",
      "1. S1 Teknik Elektro\u001b[3m (Bacherol of Electrical Engineering)\u001b[0m\n",
      "2. S1 Teknologi Informasi\u001b[3m (Bacherol of Information Engineering)\u001b[0m\n",
      "3. S1 Teknik Mekatronika\u001b[3m (Bacherol of Mecatronics Engineering)\u001b[0m\n"
     ]
    }
   ],
   "source": [
    "bold = '\\033[1m'\n",
    "end = '\\033[0m'\n",
    "miring = '\\033[3m'\n",
    "\n",
    "\n",
    "\n",
    "print(bold + 'UNIVERSITAS TIDAR' + end)\n",
    "print(miring + 'Universitas Tidar merupakan Perguruaan Tinggi Pemerintah atau Perguruan Tinggi Negeri yang telah ditetapkan berdasarkan Peraturan' + end)\n",
    "print(\"\")\n",
    "print(bold + 'JURUSAN TEKNIK ELEKTRO' + end)\n",
    "print('Jurusan Teknik Elektro) terdiri atas tiga program studi, antara lain:')\n",
    "print('1. S1 Teknik Elektro'+ miring +' (Bacherol of Electrical Engineering)' + end)\n",
    "print('2. S1 Teknologi Informasi' + miring + ' (Bacherol of Information Engineering)' + end)\n",
    "print('3. S1 Teknik Mekatronika' + miring +  ' (Bacherol of Mecatronics Engineering)'+ end)"
   ]
  }
 ],
 "metadata": {
  "kernelspec": {
   "display_name": "Python 3",
   "language": "python",
   "name": "python3"
  },
  "language_info": {
   "codemirror_mode": {
    "name": "ipython",
    "version": 3
   },
   "file_extension": ".py",
   "mimetype": "text/x-python",
   "name": "python",
   "nbconvert_exporter": "python",
   "pygments_lexer": "ipython3",
   "version": "3.10.7"
  },
  "orig_nbformat": 4
 },
 "nbformat": 4,
 "nbformat_minor": 2
}
