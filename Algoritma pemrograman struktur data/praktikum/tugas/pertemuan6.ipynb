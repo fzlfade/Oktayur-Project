{
 "cells": [
  {
   "cell_type": "code",
   "execution_count": 17,
   "metadata": {},
   "outputs": [
    {
     "name": "stdout",
     "output_type": "stream",
     "text": [
      "       \n",
      "      * \n",
      "     * * \n",
      "    * * * \n",
      "   * * * * \n",
      "  * * * * * \n",
      " * * * * * * \n"
     ]
    }
   ],
   "source": [
    "# Weekly Exercise 1\n",
    "\n",
    "ts = int(input('masukan tinggi segitiga: '))\n",
    "ts += 1\n",
    "\n",
    "for i in range(ts):\n",
    "    for j in range(ts - i):\n",
    "        print(' ', end='')\n",
    "    \n",
    "    for j in range(i):\n",
    "        print('* ', end='')\n",
    "\n",
    "    print('')"
   ]
  },
  {
   "cell_type": "code",
   "execution_count": 45,
   "metadata": {},
   "outputs": [
    {
     "name": "stdout",
     "output_type": "stream",
     "text": [
      "      \n",
      "      1\n",
      "     1 1\n",
      "    1 2 1\n",
      "   1 3 3 1\n",
      "  1 4 6 4 1\n"
     ]
    }
   ],
   "source": [
    "# # Weekly Exercise 2\n",
    "\n",
    "ts = int(input('masukan tinggi segitiga: '))\n",
    "ts += 1\n",
    "\n",
    "for i in range(ts):\n",
    "    for j in range(ts - i):\n",
    "        print(' ', end='')\n",
    "        s = 1\n",
    "    \n",
    "    for j in range(1, i + 1):\n",
    "        print(' ', s, sep='', end='')\n",
    "        s = s * (i - j) // j\n",
    "\n",
    "    print('')"
   ]
  },
  {
   "cell_type": "code",
   "execution_count": 47,
   "metadata": {},
   "outputs": [
    {
     "name": "stdout",
     "output_type": "stream",
     "text": [
      "      \n",
      "      1\n",
      "     1 1\n",
      "    1 2 1\n",
      "   1 3 3 1\n",
      "  1 4 6 4 1\n",
      "1\n"
     ]
    }
   ],
   "source": [
    "# # Weekly Exercise 3\n",
    "\n",
    "ts = int(input('masukan tinggi segitiga: '))\n",
    "ts += 1\n",
    "\n",
    "for i in range(ts):\n",
    "    for j in range(ts - i):\n",
    "        print(' ', end='')\n",
    "        s = 1\n",
    "    \n",
    "    for j in range(1, i + 1):\n",
    "        ss = s\n",
    "        print(' ', s, sep='', end='')\n",
    "        s = s * (i - j) // j\n",
    "\n",
    "    print('')\n",
    "print(ss + s)"
   ]
  }
 ],
 "metadata": {
  "kernelspec": {
   "display_name": "Python 3",
   "language": "python",
   "name": "python3"
  },
  "language_info": {
   "codemirror_mode": {
    "name": "ipython",
    "version": 3
   },
   "file_extension": ".py",
   "mimetype": "text/x-python",
   "name": "python",
   "nbconvert_exporter": "python",
   "pygments_lexer": "ipython3",
   "version": "3.10.8"
  },
  "orig_nbformat": 4
 },
 "nbformat": 4,
 "nbformat_minor": 2
}
