{
 "cells": [
  {
   "cell_type": "code",
   "execution_count": 7,
   "metadata": {},
   "outputs": [
    {
     "name": "stdout",
     "output_type": "stream",
     "text": [
      "Panjang =  20.5\n",
      "Lebar =  25\n",
      "Tinggi =  10\n",
      "Keliling =  91.0\n",
      "Volume =  5125.0\n"
     ]
    }
   ],
   "source": [
    "# Weekly Exercise 1\n",
    "\n",
    "panjang = 20.5\n",
    "lebar = 25\n",
    "tinggi = 10\n",
    "\n",
    "keliling = 2 * (panjang+lebar)\n",
    "luas = panjang * lebar\n",
    "volume = panjang * lebar * tinggi\n",
    "\n",
    "print(\"Panjang = \", panjang)\n",
    "print(\"Lebar = \", lebar)\n",
    "print(\"Tinggi = \", tinggi)\n",
    "print(\"Keliling = \", keliling)\n",
    "print(\"Volume = \", volume)"
   ]
  },
  {
   "cell_type": "code",
   "execution_count": 16,
   "metadata": {},
   "outputs": [
    {
     "name": "stdout",
     "output_type": "stream",
     "text": [
      "1. Rata rata nilai Shafira adalah :  80.0\n",
      "2. Jumlah nilai Hanif dan Andi adalah :  310\n",
      "3. Rata rata nilai Widya, Dhanar, Hikma, dan Nedia pada masing-masing mata kuliah adalah\n",
      "     a. Rata rata nilai mata kuliah Kalkulus 1 adalah :  86.25\n",
      "     b. Rata rata nilai mata kuliah Metode Statistika adalah :  81.25\n",
      "4. Rata rata nilai mata kuliah Kalkulus 1 untuk semua mahasiswa adalah :  81\n",
      "5. Rata rata nilai mata kuliah Metode Statistika untuk semua mahasiswa adalah :  81\n"
     ]
    }
   ],
   "source": [
    "class k1:\n",
    "    shafira = 85\n",
    "    amanda = 80\n",
    "    aditya = 75\n",
    "    nedia  = 95\n",
    "    widya = 85\n",
    "    hanif = 75\n",
    "    andi = 70\n",
    "    dhanar = 85\n",
    "    hikma = 80\n",
    "\n",
    "class mstate:\n",
    "    shafira = 75\n",
    "    amanda = 90\n",
    "    aditya = 80\n",
    "    nedia = 80\n",
    "    widya = 85\n",
    "    hanif = 90\n",
    "    andi = 75\n",
    "    dhanar = 85\n",
    "    hikma = 75\n",
    "\n",
    "print('1. Rata rata nilai Shafira adalah : ', (k1.shafira + mstate.shafira) / 2)\n",
    "print('2. Jumlah nilai Hanif dan Andi adalah : ', k1.hanif + mstate.hanif + k1.andi + mstate.andi)\n",
    "print('3. Rata rata nilai Widya, Dhanar, Hikma, dan Nedia pada masing-masing mata kuliah adalah')\n",
    "print('     a. Rata rata nilai mata kuliah Kalkulus 1 adalah : ', (k1.widya + k1.dhanar + k1.hikma + k1.nedia) / 4)\n",
    "print('     b. Rata rata nilai mata kuliah Metode Statistika adalah : ', (mstate.widya + mstate.dhanar + mstate.hikma + mstate.nedia) / 4)\n",
    "print('4. Rata rata nilai mata kuliah Kalkulus 1 untuk semua mahasiswa adalah : ', (k1.shafira + k1.amanda + k1.aditya + k1.nedia + k1.widya + k1.hanif + k1.andi + k1.dhanar + k1.hikma) // 9)\n",
    "print('5. Rata rata nilai mata kuliah Metode Statistika untuk semua mahasiswa adalah : ', (mstate.shafira + mstate.amanda + mstate.aditya + mstate.nedia + mstate.widya + mstate.hanif + mstate.andi + mstate.dhanar + mstate.hikma) // 9)\n",
    "\n",
    "\n"
   ]
  },
  {
   "cell_type": "code",
   "execution_count": 1,
   "metadata": {},
   "outputs": [
    {
     "name": "stdout",
     "output_type": "stream",
     "text": [
      "1. Gaji yang diterima oleh Dwi pada bulan Agustus adalah Rp.6,720,000\n",
      "2. Tunjangan yang diterima oleh Dwi pada bulan Agustus adalah Rp.672,000\n",
      "3. Total gaji yang diterima oleh Dwi pada bulan Agustus adalah Rp.7,442,000\n"
     ]
    }
   ],
   "source": [
    "gajiHarian = 8 * 30000\n",
    "hariMasukAgustus = 28\n",
    "jamLembur = 5\n",
    "\n",
    "gajiAgustus = gajiHarian * hariMasukAgustus\n",
    "tunjanganAgustus = gajiAgustus * 10 // 100\n",
    "lemburAgustus = jamLembur * 10000\n",
    "totalGajiAgustus = gajiAgustus + tunjanganAgustus + lemburAgustus\n",
    "\n",
    "print('1. Gaji yang diterima oleh Dwi pada bulan Agustus adalah Rp.' '{:,}'.format(gajiAgustus))\n",
    "print('2. Tunjangan yang diterima oleh Dwi pada bulan Agustus adalah Rp.' '{:,}'.format(tunjanganAgustus))\n",
    "print('3. Total gaji yang diterima oleh Dwi pada bulan Agustus adalah Rp.' '{:,}'.format(totalGajiAgustus))"
   ]
  }
 ],
 "metadata": {
  "kernelspec": {
   "display_name": "Python 3",
   "language": "python",
   "name": "python3"
  },
  "language_info": {
   "codemirror_mode": {
    "name": "ipython",
    "version": 3
   },
   "file_extension": ".py",
   "mimetype": "text/x-python",
   "name": "python",
   "nbconvert_exporter": "python",
   "pygments_lexer": "ipython3",
   "version": "3.11.5"
  },
  "orig_nbformat": 4
 },
 "nbformat": 4,
 "nbformat_minor": 2
}
