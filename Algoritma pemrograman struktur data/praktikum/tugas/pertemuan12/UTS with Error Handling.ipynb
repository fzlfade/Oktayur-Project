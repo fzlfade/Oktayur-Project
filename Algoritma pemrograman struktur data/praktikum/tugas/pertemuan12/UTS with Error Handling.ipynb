{
 "cells": [
  {
   "cell_type": "code",
   "execution_count": 1,
   "metadata": {},
   "outputs": [
    {
     "name": "stdout",
     "output_type": "stream",
     "text": [
      "BPJS hanya bisa diisi dengan y/n\n"
     ]
    },
    {
     "ename": "TypeError",
     "evalue": "hanya bisa memilih y/n",
     "output_type": "error",
     "traceback": [
      "\u001b[1;31m---------------------------------------------------------------------------\u001b[0m",
      "\u001b[1;31mNameError\u001b[0m                                 Traceback (most recent call last)",
      "\u001b[1;32mc:\\Users\\asus\\Documents\\coding\\Kuliah\\Algoritma pemrograman struktur data\\praktikum\\tugas\\UTS_2320506044.ipynb Cell 1\u001b[0m line \u001b[0;36m4\n\u001b[0;32m     <a href='vscode-notebook-cell:/c%3A/Users/asus/Documents/coding/Kuliah/Algoritma%20pemrograman%20struktur%20data/praktikum/tugas/UTS_2320506044.ipynb#W0sZmlsZQ%3D%3D?line=43'>44</a>\u001b[0m \u001b[39m# total harga dikalikan dengan lama inap\u001b[39;00m\n\u001b[1;32m---> <a href='vscode-notebook-cell:/c%3A/Users/asus/Documents/coding/Kuliah/Algoritma%20pemrograman%20struktur%20data/praktikum/tugas/UTS_2320506044.ipynb#W0sZmlsZQ%3D%3D?line=44'>45</a>\u001b[0m totalHarga \u001b[39m*\u001b[39m\u001b[39m=\u001b[39m lamaInap\n\u001b[0;32m     <a href='vscode-notebook-cell:/c%3A/Users/asus/Documents/coding/Kuliah/Algoritma%20pemrograman%20struktur%20data/praktikum/tugas/UTS_2320506044.ipynb#W0sZmlsZQ%3D%3D?line=45'>46</a>\u001b[0m \u001b[39mprint\u001b[39m(\u001b[39mf\u001b[39m\u001b[39m\"\u001b[39m\u001b[39mTotal harga yang harus dibayar pasien yang \u001b[39m\u001b[39m{\u001b[39;00mbpjs\u001b[39m}\u001b[39;00m\u001b[39m BPJS dengan kamar kelas \u001b[39m\u001b[39m{\u001b[39;00mkelasKamar\u001b[39m}\u001b[39;00m\u001b[39m selama \u001b[39m\u001b[39m{\u001b[39;00mlamaInap\u001b[39m}\u001b[39;00m\u001b[39m hari adalah: Rp\u001b[39m\u001b[39m{\u001b[39;00mtotalHarga\u001b[39m}\u001b[39;00m\u001b[39m\"\u001b[39m)\n",
      "\u001b[1;31mNameError\u001b[0m: name 'totalHarga' is not defined",
      "\nDuring handling of the above exception, another exception occurred:\n",
      "\u001b[1;31mTypeError\u001b[0m                                 Traceback (most recent call last)",
      "\u001b[1;32mc:\\Users\\asus\\Documents\\coding\\Kuliah\\Algoritma pemrograman struktur data\\praktikum\\tugas\\UTS_2320506044.ipynb Cell 1\u001b[0m line \u001b[0;36m4\n\u001b[0;32m     <a href='vscode-notebook-cell:/c%3A/Users/asus/Documents/coding/Kuliah/Algoritma%20pemrograman%20struktur%20data/praktikum/tugas/UTS_2320506044.ipynb#W0sZmlsZQ%3D%3D?line=45'>46</a>\u001b[0m     \u001b[39mprint\u001b[39m(\u001b[39mf\u001b[39m\u001b[39m\"\u001b[39m\u001b[39mTotal harga yang harus dibayar pasien yang \u001b[39m\u001b[39m{\u001b[39;00mbpjs\u001b[39m}\u001b[39;00m\u001b[39m BPJS dengan kamar kelas \u001b[39m\u001b[39m{\u001b[39;00mkelasKamar\u001b[39m}\u001b[39;00m\u001b[39m selama \u001b[39m\u001b[39m{\u001b[39;00mlamaInap\u001b[39m}\u001b[39;00m\u001b[39m hari adalah: Rp\u001b[39m\u001b[39m{\u001b[39;00mtotalHarga\u001b[39m}\u001b[39;00m\u001b[39m\"\u001b[39m)\n\u001b[0;32m     <a href='vscode-notebook-cell:/c%3A/Users/asus/Documents/coding/Kuliah/Algoritma%20pemrograman%20struktur%20data/praktikum/tugas/UTS_2320506044.ipynb#W0sZmlsZQ%3D%3D?line=46'>47</a>\u001b[0m \u001b[39mexcept\u001b[39;00m:\n\u001b[1;32m---> <a href='vscode-notebook-cell:/c%3A/Users/asus/Documents/coding/Kuliah/Algoritma%20pemrograman%20struktur%20data/praktikum/tugas/UTS_2320506044.ipynb#W0sZmlsZQ%3D%3D?line=47'>48</a>\u001b[0m     \u001b[39mraise\u001b[39;00m \u001b[39mTypeError\u001b[39;00m(\u001b[39m'\u001b[39m\u001b[39mhanya bisa memilih y/n\u001b[39m\u001b[39m'\u001b[39m)\n",
      "\u001b[1;31mTypeError\u001b[0m: hanya bisa memilih y/n"
     ]
    },
    {
     "ename": "",
     "evalue": "",
     "output_type": "error",
     "traceback": [
      "\u001b[1;31mThe Kernel crashed while executing code in the the current cell or a previous cell. Please review the code in the cell(s) to identify a possible cause of the failure. Click <a href='https://aka.ms/vscodeJupyterKernelCrash'>here</a> for more info. View Jupyter <a href='command:jupyter.viewOutput'>log</a> for further details."
     ]
    }
   ],
   "source": [
    "pasien = input(\"Masukkan nama pasien: \")\n",
    "alamat = input(\"Masukkan alamat pasien: \")\n",
    "bpjs = input(\"Apakah memiliki BPJS? (y/n): \")\n",
    "lamaInap = int(input(\"Lama inap: \"))\n",
    "kelasKamar = input(\"Kelas kamar: \")\n",
    "\n",
    "# jika punya BPJS, maka dapat diskon 15%\n",
    "try:\n",
    "    if bpjs == 'y':\n",
    "        bpjs = 'memiliki'\n",
    "        if kelasKamar == '1':\n",
    "            harga = 800000\n",
    "        elif kelasKamar == '2':\n",
    "            harga = 500000\n",
    "        elif kelasKamar == '3':\n",
    "            harga = 200000\n",
    "        else:\n",
    "            print(\"Kelas kamar tidak tersedia\")\n",
    "            exit()\n",
    "\n",
    "        diskon = harga * 15 / 100\n",
    "        totalHarga = harga - diskon\n",
    "\n",
    "    # jika tidak punya BPJS, maka tidak dapat diskon\n",
    "    elif bpjs == 'n':\n",
    "        bpjs = 'tidak memiliki'\n",
    "        if kelasKamar == '1':\n",
    "            harga = 800000\n",
    "        elif kelasKamar == '2':\n",
    "            harga = 500000\n",
    "        elif kelasKamar == '3':\n",
    "            harga = 200000\n",
    "        else:\n",
    "            print(\"Kelas kamar tidak tersedia\")\n",
    "            exit()\n",
    "\n",
    "        totalHarga = harga\n",
    "\n",
    "    # jika input BPJS tidak y/n, maka program akan berhenti\n",
    "    else:\n",
    "        print(\"BPJS hanya bisa diisi dengan y/n\")\n",
    "        exit()\n",
    "\n",
    "    # total harga dikalikan dengan lama inap\n",
    "    totalHarga *= lamaInap\n",
    "    print(f\"Total harga yang harus dibayar pasien yang {bpjs} BPJS dengan kamar kelas {kelasKamar} selama {lamaInap} hari adalah: Rp{totalHarga}\")\n",
    "except:\n",
    "    raise TypeError('hanya bisa memilih y/n')"
   ]
  },
  {
   "cell_type": "code",
   "execution_count": null,
   "metadata": {},
   "outputs": [],
   "source": []
  }
 ],
 "metadata": {
  "kernelspec": {
   "display_name": "Python 3",
   "language": "python",
   "name": "python3"
  },
  "language_info": {
   "codemirror_mode": {
    "name": "ipython",
    "version": 3
   },
   "file_extension": ".py",
   "mimetype": "text/x-python",
   "name": "python",
   "nbconvert_exporter": "python",
   "pygments_lexer": "ipython3",
   "version": "3.11.5"
  },
  "orig_nbformat": 4
 },
 "nbformat": 4,
 "nbformat_minor": 2
}
