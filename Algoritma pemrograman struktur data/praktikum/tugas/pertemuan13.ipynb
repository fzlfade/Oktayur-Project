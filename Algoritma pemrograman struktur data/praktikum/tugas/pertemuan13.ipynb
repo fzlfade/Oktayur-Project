{
 "cells": [
  {
   "cell_type": "code",
   "execution_count": 8,
   "metadata": {},
   "outputs": [
    {
     "name": "stdout",
     "output_type": "stream",
     "text": [
      "Nama\t\t\t\t:  Ballpoint\n",
      "Stok\t\t\t\t:  10\n",
      "Harga Satuan\t\t\t:  2000\n",
      "Harga\t\t\t\t:  20000\n",
      "=================RESTOK COY=====================\n",
      "Stok setelah restok\t\t:  20\n",
      "Harga harga setelah restok\t:  40000\n"
     ]
    }
   ],
   "source": [
    "class AlatTulis():\n",
    "    def __init__(self, nama, stok, hargaSatuan):\n",
    "        self.nama = nama\n",
    "        self.stok = stok\n",
    "        self.hargaSatuan = hargaSatuan\n",
    "        self.harga = stok * hargaSatuan\n",
    "    \n",
    "    def setNama(self, nama):\n",
    "        self.nama = nama\n",
    "    \n",
    "    def setStok(self, stok):\n",
    "        self.stok = stok\n",
    "        self.harga = self.hargaSatuan * self.stok\n",
    "    \n",
    "    def setHargaSatuan(self, hargaSatuan):\n",
    "        self.hargaSatuan = hargaSatuan\n",
    "        self.harga = self.hargaSatuan * self.stok\n",
    "    \n",
    "    def getNama(self):\n",
    "        return self.nama\n",
    "    \n",
    "    def getStok(self):\n",
    "        return self.stok\n",
    "    \n",
    "    def getHargaSatuan(self):\n",
    "        return self.hargaSatuan\n",
    "    \n",
    "    def getHarga(self):\n",
    "        return self.harga\n",
    "    \n",
    "ballpoint = AlatTulis(\"Ballpoint\", 10, 2000)\n",
    "pensil = AlatTulis(\"Pensil\", 10, 1000)\n",
    "penghapus = AlatTulis(\"Penghapus\", 10, 500)\n",
    "\n",
    "print(\"Nama\\t\\t\\t\\t: \", ballpoint.getNama())\n",
    "print(\"Stok\\t\\t\\t\\t: \", ballpoint.getStok())\n",
    "print(\"Harga Satuan\\t\\t\\t: \", ballpoint.getHargaSatuan())\n",
    "print(\"Harga\\t\\t\\t\\t: \", ballpoint.getHarga())\n",
    "print(\"=================RESTOK COY=====================\")\n",
    "\n",
    "ballpoint.setStok(20)\n",
    "print(\"Stok setelah restok\\t\\t: \", ballpoint.getStok())\n",
    "print(\"Harga harga setelah restok\\t: \", ballpoint.getHarga())\n"
   ]
  },
  {
   "cell_type": "code",
   "execution_count": null,
   "metadata": {},
   "outputs": [],
   "source": []
  }
 ],
 "metadata": {
  "kernelspec": {
   "display_name": "Python 3",
   "language": "python",
   "name": "python3"
  },
  "language_info": {
   "codemirror_mode": {
    "name": "ipython",
    "version": 3
   },
   "file_extension": ".py",
   "mimetype": "text/x-python",
   "name": "python",
   "nbconvert_exporter": "python",
   "pygments_lexer": "ipython3",
   "version": "3.10.8"
  }
 },
 "nbformat": 4,
 "nbformat_minor": 2
}
