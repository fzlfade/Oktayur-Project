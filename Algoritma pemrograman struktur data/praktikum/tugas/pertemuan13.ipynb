{
 "cells": [
  {
   "cell_type": "code",
   "execution_count": 11,

   "metadata": {},
   "outputs": [
    {
     "name": "stdout",
     "output_type": "stream",
     "text": [
      "Tom\n"
     ]
    }
   ],
   "source": [
    "class Kucing:\n",
    "    def __init__(self, nama, umur, warna):\n",
    "        self.nama = nama\n",
    "        self.umur = umur\n",
    "        self.warna = warna\n",
    "\n",
    "    def bersuara(self):\n",
    "        print(\"Meow\")\n",
    "\n",
    "kucing1 = Kucing(\"Tom\", 3, \"Hitam\")\n",
    "\n",
    "print(kucing1.nama)"
   ]
  },
  {
   "cell_type": "code",
   "execution_count": 10,
   "metadata": {},
   "outputs": [
    {
     "name": "stdout",
     "output_type": "stream",
     "text": [
      "====================== BALLPOINT ===============================\n",
      "Nama\t\t\t\t:  Ballpoint\n",
      "Stok\t\t\t\t:  10\n",
      "Harga Satuan\t\t\t:  2000\n",
      "Total harga\t\t\t:  20000\n",
      "================= RESTOK BALLPOINT COY =========================\n",
      "Stok setelah restok\t\t:  20\n",
      "Total harga setelah restok\t:  40000\n",
      "\n",
      "====================== PENSIL =================================\n",
      "Nama\t\t\t\t:  Pensil\n",
      "Stok\t\t\t\t:  10\n",
      "Harga Satuan\t\t\t:  1000\n",
      "Total harga\t\t\t:  10000\n",
      "================= RESTOK PENSIL COY ===========================\n",
      "Stok setelah restok\t\t:  20\n",
      "Total harga setelah restok\t:  20000\n",
      "\n",
      "====================== PENGHAPUS ==============================\n",
      "Nama\t\t\t\t:  Penghapus\n",
      "Stok\t\t\t\t:  10\n",
      "Harga Satuan\t\t\t:  500\n",
      "Total harga\t\t\t:  5000\n",
      "================= RESTOK PENGHAPUS COY =========================\n",
      "Stok setelah restok\t\t:  20\n",
      "Total harga setelah restok\t:  10000\n"
     ]
    }
   ],
   "source": [
    "class AlatTulis():\n",
    "    def __init__(self, nama, stok, hargaSatuan):\n",
    "        self.nama = nama\n",
    "        self.stok = stok\n",
    "        self.hargaSatuan = hargaSatuan\n",
    "        self.harga = stok * hargaSatuan\n",
    "    \n",
    "    def setNama(self, nama):\n",
    "        self.nama = nama\n",
    "    \n",
    "    def setStok(self, stok):\n",
    "        self.stok = stok\n",
    "        self.harga = self.hargaSatuan * self.stok\n",
    "    \n",
    "    def setHargaSatuan(self, hargaSatuan):\n",
    "        self.hargaSatuan = hargaSatuan\n",
    "        self.harga = self.hargaSatuan * self.stok\n",
    "    \n",
    "    def getNama(self):\n",
    "        return self.nama\n",
    "    \n",
    "    def getStok(self):\n",
    "        return self.stok\n",
    "    \n",
    "    def getHargaSatuan(self):\n",
    "        return self.hargaSatuan\n",
    "    \n",
    "    def getHarga(self):\n",
    "        return self.harga\n",
    "    \n",
    "ballpoint = AlatTulis(\"Ballpoint\", 10, 2000)\n",
    "pensil = AlatTulis(\"Pensil\", 10, 1000)\n",
    "penghapus = AlatTulis(\"Penghapus\", 10, 500)\n",
    "\n",
    "print(\"====================== BALLPOINT ===============================\")\n",
    "\n",
    "print(\"Nama\\t\\t\\t\\t: \", ballpoint.getNama())\n",
    "print(\"Stok\\t\\t\\t\\t: \", ballpoint.getStok())\n",
    "print(\"Harga Satuan\\t\\t\\t: \", ballpoint.getHargaSatuan())\n",
    "print(\"Total harga\\t\\t\\t: \", ballpoint.getHarga())\n",
    "print(\"================= RESTOK BALLPOINT COY =========================\")\n",
    "\n",
    "ballpoint.setStok(20)\n",
    "print(\"Stok setelah restok\\t\\t: \", ballpoint.getStok())\n",
    "print(\"Total harga setelah restok\\t: \", ballpoint.getHarga())\n",
    "\n",
    "print()\n",
    "print(\"====================== PENSIL =================================\")\n",
    "\n",
    "print(\"Nama\\t\\t\\t\\t: \", pensil.getNama())\n",
    "print(\"Stok\\t\\t\\t\\t: \", pensil.getStok())\n",
    "print(\"Harga Satuan\\t\\t\\t: \", pensil.getHargaSatuan())\n",
    "print(\"Total harga\\t\\t\\t: \", pensil.getHarga())\n",
    "print(\"================= RESTOK PENSIL COY ===========================\")\n",
    "\n",
    "pensil.setStok(20)\n",
    "print(\"Stok setelah restok\\t\\t: \", pensil.getStok())\n",
    "print(\"Total harga setelah restok\\t: \", pensil.getHarga())\n",
    "\n",
    "print()\n",
    "print(\"====================== PENGHAPUS ==============================\")\n",
    "\n",
    "print(\"Nama\\t\\t\\t\\t: \", penghapus.getNama())\n",
    "print(\"Stok\\t\\t\\t\\t: \", penghapus.getStok())\n",
    "print(\"Harga Satuan\\t\\t\\t: \", penghapus.getHargaSatuan())\n",
    "print(\"Total harga\\t\\t\\t: \", penghapus.getHarga())\n",
    "print(\"================= RESTOK PENGHAPUS COY =========================\")\n",
    "\n",
    "penghapus.setStok(20)\n",
    "print(\"Stok setelah restok\\t\\t: \", penghapus.getStok())\n",
    "print(\"Total harga setelah restok\\t: \", penghapus.getHarga())\n"
   ]
  }
 ],
 "metadata": {
  "kernelspec": {
   "display_name": "Python 3",
   "language": "python",
   "name": "python3"
  },
  "language_info": {
   "codemirror_mode": {
    "name": "ipython",
    "version": 3
   },
   "file_extension": ".py",
   "mimetype": "text/x-python",
   "name": "python",
   "nbconvert_exporter": "python",
   "pygments_lexer": "ipython3",
   "version": "3.11.5"
  }
 },
 "nbformat": 4,
 "nbformat_minor": 2
}
