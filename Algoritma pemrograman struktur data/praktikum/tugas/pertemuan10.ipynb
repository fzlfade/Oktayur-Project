{
 "cells": [
  {
   "cell_type": "code",
   "execution_count": 6,
   "metadata": {},
   "outputs": [
    {
     "name": "stdout",
     "output_type": "stream",
     "text": [
      "120\n"
     ]
    }
   ],
   "source": [
    "def faktorial(angka):\n",
    "    if angka == 1:\n",
    "        return angka\n",
    "    else:\n",
    "        return angka * faktorial(angka -1)\n",
    "\n",
    "tempAngka = int(input('masukan angka'))\n",
    "print(faktorial(tempAngka))"
   ]
  },
  {
   "cell_type": "code",
   "execution_count": 29,
   "metadata": {},
   "outputs": [
    {
     "name": "stdout",
     "output_type": "stream",
     "text": [
      "hasil perhitungan dari luas persegi adalah 25\n",
      "hasil perhitungan dari luas lingkaran adalah 153.86\n"
     ]
    }
   ],
   "source": [
    "def luasLingkaran(radius):\n",
    "    return 3.14 * radius * radius\n",
    "\n",
    "def luasSegitiga(alas, tinggi):\n",
    "    return 0.5 * alas * tinggi\n",
    "\n",
    "def luasPersegi(sisi):\n",
    "    return sisi * sisi\n",
    "\n",
    "def tampilHasil(bentuk, hasil):\n",
    "    print(f'hasil perhitungan dari luas {bentuk} adalah {hasil}')\n",
    "\n",
    "selesai = False\n",
    "\n",
    "while selesai == False:\n",
    "    pilihan = input('pilih mau hitung luas apa? persegi/lingkaran/segitiga')\n",
    "    \n",
    "    if pilihan == \"persegi\":\n",
    "        sisi = int(input('masukan sisi persegi!'))\n",
    "        tampilHasil('persegi', luasPersegi(sisi))\n",
    "\n",
    "    elif pilihan == \"segitiga\":\n",
    "        alas = int(input('masukan alas segitiga!'))\n",
    "        tinggi = int(input('masukan tinggi segitiga!'))\n",
    "        tampilHasil('segitiga', luasSegitiga(alas, tinggi))\n",
    "\n",
    "    elif pilihan == \"lingkaran\":\n",
    "        radius = int(input('masukan radius!'))\n",
    "        tampilHasil('lingkaran', luasLingkaran(radius))\n",
    "\n",
    "    else:\n",
    "        print('pilihan mu tidak ada di daftar')\n",
    "    \n",
    "    selesai = True if input('selesai apa belum?(selesai/belum)') == 'selesai' else False\n",
    "    "
   ]
  },
  {
   "cell_type": "code",
   "execution_count": null,
   "metadata": {},
   "outputs": [],
   "source": []
  }
 ],
 "metadata": {
  "kernelspec": {
   "display_name": "Python 3",
   "language": "python",
   "name": "python3"
  },
  "language_info": {
   "codemirror_mode": {
    "name": "ipython",
    "version": 3
   },
   "file_extension": ".py",
   "mimetype": "text/x-python",
   "name": "python",
   "nbconvert_exporter": "python",
   "pygments_lexer": "ipython3",
   "version": "3.10.8"
  }
 },
 "nbformat": 4,
 "nbformat_minor": 2
}
