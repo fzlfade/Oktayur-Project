{
 "cells": [
  {
   "cell_type": "code",
   "execution_count": null,
   "metadata": {},
   "outputs": [],
   "source": [
    "# Weekly Exercise 1\n",
    "'''\n",
    "list = tipe data yang digunakan untuk menyimpan kumpulan data yang dapat diubah-ubah (mutable) dan diindeks.\n",
    "tuple = tipe data yang digunakan untuk menyimpan kumpulan data yang tidak dapat diubah (immutable) dan diindeks.\n",
    "set = tipe data yang digunakan untuk menyimpan kumpulan data yang tidak berurutan (unordered) dan tidak terindeks (unindexed), serta tidak memiliki elemen yang duplikat.\n",
    "dictionary = tipe data yang digunakan untuk menyimpan kumpulan data yang terdiri dari pasangan kunci-nilai (key-value pair), di mana setiap kunci harus unik.\n",
    "'''\n"
   ]
  },
  {
   "cell_type": "code",
   "execution_count": 21,
   "metadata": {},
   "outputs": [
    {
     "name": "stdout",
     "output_type": "stream",
     "text": [
      "nama: Oktario Mufti Yudha\n",
      "kelas: 4\n",
      "tanggalLahir: 01-10-2005\n",
      "noHp: 085772951900\n",
      "alamat: jauh\n",
      "hobi:\n",
      "  hobi1: archery\n",
      "  hobi2: tidur\n"
     ]
    }
   ],
   "source": [
    "# Weekly Exercise 2\n",
    "mhs = {\n",
    "    \"nama\": \"Oktario Mufti Yudha\",\n",
    "    \"kelas\": \"4\",\n",
    "    \"tanggalLahir\": \"01-10-2005\",\n",
    "    \"noHp\": \"085772951900\",\n",
    "    \"alamat\": \"jauh\",\n",
    "    \"hobi\": {\n",
    "        \"hobi1\": \"archery\",\n",
    "        \"hobi2\": \"tidur\"},\n",
    "}\n",
    "\n",
    "for x in mhs:\n",
    "    if x == \"hobi\":\n",
    "       print(f'{x}:')\n",
    "       for y in mhs[\"hobi\"]:\n",
    "           print(f'  {y}: {mhs[\"hobi\"][y]}') \n",
    "    else:\n",
    "        print(f'{x}: {mhs[x]}')"
   ]
  }
 ],
 "metadata": {
  "kernelspec": {
   "display_name": "Python 3",
   "language": "python",
   "name": "python3"
  },
  "language_info": {
   "codemirror_mode": {
    "name": "ipython",
    "version": 3
   },
   "file_extension": ".py",
   "mimetype": "text/x-python",
   "name": "python",
   "nbconvert_exporter": "python",
   "pygments_lexer": "ipython3",
   "version": "3.10.8"
  }
 },
 "nbformat": 4,
 "nbformat_minor": 2
}
