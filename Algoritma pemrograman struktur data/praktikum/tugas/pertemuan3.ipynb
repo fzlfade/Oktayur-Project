{
 "cells": [
  {
   "cell_type": "code",
   "execution_count": 9,
   "metadata": {},
   "outputs": [
    {
     "name": "stdout",
     "output_type": "stream",
     "text": [
      "Nama : Oktario Mufti Yudha\n",
      "Prodi : Teknologi Informasi\n",
      "NPM : 2320506044\n",
      "Alamat : Guyangan, Loano, Purworejo\n",
      "Hobi : -\n",
      "Email : oktayudha05@gmail.com\n",
      "\n"
     ]
    }
   ],
   "source": [
    "file = open(r'/workspaces/Kuliah/Algoritma pemrograman struktur data/praktikum/tugas/data1.txt')\n",
    "fileContent = file.read()\n",
    "print(fileContent)\n"
   ]
  },
  {
   "cell_type": "code",
   "execution_count": 10,
   "metadata": {},
   "outputs": [
    {
     "name": "stdout",
     "output_type": "stream",
     "text": [
      "Nama : Oktario Mufti Yudha\n",
      "\n",
      "Prodi : Teknologi Informasi\n",
      "\n",
      "Email : oktayudha05@gmail.com\n",
      "\n"
     ]
    }
   ],
   "source": [
    "file = open(r'/workspaces/Kuliah/Algoritma pemrograman struktur data/praktikum/tugas/data1.txt')\n",
    "fileLines = file.readlines()\n",
    "print(fileLines[0])\n",
    "print(fileLines[1])\n",
    "print(fileLines[5])"
   ]
  },
  {
   "cell_type": "code",
   "execution_count": 17,
   "metadata": {},
   "outputs": [
    {
     "name": "stdout",
     "output_type": "stream",
     "text": [
      "file berhasil dibuat\n"
     ]
    }
   ],
   "source": [
    "with open('/workspaces/Kuliah/Algoritma pemrograman struktur data/praktikum/tugas/data1.txt', 'r') as readFile:\n",
    "    with open('/workspaces/Kuliah/Algoritma pemrograman struktur data/praktikum/tugas/data2.txt', 'w') as writeFile:\n",
    "        fileList = readFile.readlines()\n",
    "\n",
    "        writeFile.writelines(fileList[0])\n",
    "        writeFile.writelines(fileList[2])\n",
    "        writeFile.writelines(fileList[1])\n",
    "        writeFile.writelines(fileList[3])\n",
    "\n",
    "        print('file berhasil dibuat')\n"
   ]
  },
  {
   "cell_type": "code",
   "execution_count": 26,
   "metadata": {},
   "outputs": [
    {
     "name": "stdout",
     "output_type": "stream",
     "text": [
      "Selamat datang di Toko Maju Jaya\n",
      "Senin, 4 September 2023       13.05\n",
      " \n",
      "DAFTAR BELANJA:\n",
      "Sabun  = Rp  10000\n",
      "Shampo  = Rp  15000\n",
      "Mie instant  = Rp  5000\n",
      "Detergen  = Rp  17500\n",
      " \n",
      "Total = Rp  47500\n"
     ]
    }
   ],
   "source": [
    "print (\"Selamat datang di Toko Maju Jaya\")\n",
    "print (\"Senin, 4 September 2023       13.05\")\n",
    "print(\" \")\n",
    "\n",
    "print (\"DAFTAR BELANJA:\")\n",
    "item1 = 'Sabun'\n",
    "item2 = 'Shampo'\n",
    "item3 = 'Mie instant'\n",
    "item4 = 'Detergen'\n",
    "harga1 = 10000\n",
    "harga2 = 15000\n",
    "harga3 = 5000\n",
    "harga4 = 17500\n",
    "\n",
    "total = harga1+harga2+harga3+harga4\n",
    "\n",
    "print(item1, ' = Rp ' , harga1)\n",
    "print(item2, ' = Rp ' , harga2)\n",
    "print(item3, ' = Rp ' , harga3)\n",
    "print(item4, ' = Rp ' , harga4)\n",
    "\n",
    "print(\" \")\n",
    "print(\"Total = Rp \", total)\n",
    "\n",
    "with open('Kuitansi.txt', 'w') as writefile:\n",
    "        writefile.write(\"Selamat Datang di Toko Maju Jaya\\n\")\n",
    "        writefile.write(\" \\n\")\n",
    "        writefile.write(\"Kuitansi - 4 Septermber 2023\\n\")\n",
    "        writefile.write(\" \\n\")\n",
    "        writefile.write(item1 + \" = Rp \" + str(harga1) + \"\\n\")\n",
    "        writefile.write(item2 + \" = Rp \" + str(harga2) + \"\\n\")\n",
    "        writefile.write(item3 + \" = Rp \" + str(harga3) + \"\\n\")\n",
    "        writefile.write(item4 + \" = Rp \" + str(harga4) + \"\\n\")\n",
    "        writefile.write(\" \\n\")\n",
    "        writefile.write(\"Total Belanja =\" + str(total))"
   ]
  }
 ],
 "metadata": {
  "kernelspec": {
   "display_name": "Python 3",
   "language": "python",
   "name": "python3"
  },
  "language_info": {
   "codemirror_mode": {
    "name": "ipython",
    "version": 3
   },
   "file_extension": ".py",
   "mimetype": "text/x-python",
   "name": "python",
   "nbconvert_exporter": "python",
   "pygments_lexer": "ipython3",
   "version": "3.10.8"
  },
  "orig_nbformat": 4
 },
 "nbformat": 4,
 "nbformat_minor": 2
}
