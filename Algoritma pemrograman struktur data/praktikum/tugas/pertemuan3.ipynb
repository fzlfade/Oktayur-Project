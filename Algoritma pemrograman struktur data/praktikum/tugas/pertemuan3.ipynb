{
 "cells": [
  {
   "cell_type": "code",
   "execution_count": 6,
   "metadata": {},
   "outputs": [
    {
     "name": "stdout",
     "output_type": "stream",
     "text": [
      "Nama : Oktario Mufti Yudha\n",
      "Prodi : Teknologi Informasi\n",
      "NPM : 2320506044\n",
      "Alamat : Guyangan, Loano, Purworejo\n",
      "Hobi : -\n",
      "Email : oktayudha05@gmail.com\n"
     ]
    }
   ],
   "source": [
    "file = open(r'C:/Users/asus/Documents/coding/Kuliah/Algoritma pemrograman struktur data/praktikum/tugas/data1.txt')\n",
    "fileContent = file.read()\n",
    "print(fileContent)\n"
   ]
  },
  {
   "cell_type": "code",
   "execution_count": 7,
   "metadata": {},
   "outputs": [
    {
     "name": "stdout",
     "output_type": "stream",
     "text": [
      "Nama : Oktario Mufti Yudha\n",
      "\n",
      "Prodi : Teknologi Informasi\n",
      "\n",
      "Email : oktayudha05@gmail.com\n"
     ]
    }
   ],
   "source": [
    "file = open(r'C:/Users/asus/Documents/coding/Kuliah/Algoritma pemrograman struktur data/praktikum/tugas/data1.txt')\n",
    "fileLines = file.readlines()\n",
    "print(fileLines[0])\n",
    "print(fileLines[1])\n",
    "print(fileLines[5])"
   ]
  },
  {
   "cell_type": "code",
   "execution_count": 12,
   "metadata": {},
   "outputs": [
    {
     "name": "stdout",
     "output_type": "stream",
     "text": [
      "file berhasil dibuat\n"
     ]
    }
   ],
   "source": [
    "with open(r'C:/Users/asus/Documents/coding/Kuliah/Algoritma pemrograman struktur data/praktikum/tugas/data1.txt', 'r') as readFile:\n",
    "    with open(r'C:/Users/asus\\Documents/coding/Kuliah\\Algoritma pemrograman struktur data/praktikum/tugas/data2.txt', 'w') as writeFile:\n",
    "        fileList = readFile.readlines()\n",
    "\n",
    "        writeFile.writelines(fileList[0])\n",
    "        writeFile.writelines(fileList[2])\n",
    "        writeFile.writelines(fileList[1])\n",
    "        writeFile.writelines(fileList[3])\n",
    "\n",
    "        print('file berhasil dibuat')\n"
   ]
  }
 ],
 "metadata": {
  "kernelspec": {
   "display_name": "Python 3",
   "language": "python",
   "name": "python3"
  },
  "language_info": {
   "codemirror_mode": {
    "name": "ipython",
    "version": 3
   },
   "file_extension": ".py",
   "mimetype": "text/x-python",
   "name": "python",
   "nbconvert_exporter": "python",
   "pygments_lexer": "ipython3",
   "version": "3.10.8"
  },
  "orig_nbformat": 4
 },
 "nbformat": 4,
 "nbformat_minor": 2
}
