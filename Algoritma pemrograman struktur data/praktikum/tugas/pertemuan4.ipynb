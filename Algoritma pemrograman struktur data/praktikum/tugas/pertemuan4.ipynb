{
 "cells": [
  {
   "cell_type": "code",
   "execution_count": 2,
   "metadata": {},
   "outputs": [
    {
     "name": "stdout",
     "output_type": "stream",
     "text": [
      "Anda boleh membuat SIM\n"
     ]
    }
   ],
   "source": [
    "# Weekly Excercise 1\n",
    "umur = int(input(\"Masukkan umur anda: \"))\n",
    "if umur >= 17:\n",
    "    print(\"Anda boleh membuat SIM\")\n",
    "else:\n",
    "    print(\"Anda belum boleh membuat SIM\")"
   ]
  },
  {
   "cell_type": "code",
   "execution_count": 3,
   "metadata": {},
   "outputs": [
    {
     "name": "stdout",
     "output_type": "stream",
     "text": [
      "Grade anda adalah B+\n"
     ]
    }
   ],
   "source": [
    "# Weekly Excercise 2\n",
    "nilai = float(input(\"Masukkan nilai anda: \"))\n",
    "if nilai >= 90:\n",
    "    grade = \"A\"\n",
    "elif nilai >= 80:\n",
    "    grade = \"B+\"\n",
    "elif nilai >= 70:\n",
    "    grade = \"B\"\n",
    "elif nilai >= 60:\n",
    "    grade = \"C+\"\n",
    "elif nilai >= 50:\n",
    "    grade = \"C\"\n",
    "elif nilai >= 40:\n",
    "    grade = \"D\"\n",
    "else:\n",
    "    grade = \"E\"\n",
    "\n",
    "print(\"Grade anda adalah\", grade)"
   ]
  },
  {
   "cell_type": "code",
   "execution_count": 2,
   "metadata": {},
   "outputs": [
    {
     "name": "stdout",
     "output_type": "stream",
     "text": [
      "Nilai anda adalah A-\n"
     ]
    }
   ],
   "source": [
    "# Weekly Excercise 3\n",
    "nilai = float(input(\"Masukkan nilai anda: \"))\n",
    "\n",
    "if nilai >= 80 and nilai <= 100:\n",
    "    nilai = \"A\"\n",
    "elif nilai >= 77.50 and nilai <= 79.99:\n",
    "    nilai = \"A-\"\n",
    "elif nilai >= 75.00 and nilai <= 77.49:\n",
    "    nilai = \"AB\"\n",
    "elif nilai >= 72.50 and nilai <= 74.99:\n",
    "    nilai = \"B+\"\n",
    "elif nilai >= 70.00 and nilai <= 72.49:\n",
    "    nilai = \"B\"\n",
    "elif nilai >= 67.50 and nilai <= 69.99:\n",
    "    nilai = \"B-\"\n",
    "elif nilai >= 65.00 and nilai <= 67.49:\n",
    "    nilai = \"BC\"\n",
    "elif nilai >= 62.50 and nilai <= 64.99:\n",
    "    nilai = \"C+\"\n",
    "elif nilai >= 60.00 and nilai <= 62.49:\n",
    "    nilai = \"C\"\n",
    "elif nilai >= 55.00 and nilai <= 59.99:\n",
    "    nilai = \"C-\"\n",
    "elif nilai >= 50.00 and nilai <= 54.99:\n",
    "    nilai = \"CD\"\n",
    "elif nilai >= 45.00 and nilai <= 49.99:\n",
    "    nilai = \"D+\"\n",
    "elif nilai >= 40.00 and nilai <= 44.99:\n",
    "    nilai = \"D\"\n",
    "elif nilai < 40:\n",
    "    nilai = \"E\"\n",
    "else:\n",
    "    print(\"Nilai tidak valid\")\n",
    "\n",
    "print(\"Nilai anda adalah\", nilai)"
   ]
  }
 ],
 "metadata": {
  "kernelspec": {
   "display_name": "Python 3",
   "language": "python",
   "name": "python3"
  },
  "language_info": {
   "codemirror_mode": {
    "name": "ipython",
    "version": 3
   },
   "file_extension": ".py",
   "mimetype": "text/x-python",
   "name": "python",
   "nbconvert_exporter": "python",
   "pygments_lexer": "ipython3",
   "version": "3.10.8"
  },
  "orig_nbformat": 4
 },
 "nbformat": 4,
 "nbformat_minor": 2
}
