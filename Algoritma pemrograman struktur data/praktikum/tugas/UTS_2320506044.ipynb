{
 "cells": [
  {
   "cell_type": "code",
   "execution_count": 7,
   "metadata": {},
   "outputs": [
    {
     "name": "stdout",
     "output_type": "stream",
     "text": [
      "Total harga yang harus dibayar pasien yang memiliki BPJS dengan kamar kelas 2 selama 10 hari adalah: Rp4250000.0\n"
     ]
    }
   ],
   "source": [
    "pasien = input(\"Masukkan nama pasien: \")\n",
    "alamat = input(\"Masukkan alamat pasien: \")\n",
    "bpjs = input(\"Apakah memiliki BPJS? (y/n): \")\n",
    "lamaInap = int(input(\"Lama inap: \"))\n",
    "kelasKamar = input(\"Kelas kamar: \")\n",
    "\n",
    "# jika punya BPJS, maka dapat diskon 15%\n",
    "if bpjs == 'y':\n",
    "    bpjs = 'memiliki'\n",
    "    if kelasKamar == '1':\n",
    "        harga = 800000\n",
    "    elif kelasKamar == '2':\n",
    "        harga = 500000\n",
    "    elif kelasKamar == '3':\n",
    "        harga = 200000\n",
    "    else:\n",
    "        print(\"Kelas kamar tidak tersedia\")\n",
    "        exit()\n",
    "\n",
    "    diskon = harga * 15 / 100\n",
    "    totalHarga = harga - diskon\n",
    "\n",
    "# jika tidak punya BPJS, maka tidak dapat diskon\n",
    "elif bpjs == 'n':\n",
    "    bpjs = 'tidak memiliki'\n",
    "    if kelasKamar == '1':\n",
    "        harga = 800000\n",
    "    elif kelasKamar == '2':\n",
    "        harga = 500000\n",
    "    elif kelasKamar == '3':\n",
    "        harga = 200000\n",
    "    else:\n",
    "        print(\"Kelas kamar tidak tersedia\")\n",
    "        exit()\n",
    "\n",
    "    totalHarga = harga\n",
    "\n",
    "# jika input BPJS tidak y/n, maka program akan berhenti\n",
    "else:\n",
    "    print(\"BPJS hanya bisa diisi dengan y/n\")\n",
    "    exit()\n",
    "\n",
    "# total harga dikalikan dengan lama inap\n",
    "totalHarga *= lamaInap\n",
    "print(f\"Total harga yang harus dibayar pasien yang {bpjs} BPJS dengan kamar kelas {kelasKamar} selama {lamaInap} hari adalah: Rp{totalHarga}\")\n"
   ]
  },
  {
   "cell_type": "code",
   "execution_count": null,
   "metadata": {},
   "outputs": [],
   "source": []
  }
 ],
 "metadata": {
  "kernelspec": {
   "display_name": "Python 3",
   "language": "python",
   "name": "python3"
  },
  "language_info": {
   "codemirror_mode": {
    "name": "ipython",
    "version": 3
   },
   "file_extension": ".py",
   "mimetype": "text/x-python",
   "name": "python",
   "nbconvert_exporter": "python",
   "pygments_lexer": "ipython3",
   "version": "3.10.8"
  },
  "orig_nbformat": 4
 },
 "nbformat": 4,
 "nbformat_minor": 2
}
