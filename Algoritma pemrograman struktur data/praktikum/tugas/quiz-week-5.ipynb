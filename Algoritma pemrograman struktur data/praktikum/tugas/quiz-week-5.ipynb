{
 "cells": [
  {
   "cell_type": "code",
   "execution_count": 19,
   "metadata": {},
   "outputs": [
    {
     "name": "stdout",
     "output_type": "stream",
     "text": [
      "pengguna tidak ditemukan\n"
     ]
    }
   ],
   "source": [
    "# Quiz 1 Week 5\n",
    "username = input(str(\"Enter your username: \"))\n",
    "password = input(str(\"Enter your password: \"))\n",
    "\n",
    "if username == 'admin':\n",
    "    if password == 'password':\n",
    "        print('Berhasil login sebagai admin')\n",
    "\n",
    "    elif password == '12345':\n",
    "        print('Ganti kata sandinya, pakai password yang aman, yang kamu pakai sekarang sudah terlalu lemah')\n",
    "\n",
    "    else:\n",
    "        print('pengguna tidak ditemukan')\n",
    "    \n",
    "elif username == 'guest':\n",
    "    if password == 'guest':\n",
    "        print('Berhasil login sebagai guest')\n",
    "        \n",
    "    else:\n",
    "        print('Passwordnya salah')\n",
    "\n",
    "else:\n",
    "    print('pengguna tidak ditemukan')"
   ]
  },
  {
   "cell_type": "code",
   "execution_count": 24,
   "metadata": {},
   "outputs": [
    {
     "name": "stdout",
     "output_type": "stream",
     "text": [
      "angka yang anda masukan adalah bilangan ganjil\n"
     ]
    }
   ],
   "source": [
    "# Quiz 2 Week 5\n",
    "bilangan = float(input('masukan angka: '))\n",
    "\n",
    "if bilangan % 1 == 0:\n",
    "    if bilangan > 0:\n",
    "        if bilangan % 2 == 0:\n",
    "            print('angka yang anda masukan adalah bilangan genap')\n",
    "        else:\n",
    "            print('angka yang anda masukan adalah bilangan ganjil')\n",
    "\n",
    "    elif bilangan == 0:\n",
    "        print('angka yang anda masukan adalah nol')\n",
    "\n",
    "    elif bilangan < 0:\n",
    "        print('angka yang anda masukan adalah bilangan negatif')\n",
    "\n",
    "else:\n",
    "    print('angka yang anda masukan bukan bilangan bulat')"
   ]
  }
 ],
 "metadata": {
  "kernelspec": {
   "display_name": "Python 3",
   "language": "python",
   "name": "python3"
  },
  "language_info": {
   "codemirror_mode": {
    "name": "ipython",
    "version": 3
   },
   "file_extension": ".py",
   "mimetype": "text/x-python",
   "name": "python",
   "nbconvert_exporter": "python",
   "pygments_lexer": "ipython3",
   "version": "3.10.8"
  },
  "orig_nbformat": 4
 },
 "nbformat": 4,
 "nbformat_minor": 2
}
