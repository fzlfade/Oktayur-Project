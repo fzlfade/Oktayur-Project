{
 "cells": [
  {
   "cell_type": "code",
   "execution_count": 14,
   "metadata": {},
   "outputs": [
    {
     "name": "stdout",
     "output_type": "stream",
     "text": [
      "2019 bukan tahun kabisat\n"
     ]
    }
   ],
   "source": [
    "# Weekly Excersice 1\n",
    "tahun = int(input(\"Masukkan tahun: \"))\n",
    "\n",
    "if tahun % 4 == 0:\n",
    "    print(f\"{tahun} adalah tahun kabisat\")\n",
    "else:\n",
    "    print(f\"{tahun} bukan tahun kabisat\")"
   ]
  },
  {
   "cell_type": "code",
   "execution_count": 4,
   "metadata": {},
   "outputs": [
    {
     "name": "stdout",
     "output_type": "stream",
     "text": [
      "bilangan pertama 6, bilangan kedua 7, bilangan ketiga 4\n",
      "bilangan yang terbesar adalah 7\n"
     ]
    }
   ],
   "source": [
    "# Weekly Excersice 2\n",
    "\n",
    "i1 = int(input(\"Masukkan bilangan pertama: \"))\n",
    "i2 = int(input(\"Masukkan bilangan kedua  : \"))\n",
    "i3 = int(input(\"Masukkan bilangan ketiga : \"))\n",
    "\n",
    "print(f\"bilangan pertama {i1}, bilangan kedua {i2}, bilangan ketiga {i3}\")\n",
    "\n",
    "if i1 > i2 and i1 > i3:\n",
    "    if i2 > i3:\n",
    "        print(f\"bilangan yang terbesar adalah {i1}\")\n",
    "    else:\n",
    "        print(f\"bilangan yang terbesar adalah {i2}\")\n",
    "\n",
    "elif i2 > i1 and i2 > i3:\n",
    "    if i1 > i3:\n",
    "        print(f\"bilangan yang terbesar adalah {i2}\")\n",
    "    else:\n",
    "        print(f\"bilangan yang terbesar adalah {i3}\")\n",
    "else:\n",
    "    if i1 > i2:\n",
    "        print(f\"bilangan yang terbesar adalah {i1}\")\n",
    "    else:\n",
    "        print(f\"bilangan yang terbesar adalah {i2}\")"
   ]
  }
 ],
 "metadata": {
  "kernelspec": {
   "display_name": "Python 3",
   "language": "python",
   "name": "python3"
  },
  "language_info": {
   "codemirror_mode": {
    "name": "ipython",
    "version": 3
   },
   "file_extension": ".py",
   "mimetype": "text/x-python",
   "name": "python",
   "nbconvert_exporter": "python",
   "pygments_lexer": "ipython3",
   "version": "3.11.5"
  },
  "orig_nbformat": 4
 },
 "nbformat": 4,
 "nbformat_minor": 2
}
