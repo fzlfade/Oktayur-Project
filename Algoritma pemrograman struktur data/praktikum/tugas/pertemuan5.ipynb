{
 "cells": [
  {
   "cell_type": "code",
   "execution_count": 14,
   "metadata": {},
   "outputs": [
    {
     "name": "stdout",
     "output_type": "stream",
     "text": [
      "2019 bukan tahun kabisat\n"
     ]
    }
   ],
   "source": [
    "# Weekly Excersice 1\n",
    "tahun = int(input(\"Masukkan tahun: \"))\n",
    "\n",
    "if tahun % 4 == 0:\n",
    "    print(f\"{tahun} adalah tahun kabisat\")\n",
    "else:\n",
    "    print(f\"{tahun} bukan tahun kabisat\")"
   ]
  },
  {
   "cell_type": "code",
   "execution_count": 4,
   "metadata": {},
   "outputs": [
    {
     "name": "stdout",
     "output_type": "stream",
     "text": [
      "bilangan pertama 6, bilangan kedua 7, bilangan ketiga 4\n",
      "bilangan yang terbesar adalah 7\n"
     ]
    }
   ],
   "source": [
    "# Weekly Excersice 2\n",
    "\n",
    "i1 = int(input(\"Masukkan bilangan pertama: \"))\n",
    "i2 = int(input(\"Masukkan bilangan kedua  : \"))\n",
    "i3 = int(input(\"Masukkan bilangan ketiga : \"))\n",
    "\n",
    "print(f\"bilangan pertama {i1}, bilangan kedua {i2}, bilangan ketiga {i3}\")\n",
    "\n",
    "if i1 > i2 and i1 > i3:\n",
    "   print(f\"bilangan yang terbesar adalah {i1}\")\n",
    "\n",
    "elif i2 > i1 and i2 > i3:\n",
    "    print(f\"bilangan yang terbesar adalah {i2}\")\n",
    "\n",
    "else:\n",
    "    print(f\"bilangan yang terbesar adalah {i3}\")"
   ]
  },
  {
   "cell_type": "code",
   "execution_count": 1,
   "metadata": {},
   "outputs": [
    {
     "name": "stdout",
     "output_type": "stream",
     "text": [
      "harga yang harus dibayar adalah 142500.0\n"
     ]
    }
   ],
   "source": [
    "# Weekly Excersice 3\n",
    "\n",
    "harga = int(input(\"Masukkan harga barang: \"))\n",
    "member = input(\"Apakah anda member: \")\n",
    "\n",
    "if harga > 100000 and harga <= 200000:\n",
    "    diskon = 3/100\n",
    "elif harga > 200000:\n",
    "    diskon = 4/100\n",
    "else:\n",
    "    diskon = 0\n",
    "\n",
    "if member == \"y\":\n",
    "    diskon = diskon + 2/100\n",
    "else:\n",
    "    diskon = diskon\n",
    "\n",
    "hargaDiskon = harga * diskon\n",
    "totalHarga = harga - hargaDiskon\n",
    "\n",
    "print(f\"harga yang harus dibayar adalah {totalHarga}\")\n"
   ]
  },
  {
   "cell_type": "code",
   "execution_count": 2,
   "metadata": {},
   "outputs": [
    {
     "name": "stdout",
     "output_type": "stream",
     "text": [
      "Selamat, anda berhasil membuat akun\n"
     ]
    }
   ],
   "source": [
    "# Weekly Excersice 4\n",
    "\n",
    "username = str(input(\"Masukkan username: \"))\n",
    "email = str(input(\"Masukkan email: \"))\n",
    "password = str(input(\"Masukkan password: \"))\n",
    "\n",
    "if username == '':\n",
    "    print(\"Username tidak boleh kosong\")\n",
    "else:\n",
    "    if email.find('@') == -1:\n",
    "        print(\"Email tidak valid\")\n",
    "    else:\n",
    "        if len(password) < 8:\n",
    "            print(\"Password harus memiliki minimal 8 karakter\")\n",
    "        else:\n",
    "            print(\"Selamat, anda berhasil membuat akun\")"
   ]
  }
 ],
 "metadata": {
  "kernelspec": {
   "display_name": "Python 3",
   "language": "python",
   "name": "python3"
  },
  "language_info": {
   "codemirror_mode": {
    "name": "ipython",
    "version": 3
   },
   "file_extension": ".py",
   "mimetype": "text/x-python",
   "name": "python",
   "nbconvert_exporter": "python",
   "pygments_lexer": "ipython3",
   "version": "3.11.5"
  },
  "orig_nbformat": 4
 },
 "nbformat": 4,
 "nbformat_minor": 2
}
