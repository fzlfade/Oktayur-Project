{
 "cells": [
  {
   "cell_type": "code",
   "execution_count": 4,
   "id": "05c6075b-4b68-41d4-8fc1-3d6e199a5bf3",
   "metadata": {
    "tags": []
   },
   "outputs": [
    {
     "name": "stdout",
     "output_type": "stream",
     "text": [
      "Hello python 101\n"
     ]
    }
   ],
   "source": [
    "print('Hello python 101')"
   ]
  },
  {
   "cell_type": "code",
   "execution_count": 7,
   "id": "ef5569c2-8963-4a61-8f3d-57c851d72ba7",
   "metadata": {
    "tags": []
   },
   "outputs": [
    {
     "name": "stdout",
     "output_type": "stream",
     "text": [
      "Nama         : Oktario Mufti Yudha\n",
      "\n",
      "NPM          : 2320506044\n",
      "\n",
      "Alamat       : Jl Otista Raya, Ciputat, Ciputat, Tangerang Selatan, Banten\n",
      "\n",
      "Berat Badan  : 45 kg\n",
      "\n",
      "Tinggi Badan : 164 cm\n"
     ]
    }
   ],
   "source": [
    "# Weekly Exercise 1\n",
    "\n",
    "print('Nama         : Oktario Mufti Yudha')\n",
    "print()\n",
    "print('NPM          : 2320506044')\n",
    "print()\n",
    "print('Alamat       : Jl Otista Raya, Ciputat, Ciputat, Tangerang Selatan, Banten')\n",
    "print()\n",
    "print('Berat Badan  : 45 kg')\n",
    "print()\n",
    "print('Tinggi Badan : 164 cm')"
   ]
  },
  {
   "cell_type": "code",
   "execution_count": 12,
   "id": "0956f712-8c65-4431-b147-8e8f4a398848",
   "metadata": {
    "tags": []
   },
   "outputs": [
    {
     "name": "stdout",
     "output_type": "stream",
     "text": [
      "\u001b[1mUNIVERSITAS TIDAR\u001b[0m\n",
      "Universitas Tidar merupakan Perguruan Tinggi Pemerintah atau Perguruan Tinggi Negeri yang telah ditetapkan berdasarkan Peraturan Presiden Republik Indonesia Nomor 23 Tahun 2014 pada tanggal 1 April 2014.\n",
      "\n",
      "\u001b[1mJURUSAN TEKNIK ELEKTRO\u001b[0m\n",
      "Jurusan Teknik Elektro terdiri atas tiga program studi, antara lain:\n",
      "    1. S1 Teknik Elektro \u001b[3m(Bachelor of Electrical Engineering)\u001b[0m\n",
      "    2. S1 Teknologi Informasi \u001b[3m(Bachelor of Information Technology)\u001b[0m\n",
      "    3. S1 Teknik Mekatronika \u001b[3m(Bachelor of Mechatronics Engineering)\u001b[0m\n"
     ]
    }
   ],
   "source": [
    "# Weekly Exercise 2\n",
    "\n",
    "tebal = '\\033[1m'\n",
    "miring = '\\033[3m'\n",
    "end = '\\033[0m'\n",
    "\n",
    "\n",
    "print(tebal + 'UNIVERSITAS TIDAR' + end)\n",
    "print('Universitas Tidar merupakan Perguruan Tinggi Pemerintah atau Perguruan Tinggi Negeri yang telah ditetapkan berdasarkan Peraturan Presiden Republik Indonesia Nomor 23 Tahun 2014 pada tanggal 1 April 2014.')\n",
    "print()\n",
    "print(tebal + 'JURUSAN TEKNIK ELEKTRO'+ end)\n",
    "print('Jurusan Teknik Elektro terdiri atas tiga program studi, antara lain:')\n",
    "print('    1. S1 Teknik Elektro ' + miring + '(Bachelor of Electrical Engineering)' + end )\n",
    "print('    2. S1 Teknologi Informasi ' + miring + '(Bachelor of Information Technology)' + end)\n",
    "print('    3. S1 Teknik Mekatronika ' + miring + '(Bachelor of Mechatronics Engineering)' + end)\n"
   ]
  },
  {
   "cell_type": "code",
   "execution_count": null,
   "id": "67a60055-622f-409a-84be-37fbb95f5357",
   "metadata": {},
   "outputs": [],
   "source": []
  }
 ],
 "metadata": {
  "kernelspec": {
   "display_name": "Python 3 (ipykernel)",
   "language": "python",
   "name": "python3"
  },
  "language_info": {
   "codemirror_mode": {
    "name": "ipython",
    "version": 3
   },
   "file_extension": ".py",
   "mimetype": "text/x-python",
   "name": "python",
   "nbconvert_exporter": "python",
   "pygments_lexer": "ipython3",
   "version": "3.10.7"
  }
 },
 "nbformat": 4,
 "nbformat_minor": 5
}
