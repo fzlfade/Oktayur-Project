{
 "cells": [
  {
   "cell_type": "code",
   "execution_count": 7,
   "metadata": {},
   "outputs": [
    {
     "name": "stdout",
     "output_type": "stream",
     "text": [
      "Panjang =  20.5\n",
      "Lebar =  25\n",
      "Tinggi =  10\n",
      "Keliling =  91.0\n",
      "Volume =  5125.0\n"
     ]
    }
   ],
   "source": [
    "# Weekly Exercise 1\n",
    "\n",
    "panjang = 20.5\n",
    "lebar = 25\n",
    "tinggi = 10\n",
    "\n",
    "keliling = 2*(panjang+lebar)\n",
    "luas = panjang*lebar\n",
    "volume = panjang*lebar*tinggi\n",
    "\n",
    "print(\"Panjang = \", panjang)\n",
    "print(\"Lebar = \", lebar)\n",
    "print(\"Tinggi = \", tinggi)\n",
    "print(\"Keliling = \", keliling)\n",
    "print(\"Volume = \", volume)"
   ]
  },
  {
   "cell_type": "code",
   "execution_count": 42,
   "metadata": {},
   "outputs": [
    {
     "name": "stdout",
     "output_type": "stream",
     "text": [
      "rata rata nilai Shafira adalah :  80\n",
      "jumlah nilai Hanif dan Andi adalah :  310\n"
     ]
    }
   ],
   "source": [
    "class k1:\n",
    "    shafira = 85\n",
    "    amanda = 80\n",
    "    aditya = 75\n",
    "    nedia  = 95\n",
    "    widya = 85\n",
    "    hanif = 75\n",
    "    andi = 70\n",
    "    dhanar = 85\n",
    "    hikma = 80\n",
    "\n",
    "class mstate:\n",
    "    shafira = 75\n",
    "    amanda = 90\n",
    "    aditya = 80\n",
    "    nedia = 80\n",
    "    widya = 85\n",
    "    hanif = 90\n",
    "    andi = 75\n",
    "    dhanar = 85\n",
    "    hikma = 75\n",
    "\n",
    "def rata_rata (nilai1, nilai2, byk_nilai):\n",
    "    return int((nilai1 + nilai2) / byk_nilai)\n",
    "\n",
    "\n",
    "print('rata rata nilai Shafira adalah : ', rata_rata(k1.shafira, mstate.shafira, 2))\n",
    "print('jumlah nilai Hanif dan Andi adalah : ', kalkulus1.hanif + metode_stat.hanif + kalkulus1.andi + metode_stat.andi)\n",
    "print('rata rata nilai Widya  adalah : ', ())\n",
    "\n",
    "\n"
   ]
  }
 ],
 "metadata": {
  "kernelspec": {
   "display_name": "Python 3",
   "language": "python",
   "name": "python3"
  },
  "language_info": {
   "codemirror_mode": {
    "name": "ipython",
    "version": 3
   },
   "file_extension": ".py",
   "mimetype": "text/x-python",
   "name": "python",
   "nbconvert_exporter": "python",
   "pygments_lexer": "ipython3",
   "version": "3.10.8"
  },
  "orig_nbformat": 4
 },
 "nbformat": 4,
 "nbformat_minor": 2
}
