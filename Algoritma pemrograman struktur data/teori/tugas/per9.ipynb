{
 "cells": [
  {
   "cell_type": "code",
   "execution_count": null,
   "metadata": {},
   "outputs": [],
   "source": [
    "# selection short\n",
    "def selection_sort(arr):\n",
    "    n = len(arr)\n",
    "    \n",
    "    for i in range(n):\n",
    "        min_index = i\n",
    "        for j in range(i + 1, n):\n",
    "            if arr[j] < arr[min_index]:\n",
    "                min_index = j\n",
    "\n",
    "        arr[i], arr[min_index] = arr[min_index], arr[i]\n",
    "\n",
    "# Contoh penggunaan:\n",
    "my_list = [64, 25, 12, 22, 11]\n",
    "selection_sort(my_list)\n",
    "print(\"Hasil pengurutan:\", my_list)"
   ]
  },
  {
   "cell_type": "code",
   "execution_count": null,
   "metadata": {},
   "outputs": [],
   "source": [
    "#Quick short\n",
    "def quicksort(arr):\n",
    "    if len(arr) <= 1:\n",
    "        return arr\n",
    "    else:\n",
    "        pivot = arr[0]\n",
    "        less_than_pivot = [x for x in arr[1:] if x <= pivot]\n",
    "        greater_than_pivot = [x for x in arr[1:] if x > pivot]\n",
    "        return quicksort(less_than_pivot) + [pivot] + quicksort(greater_than_pivot)\n",
    "\n",
    "# Contoh penggunaan:\n",
    "my_list = [64, 25, 12, 22, 11]\n",
    "sorted_list = quicksort(my_list)\n",
    "print(\"Hasil pengurutan:\", sorted_list)"
   ]
  }
 ],
 "metadata": {
  "language_info": {
   "name": "python"
  }
 },
 "nbformat": 4,
 "nbformat_minor": 2
}
