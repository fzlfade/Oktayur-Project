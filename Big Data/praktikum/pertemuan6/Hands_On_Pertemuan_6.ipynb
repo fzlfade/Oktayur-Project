{
 "cells": [
  {
   "cell_type": "markdown",
   "id": "f89f7684",
   "metadata": {},
   "source": [
    "# Hands-On Pertemuan 6: Data Processing dengan Apache Spark"
   ]
  },
  {
   "cell_type": "markdown",
   "id": "e30ce9d1",
   "metadata": {},
   "source": [
    "## Tujuan:\n",
    "- Memahami dan mempraktikkan data processing menggunakan Apache Spark.\n",
    "- Menggunakan Spark untuk operasi data yang efisien pada dataset besar.\n",
    "- Menerapkan teknik canggih dalam Spark untuk mengatasi kasus penggunaan nyata."
   ]
  },
  {
   "cell_type": "markdown",
   "id": "cd5c2f90",
   "metadata": {},
   "source": [
    "### 1. Pengenalan Spark DataFrames\n",
    "Spark DataFrame menyediakan struktur data yang optimal dengan operasi yang dioptimalkan untuk pemrosesan data besar, yang sangat mirip dengan DataFrame di Pandas atau di RDBMS.\n",
    "\n",
    "- **Tugas 1**: Buat DataFrame sederhana di Spark dan eksplorasi beberapa fungsi dasar yang tersedia."
   ]
  },
  {
   "cell_type": "code",
   "execution_count": 1,
   "id": "986d01c7",
   "metadata": {},
   "outputs": [
    {
     "name": "stderr",
     "output_type": "stream",
     "text": [
      "Setting default log level to \"WARN\".\n",
      "To adjust logging level use sc.setLogLevel(newLevel). For SparkR, use setLogLevel(newLevel).\n",
      "24/10/01 12:46:09 WARN NativeCodeLoader: Unable to load native-hadoop library for your platform... using builtin-java classes where applicable\n",
      "                                                                                \r"
     ]
    },
    {
     "name": "stdout",
     "output_type": "stream",
     "text": [
      "+------------+----------+------+\n",
      "|EmployeeName|Department|Salary|\n",
      "+------------+----------+------+\n",
      "|       James|     Sales|  3000|\n",
      "|     Michael|     Sales|  4600|\n",
      "|      Robert|     Sales|  4100|\n",
      "|       Maria|   Finance|  3000|\n",
      "+------------+----------+------+\n",
      "\n"
     ]
    }
   ],
   "source": [
    "# Contoh membuat DataFrame sederhana dan operasi dasar\n",
    "from pyspark.sql import SparkSession\n",
    "spark = SparkSession.builder.appName('HandsOnPertemuan6').getOrCreate()\n",
    "\n",
    "data = [('James', 'Sales', 3000),\n",
    "        ('Michael', 'Sales', 4600),\n",
    "        ('Robert', 'Sales', 4100),\n",
    "        ('Maria', 'Finance', 3000)]\n",
    "columns = ['EmployeeName', 'Department', 'Salary']\n",
    "\n",
    "df = spark.createDataFrame(data, schema=columns)\n",
    "df.show()"
   ]
  },
  {
   "cell_type": "markdown",
   "id": "fca66b73",
   "metadata": {},
   "source": [
    "### 2. Transformasi Dasar dengan DataFrames\n",
    "Pemrosesan data meliputi transformasi seperti filtering, selections, dan aggregations. Spark menyediakan cara efisien untuk melaksanakan operasi ini.\n",
    "\n",
    "- **Tugas 2**: Gunakan operasi filter, select, groupBy untuk mengekstrak informasi dari data, serta lakukan agregasi data untuk mendapatkan insight tentang dataset menggunakan perintah seperti mean, max, sum."
   ]
  },
  {
   "cell_type": "code",
   "execution_count": 2,
   "id": "58232678",
   "metadata": {},
   "outputs": [
    {
     "name": "stdout",
     "output_type": "stream",
     "text": [
      "+------------+------+\n",
      "|EmployeeName|Salary|\n",
      "+------------+------+\n",
      "|       James|  3000|\n",
      "|     Michael|  4600|\n",
      "|      Robert|  4100|\n",
      "|       Maria|  3000|\n",
      "+------------+------+\n",
      "\n",
      "+------------+----------+------+\n",
      "|EmployeeName|Department|Salary|\n",
      "+------------+----------+------+\n",
      "|     Michael|     Sales|  4600|\n",
      "|      Robert|     Sales|  4100|\n",
      "+------------+----------+------+\n",
      "\n"
     ]
    },
    {
     "name": "stderr",
     "output_type": "stream",
     "text": [
      "[Stage 6:>                                                          (0 + 4) / 4]\r"
     ]
    },
    {
     "name": "stdout",
     "output_type": "stream",
     "text": [
      "+----------+-----------+\n",
      "|Department|avg(Salary)|\n",
      "+----------+-----------+\n",
      "|     Sales|     3900.0|\n",
      "|   Finance|     3000.0|\n",
      "+----------+-----------+\n",
      "\n"
     ]
    },
    {
     "name": "stderr",
     "output_type": "stream",
     "text": [
      "                                                                                \r"
     ]
    }
   ],
   "source": [
    "# Contoh operasi transformasi DataFrame\n",
    "df.select('EmployeeName', 'Salary').show()\n",
    "df.filter(df['Salary'] > 3000).show()\n",
    "df.groupBy('Department').avg('Salary').show()"
   ]
  },
  {
   "cell_type": "markdown",
   "id": "89763d36",
   "metadata": {},
   "source": [
    "### 3. Bekerja dengan Tipe Data Kompleks\n",
    "Spark mendukung tipe data yang kompleks seperti maps, arrays, dan structs yang memungkinkan operasi yang lebih kompleks pada dataset yang kompleks.\n",
    "\n",
    "- **Tugas 3**: Eksplorasi bagaimana mengolah tipe data kompleks dalam Spark DataFrames."
   ]
  },
  {
   "cell_type": "code",
   "execution_count": 5,
   "id": "14701d79",
   "metadata": {},
   "outputs": [
    {
     "name": "stdout",
     "output_type": "stream",
     "text": [
      "+------------+----------+------+-----------+\n",
      "|EmployeeName|Department|Salary|SalaryBonus|\n",
      "+------------+----------+------+-----------+\n",
      "|       James|     Sales|  3000|      300.0|\n",
      "|     Michael|     Sales|  4600|      460.0|\n",
      "|      Robert|     Sales|  4100|      410.0|\n",
      "|       Maria|   Finance|  3000|      300.0|\n",
      "+------------+----------+------+-----------+\n",
      "\n",
      "+------------+----------+------+-----------+-----------------+\n",
      "|EmployeeName|Department|Salary|SalaryBonus|TotalCompensation|\n",
      "+------------+----------+------+-----------+-----------------+\n",
      "|       James|     Sales|  3000|      300.0|           3300.0|\n",
      "|     Michael|     Sales|  4600|      460.0|           5060.0|\n",
      "|      Robert|     Sales|  4100|      410.0|           4510.0|\n",
      "|       Maria|   Finance|  3000|      300.0|           3300.0|\n",
      "+------------+----------+------+-----------+-----------------+\n",
      "\n"
     ]
    }
   ],
   "source": [
    "# Contoh manipulasi tipe data kompleks\n",
    "df.withColumn('SalaryBonus', df['Salary'] * 0.1).show()\n",
    "df.withColumn('TotalCompensation', df['Salary'] + df['SalaryBonus']).show()"
   ]
  },
  {
   "cell_type": "markdown",
   "id": "5b3b58dd",
   "metadata": {},
   "source": [
    "### 4. Operasi Data Lanjutan\n",
    "Menggunakan Spark untuk operasi lanjutan seperti window functions, user-defined functions (UDFs), dan mengoptimalkan query.\n",
    "\n",
    "- **Tugas 4**: Implementasikan window function untuk menghitung running totals atau rangkings."
   ]
  },
  {
   "cell_type": "code",
   "execution_count": 7,
   "id": "035312eb",
   "metadata": {},
   "outputs": [
    {
     "name": "stdout",
     "output_type": "stream",
     "text": [
      "+------------+----------+------+-----------+----+\n",
      "|EmployeeName|Department|Salary|SalaryBonus|Rank|\n",
      "+------------+----------+------+-----------+----+\n",
      "|       Maria|   Finance|  3000|      300.0|   1|\n",
      "|       James|     Sales|  3000|      300.0|   1|\n",
      "|      Robert|     Sales|  4100|      410.0|   2|\n",
      "|     Michael|     Sales|  4600|      460.0|   3|\n",
      "+------------+----------+------+-----------+----+\n",
      "\n"
     ]
    }
   ],
   "source": [
    "# Contoh menggunakan window functions\n",
    "from pyspark.sql.window import Window\n",
    "from pyspark.sql import functions as F\n",
    "\n",
    "windowSpec = Window.partitionBy('Department').orderBy('Salary')\n",
    "df.withColumn('Rank', F.rank().over(windowSpec)).show()"
   ]
  },
  {
   "cell_type": "markdown",
   "id": "f8a097ec",
   "metadata": {},
   "source": [
    "### 5. Kesimpulan dan Eksplorasi Lebih Lanjut\n",
    "Review apa yang telah dipelajari tentang pemrosesan data menggunakan Spark dan eksplorasi teknik lebih lanjut untuk mengoptimalkan pemrosesan data Anda.\n",
    "- **Tugas 5**: Buat ringkasan dari semua operasi yang telah dilakukan dan bagaimana teknik ini dapat diterapkan pada proyek data Anda."
   ]
  }
 ],
 "metadata": {
  "kernelspec": {
   "display_name": "Python 3 (ipykernel)",
   "language": "python",
   "name": "python3"
  },
  "language_info": {
   "codemirror_mode": {
    "name": "ipython",
    "version": 3
   },
   "file_extension": ".py",
   "mimetype": "text/x-python",
   "name": "python",
   "nbconvert_exporter": "python",
   "pygments_lexer": "ipython3",
   "version": "3.9.2"
  }
 },
 "nbformat": 4,
 "nbformat_minor": 5
}
