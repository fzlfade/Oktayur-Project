{
 "cells": [
  {
   "cell_type": "code",
   "execution_count": 2,
   "metadata": {},
   "outputs": [],
   "source": [
    "from pyspark.sql import SparkSession\n",
    "from pyspark.ml.feature import VectorAssembler"
   ]
  },
  {
   "cell_type": "code",
   "execution_count": 3,
   "metadata": {},
   "outputs": [
    {
     "name": "stderr",
     "output_type": "stream",
     "text": [
      "24/12/04 02:06:07 WARN Utils: Your hostname, codespaces-fcac35 resolves to a loopback address: 127.0.0.1; using 10.0.0.62 instead (on interface eth0)\n",
      "24/12/04 02:06:07 WARN Utils: Set SPARK_LOCAL_IP if you need to bind to another address\n",
      "Setting default log level to \"WARN\".\n",
      "To adjust logging level use sc.setLogLevel(newLevel). For SparkR, use setLogLevel(newLevel).\n",
      "24/12/04 02:06:07 WARN NativeCodeLoader: Unable to load native-hadoop library for your platform... using builtin-java classes where applicable\n",
      "24/12/04 02:06:08 WARN Utils: Service 'SparkUI' could not bind on port 4040. Attempting port 4041.\n",
      "24/12/04 02:06:08 WARN Utils: Service 'SparkUI' could not bind on port 4041. Attempting port 4042.\n",
      "24/12/04 02:06:12 WARN Instrumentation: [c6b75b48] regParam is zero, which might cause numerical instability and overfitting.\n",
      "24/12/04 02:06:13 WARN InstanceBuilder: Failed to load implementation from:dev.ludovic.netlib.blas.JNIBLAS\n",
      "24/12/04 02:06:14 WARN InstanceBuilder: Failed to load implementation from:dev.ludovic.netlib.lapack.JNILAPACK\n"
     ]
    },
    {
     "name": "stdout",
     "output_type": "stream",
     "text": [
      "Coefficients: [0.9999999999999992]\n",
      "Intercept: 15.000000000000009\n"
     ]
    }
   ],
   "source": [
    "# Example: Linear Regression with Spark MLlib\n",
    "from pyspark.ml.regression import LinearRegression\n",
    "\n",
    "# Initialize Spark Session\n",
    "spark = SparkSession.builder.appName('MLlib Example').getOrCreate()\n",
    "\n",
    "# Load sample data\n",
    "data = [(1, 5.0, 20.0), (2, 10.0, 25.0), (3, 15.0, 30.0), (4, 20.0, 35.0)]\n",
    "columns = ['ID', 'Feature', 'Target']\n",
    "df = spark.createDataFrame(data, columns)\n",
    "\n",
    "# Prepare data for modeling\n",
    "assembler = VectorAssembler(inputCols=['Feature'], outputCol='Features')\n",
    "df_transformed = assembler.transform(df)\n",
    "\n",
    "# Train a linear regression model\n",
    "lr = LinearRegression(featuresCol='Features', labelCol='Target')\n",
    "model = lr.fit(df_transformed)\n",
    "\n",
    "# Print model coefficients\n",
    "print(f'Coefficients: {model.coefficients}')\n",
    "print(f'Intercept: {model.intercept}')"
   ]
  },
  {
   "cell_type": "code",
   "execution_count": 4,
   "metadata": {},
   "outputs": [
    {
     "name": "stderr",
     "output_type": "stream",
     "text": [
      "24/12/04 02:06:18 WARN SparkSession: Using an existing Spark session; only runtime SQL configurations will take effect.\n"
     ]
    },
    {
     "name": "stdout",
     "output_type": "stream",
     "text": [
      "Coefficients: [-12.262057918200023,4.087352262827852]\n",
      "Intercept: 11.568912715666139\n"
     ]
    }
   ],
   "source": [
    "# Practice: Logistic Regression\n",
    "from pyspark.ml.classification import LogisticRegression\n",
    "\n",
    "# Inisialisasi SparkSession\n",
    "spark = SparkSession.builder.appName(\"LogisticRegressionExample\").getOrCreate()\n",
    "\n",
    "# Contoh dataset\n",
    "data = [(1, 2.0, 3.0, 0), (2, 1.0, 5.0, 1), (3, 2.5, 4.5, 1), (4, 3.0, 6.0, 0)]\n",
    "columns = ['ID', 'Feature1', 'Feature2', 'Label']\n",
    "df = spark.createDataFrame(data, columns)\n",
    "\n",
    "# mengubah kolom feature1 dan feature2 menjadi vector\n",
    "assembler = VectorAssembler(inputCols=['Feature1', 'Feature2'], outputCol='Features')\n",
    "df = assembler.transform(df)\n",
    "\n",
    "# melatih model\n",
    "lr = LogisticRegression(featuresCol='Features', labelCol='Label')\n",
    "model = lr.fit(df)\n",
    "\n",
    "# menampilkan hasil\n",
    "print(f'Coefficients: {model.coefficients}')\n",
    "print(f'Intercept: {model.intercept}')\n"
   ]
  },
  {
   "cell_type": "code",
   "execution_count": 5,
   "metadata": {},
   "outputs": [
    {
     "name": "stdout",
     "output_type": "stream",
     "text": [
      "Coefficients: [-12.262057935078403,4.087352268454035]\n",
      "Intercept: 11.568912732544247\n"
     ]
    }
   ],
   "source": [
    "# Practice: Logistic Regression\n",
    "from pyspark.ml.classification import LogisticRegression\n",
    "\n",
    "# contoh dataset\n",
    "data = [(1, 2.0, 3.0, 0), (2, 1.0, 5.0, 1), (3, 2.5, 4.5, 1), (4, 3.0, 6.0, 0)]\n",
    "columns = ['ID', 'Feature1', 'Feature2', 'Label']\n",
    "df = spark.createDataFrame(data, columns)\n",
    "\n",
    "# menguhab kolom feature1 dan feature2 menjadi vector\n",
    "assembler = VectorAssembler(inputCols=['Feature1', 'Feature2'], outputCol='Features')\n",
    "df = assembler.transform(df)\n",
    "\n",
    "# melatih model\n",
    "lr = LogisticRegression(featuresCol='Features', labelCol='Label')\n",
    "model = lr.fit(df)\n",
    "\n",
    "# menampilkan hasil\n",
    "print(f'Coefficients: {model.coefficients}')\n",
    "print(f'Intercept: {model.intercept}')\n"
   ]
  },
  {
   "cell_type": "markdown",
   "metadata": {},
   "source": [
    "# Homework"
   ]
  },
  {
   "cell_type": "code",
   "execution_count": null,
   "metadata": {},
   "outputs": [
    {
     "name": "stdout",
     "output_type": "stream",
     "text": [
      "+----------+------+------+------+------+------+-------+\n",
      "|      Date|  Open|  High|   Low| Close|Volume|OpenInt|\n",
      "+----------+------+------+------+------+------+-------+\n",
      "|2015-04-30|14.793|14.852|14.714|14.714| 39474|      0|\n",
      "|2015-05-01|14.813|14.891|14.764|14.881|  8851|      0|\n",
      "|2015-05-04| 14.96|15.029|14.891|14.921| 17296|      0|\n",
      "|2015-05-05|14.911|14.931|14.685|14.704| 81695|      0|\n",
      "|2015-05-06|14.695|14.695|14.557|14.596| 10175|      0|\n",
      "+----------+------+------+------+------+------+-------+\n",
      "only showing top 5 rows\n",
      "\n",
      "Model Accuracy: 1.0\n",
      "Best Model Accuracy after Tuning: 0.6666666666666666\n"
     ]
    }
   ],
   "source": [
    "from pyspark.ml.evaluation import MulticlassClassificationEvaluator\n",
    "from pyspark.ml.tuning import CrossValidator, ParamGridBuilder\n",
    "\n",
    "spark = SparkSession.builder.appName(\"Homework\").getOrCreate()\n",
    "dataPath = \"actx.us.txt\"\n",
    "df = spark.read.csv(dataPath, header=True, inferSchema=True)\n",
    "df.show(5)\n",
    "\n",
    "df = df.withColumn(\"Target\", (df[\"Close\"] > df[\"Open\"]).cast(\"int\"))\n",
    "df = df.select(\"Open\", \"High\", \"Low\", \"Close\", \"Volume\", \"Target\")\n",
    "df = df.na.drop()\n",
    "\n",
    "featureCols = [\"Open\", \"High\", \"Low\", \"Close\", \"Volume\"]\n",
    "assembler = VectorAssembler(inputCols=featureCols, outputCol=\"Features\")\n",
    "df = assembler.transform(df)\n",
    "trainDf, testDf = df.randomSplit([0.8, 0.2], seed=42)\n",
    "\n",
    "lr = LogisticRegression(featuresCol=\"Features\", labelCol=\"Target\")\n",
    "model = lr.fit(trainDf)\n",
    "predictions = model.transform(testDf)\n",
    "evaluator = MulticlassClassificationEvaluator(labelCol=\"Target\", predictionCol=\"prediction\", metricName=\"accuracy\")\n",
    "accuracy = evaluator.evaluate(predictions)\n",
    "print(f\"Model Accuracy: {accuracy}\")\n",
    "\n",
    "paramGrid = ParamGridBuilder().addGrid(lr.regParam, [0.01, 0.1, 1.0]).addGrid(lr.elasticNetParam, [0.0, 0.5, 1.0]).build()\n",
    "crossval = CrossValidator(estimator=lr, estimatorParamMaps=paramGrid, evaluator=evaluator, numFolds=5)\n",
    "cvModel = crossval.fit(trainDf)\n",
    "bestModel = cvModel.bestModel\n",
    "predictions = bestModel.transform(testDf)\n",
    "accuracy = evaluator.evaluate(predictions)\n",
    "print(f\"Best Model Accuracy after Tuning: {accuracy}\")\n",
    "\n"
   ]
  }
 ],
 "metadata": {
  "kernelspec": {
   "display_name": "Python 3",
   "language": "python",
   "name": "python3"
  },
  "language_info": {
   "codemirror_mode": {
    "name": "ipython",
    "version": 3
   },
   "file_extension": ".py",
   "mimetype": "text/x-python",
   "name": "python",
   "nbconvert_exporter": "python",
   "pygments_lexer": "ipython3",
   "version": "3.12.1"
  }
 },
 "nbformat": 4,
 "nbformat_minor": 2
}
