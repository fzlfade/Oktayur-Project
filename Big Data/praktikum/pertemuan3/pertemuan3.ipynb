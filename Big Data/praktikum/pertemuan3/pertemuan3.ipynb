{
 "cells": [
  {
   "cell_type": "code",
   "execution_count": 1,
   "metadata": {},
   "outputs": [
    {
     "name": "stdout",
     "output_type": "stream",
     "text": [
      "defaultdict(<class 'int'>, {'hello': 2, 'world': 2})\n"
     ]
    }
   ],
   "source": [
    "from collections import defaultdict\n",
    "\n",
    "def map_function(text):\n",
    "       for word in text.split():\n",
    "           yield (word, 1)\n",
    "\n",
    "def reduce_function(pairs):\n",
    "    result = defaultdict(int)\n",
    "    for word, count in pairs:\n",
    "        result[word] += count\n",
    "    return result\n",
    "\n",
    "print(reduce_function(map_function(\"hello world hello world\")))"
   ]
  },
  {
   "cell_type": "code",
   "execution_count": 6,
   "metadata": {},
   "outputs": [
    {
     "name": "stdout",
     "output_type": "stream",
     "text": [
      "{'hello': 0.6666666666666666, 'world': 0.3333333333333333}\n"
     ]
    }
   ],
   "source": [
    "from collections import defaultdict\n",
    "\n",
    "def map_function_avg(text):\n",
    "    word_count = defaultdict(int)\n",
    "    total_words = 0\n",
    "    for word in text.split():\n",
    "        word_count[word] += 1\n",
    "        total_words += 1\n",
    "    return word_count, total_words\n",
    "\n",
    "def reduce_function_avg(word_count, total_words):\n",
    "    avg_word_count = {}\n",
    "    for word, count in word_count.items():\n",
    "        avg_word_count[word] = count / total_words\n",
    "    return avg_word_count\n",
    "\n",
    "text = \"hello world hello hello hello world\"\n",
    "\n",
    "word_count, total_words = map_function_avg(text)\n",
    "average_count = reduce_function_avg(word_count, total_words)\n",
    "\n",
    "print(average_count)"
   ]
  }
 ],
 "metadata": {
  "kernelspec": {
   "display_name": "Python 3 (ipykernel)",
   "language": "python",
   "name": "python3"
  },
  "language_info": {
   "codemirror_mode": {
    "name": "ipython",
    "version": 3
   },
   "file_extension": ".py",
   "mimetype": "text/x-python",
   "name": "python",
   "nbconvert_exporter": "python",
   "pygments_lexer": "ipython3",
   "version": "3.9.2"
  }
 },
 "nbformat": 4,
 "nbformat_minor": 2
}
