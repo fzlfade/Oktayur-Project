{
 "cells": [
  {
   "cell_type": "code",
   "execution_count": null,
   "metadata": {},
   "outputs": [
    {
     "name": "stdout",
     "output_type": "stream",
     "text": [
      "Courses inserted successfully.\n"
     ]
    }
   ],
   "source": [
    "from pymongo import MongoClient, InsertOne, UpdateOne, DeleteOne\n",
    "\n",
    "# Establish client connection\n",
    "client = MongoClient('mongodb://localhost:27017')\n",
    "db = client['university_db']\n",
    "courses_collection = db['courses']\n",
    "\n",
    "# Bulk insert of courses with student enrollments\n",
    "operations = [\n",
    "    InsertOne({'course': 'Math 101', 'enrollments': 30, 'department': 'Mathematics'}),\n",
    "    InsertOne({'course': 'CS 102', 'enrollments': 25, 'department': 'Computer Science'}),\n",
    "    InsertOne({'course': 'History 201', 'enrollments': 20, 'department': 'History'}),\n",
    "    InsertOne({'course': 'Physics 202', 'enrollments': 15, 'department': 'Physics'})\n",
    "]\n",
    "courses_collection.bulk_write(operations)\n",
    "print('Courses inserted successfully.')\n"
   ]
  },
  {
   "cell_type": "code",
   "execution_count": 3,
   "metadata": {},
   "outputs": [
    {
     "name": "stdout",
     "output_type": "stream",
     "text": [
      "{'_id': ObjectId('675c937b667ecb43fb3b15ff'), 'course': 'Math 101', 'enrollments': 30, 'department': 'Mathematics'}\n",
      "{'_id': ObjectId('675c937b667ecb43fb3b1600'), 'course': 'CS 102', 'enrollments': 25, 'department': 'Computer Science'}\n"
     ]
    }
   ],
   "source": [
    "# Query for courses with enrollments greater than 20\n",
    "for course in courses_collection.find({'enrollments': {'$gt': 20}}):\n",
    "    print(course)"
   ]
  },
  {
   "cell_type": "code",
   "execution_count": 4,
   "metadata": {},
   "outputs": [
    {
     "name": "stdout",
     "output_type": "stream",
     "text": [
      "{'_id': ObjectId('675c937b667ecb43fb3b15ff'), 'course': 'Math 101', 'enrollments': 30, 'department': 'Mathematics'}\n",
      "{'_id': ObjectId('675c937b667ecb43fb3b1600'), 'course': 'CS 102', 'enrollments': 25, 'department': 'Computer Science'}\n"
     ]
    }
   ],
   "source": [
    "# Query courses in Computer Science or Mathematics departments\n",
    "for course in courses_collection.find({'department': {'$in': ['Computer Science', 'Mathematics']}}):\n",
    "    print(course)"
   ]
  },
  {
   "cell_type": "code",
   "execution_count": 5,
   "metadata": {},
   "outputs": [
    {
     "name": "stdout",
     "output_type": "stream",
     "text": [
      "{'_id': 'Computer Science', 'average_enrollment': 25.0}\n",
      "{'_id': 'History', 'average_enrollment': 20.0}\n",
      "{'_id': 'Physics', 'average_enrollment': 15.0}\n",
      "{'_id': 'Mathematics', 'average_enrollment': 30.0}\n"
     ]
    }
   ],
   "source": [
    "# Average enrollment per department using aggregation\n",
    "pipeline = [\n",
    "    {'$group': {'_id': '$department', 'average_enrollment': {'$avg': '$enrollments'}}}\n",
    "]\n",
    "for result in courses_collection.aggregate(pipeline):\n",
    "    print(result)\n"
   ]
  },
  {
   "cell_type": "code",
   "execution_count": 6,
   "metadata": {},
   "outputs": [
    {
     "name": "stdout",
     "output_type": "stream",
     "text": [
      "{'_id': 'Mathematics', 'max_enrollment': 30}\n",
      "{'_id': 'History', 'max_enrollment': 20}\n",
      "{'_id': 'Physics', 'max_enrollment': 15}\n",
      "{'_id': 'Computer Science', 'max_enrollment': 25}\n"
     ]
    }
   ],
   "source": [
    "# Maximum enrollment per department\n",
    "pipeline = [\n",
    "    {'$group': {'_id': '$department', 'max_enrollment': {'$max': '$enrollments'}}}\n",
    "]\n",
    "for result in courses_collection.aggregate(pipeline):\n",
    "    print(result)"
   ]
  },
  {
   "cell_type": "code",
   "execution_count": 7,
   "metadata": {},
   "outputs": [
    {
     "name": "stdout",
     "output_type": "stream",
     "text": [
      "{'_id': ObjectId('675c937b667ecb43fb3b15ff'), 'enrollments': 30, 'course_name': 'Math 101', 'department_name': 'Mathematics'}\n",
      "{'_id': ObjectId('675c937b667ecb43fb3b1600'), 'enrollments': 25, 'course_name': 'CS 102', 'department_name': 'Computer Science'}\n",
      "{'_id': ObjectId('675c937b667ecb43fb3b1601'), 'enrollments': 20, 'course_name': 'History 201', 'department_name': 'History'}\n",
      "{'_id': ObjectId('675c937b667ecb43fb3b1602'), 'enrollments': 15, 'course_name': 'Physics 202', 'department_name': 'Physics'}\n"
     ]
    }
   ],
   "source": [
    "# Projection to rename fields\n",
    "pipeline = [\n",
    "    {'$project': {'course_name': '$course', 'department_name': '$department', 'enrollments': 1}}\n",
    "]\n",
    "for result in courses_collection.aggregate(pipeline):\n",
    "    print(result)\n"
   ]
  },
  {
   "cell_type": "code",
   "execution_count": 8,
   "metadata": {},
   "outputs": [
    {
     "name": "stdout",
     "output_type": "stream",
     "text": [
      "{'_id': ObjectId('675c937b667ecb43fb3b15ff'), 'course': 'Math 101', 'enrollments': 30, 'department': 'Mathematics', 'enrollment_category': 'high'}\n",
      "{'_id': ObjectId('675c937b667ecb43fb3b1600'), 'course': 'CS 102', 'enrollments': 25, 'department': 'Computer Science', 'enrollment_category': 'high'}\n",
      "{'_id': ObjectId('675c937b667ecb43fb3b1601'), 'course': 'History 201', 'enrollments': 20, 'department': 'History', 'enrollment_category': 'low'}\n",
      "{'_id': ObjectId('675c937b667ecb43fb3b1602'), 'course': 'Physics 202', 'enrollments': 15, 'department': 'Physics', 'enrollment_category': 'low'}\n"
     ]
    }
   ],
   "source": [
    "# Adding enrollment category field based on enrollments\n",
    "pipeline = [\n",
    "    {'$addFields': {'enrollment_category': {'$cond': {'if': {'$gt': ['$enrollments', 20]}, 'then': 'high', 'else': 'low'}}}}\n",
    "]\n",
    "for result in courses_collection.aggregate(pipeline):\n",
    "    print(result)\n"
   ]
  },
  {
   "cell_type": "markdown",
   "metadata": {},
   "source": [
    "# Homework"
   ]
  },
  {
   "cell_type": "code",
   "execution_count": null,
   "metadata": {},
   "outputs": [
    {
     "name": "stdout",
     "output_type": "stream",
     "text": [
      "\n",
      "Tugas 1\n",
      "{'_id': 'Mathematics', 'course_count': 1}\n",
      "{'_id': 'History', 'course_count': 1}\n",
      "{'_id': 'Physics', 'course_count': 1}\n",
      "{'_id': 'Computer Science', 'course_count': 1}\n",
      "\n",
      "Tugas 2\n",
      "\n",
      "Tugas 3\n",
      "{'_id': ObjectId('675c937b667ecb43fb3b15ff'), 'course': 'Math 101', 'enrollments': 30, 'department': 'Mathematics', 'student_details': []}\n",
      "{'_id': ObjectId('675c937b667ecb43fb3b1600'), 'course': 'CS 102', 'enrollments': 25, 'department': 'Computer Science', 'student_details': []}\n",
      "{'_id': ObjectId('675c937b667ecb43fb3b1601'), 'course': 'History 201', 'enrollments': 20, 'department': 'History', 'student_details': []}\n",
      "{'_id': ObjectId('675c937b667ecb43fb3b1602'), 'course': 'Physics 202', 'enrollments': 15, 'department': 'Physics', 'student_details': []}\n"
     ]
    }
   ],
   "source": [
    "from pymongo import MongoClient\n",
    "\n",
    "client = MongoClient('mongodb://localhost:27017')\n",
    "db = client['university_db']\n",
    "coursesCollection = db['courses']\n",
    "studentsCollection = db['students']\n",
    "\n",
    "# Tugas 1\n",
    "pipelineHw1 = [\n",
    "    {'$group': {'_id': '$department', 'course_count': {'$sum': 1}}}\n",
    "]\n",
    "print(\"\\nTugas 1\")\n",
    "for result in coursesCollection.aggregate(pipelineHw1):\n",
    "    print(result)\n",
    "\n",
    "# Tugas 2\n",
    "pipelineHw2 = [\n",
    "    {'$match': {'enrollments': {'$gt': 25}, 'department': 'Computer Science'}},\n",
    "    {'$group': {'_id': '$department', 'courses_over_25': {'$push': '$course'}}}\n",
    "]\n",
    "print(\"\\nTugas 2\")\n",
    "for result in coursesCollection.aggregate(pipelineHw2):\n",
    "    print(result)\n",
    "\n",
    "# Tugas 3\n",
    "pipelineHw3 = [\n",
    "    {'$lookup': {\n",
    "        'from': 'students',\n",
    "        'localField': 'course',\n",
    "        'foreignField': 'course_name',\n",
    "        'as': 'student_details'\n",
    "    }}\n",
    "]\n",
    "print(\"\\nTugas 3\")\n",
    "for result in coursesCollection.aggregate(pipelineHw3):\n",
    "    print(result)\n"
   ]
  }
 ],
 "metadata": {
  "kernelspec": {
   "display_name": "Python 3",
   "language": "python",
   "name": "python3"
  },
  "language_info": {
   "codemirror_mode": {
    "name": "ipython",
    "version": 3
   },
   "file_extension": ".py",
   "mimetype": "text/x-python",
   "name": "python",
   "nbconvert_exporter": "python",
   "pygments_lexer": "ipython3",
   "version": "3.12.1"
  }
 },
 "nbformat": 4,
 "nbformat_minor": 2
}
