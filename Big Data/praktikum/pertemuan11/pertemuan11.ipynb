{
 "cells": [
  {
   "cell_type": "code",
   "execution_count": null,
   "metadata": {
    "vscode": {
     "languageId": "plaintext"
    }
   },
   "outputs": [],
   "source": [
    "from pymongo import MongoClient, InsertOne, UpdateOne, DeleteOne\n",
    "\n",
    "# Establish client connection\n",
    "client = MongoClient('mongodb://localhost:27017/')\n",
    "db = client['university_db']\n",
    "courses_collection = db['courses']\n",
    "\n",
    "# Bulk insert of courses with student enrollments\n",
    "operations = [\n",
    "    InsertOne({'course': 'Math 101', 'enrollments': 30, 'department': 'Mathematics'}),\n",
    "    InsertOne({'course': 'CS 102', 'enrollments': 25, 'department': 'Computer Science'}),\n",
    "    InsertOne({'course': 'History 201', 'enrollments': 20, 'department': 'History'}),\n",
    "    InsertOne({'course': 'Physics 202', 'enrollments': 15, 'department': 'Physics'})\n",
    "]\n",
    "courses_collection.bulk_write(operations)\n",
    "print('Courses inserted successfully.')\n"
   ]
  }
 ],
 "metadata": {
  "language_info": {
   "name": "python"
  }
 },
 "nbformat": 4,
 "nbformat_minor": 2
}
