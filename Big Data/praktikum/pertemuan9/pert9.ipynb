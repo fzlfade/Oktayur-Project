{
 "cells": [
  {
   "cell_type": "markdown",
   "metadata": {},
   "source": [
    "**Import pyspark.sql**"
   ]
  },
  {
   "cell_type": "code",
   "execution_count": 1,
   "metadata": {},
   "outputs": [
    {
     "name": "stderr",
     "output_type": "stream",
     "text": [
      "24/10/23 01:33:27 WARN Utils: Your hostname, codespaces-d86cfb resolves to a loopback address: 127.0.0.1; using 10.0.3.190 instead (on interface eth0)\n",
      "24/10/23 01:33:27 WARN Utils: Set SPARK_LOCAL_IP if you need to bind to another address\n",
      "Setting default log level to \"WARN\".\n",
      "To adjust logging level use sc.setLogLevel(newLevel). For SparkR, use setLogLevel(newLevel).\n",
      "24/10/23 01:33:28 WARN NativeCodeLoader: Unable to load native-hadoop library for your platform... using builtin-java classes where applicable\n",
      "24/10/23 01:33:30 WARN Utils: Service 'SparkUI' could not bind on port 4040. Attempting port 4041.\n"
     ]
    }
   ],
   "source": [
    "from pyspark.sql import SparkSession\n",
    "\n",
    "spark = SparkSession.builder.appName('tugas_9').getOrCreate()"
   ]
  },
  {
   "cell_type": "markdown",
   "metadata": {},
   "source": [
    "### 1. Basic SQL Operations in Spark SQL"
   ]
  },
  {
   "cell_type": "code",
   "execution_count": 11,
   "metadata": {},
   "outputs": [
    {
     "name": "stdout",
     "output_type": "stream",
     "text": [
      "+-----+---+------+------+------+\n",
      "| Name|Age|Gender|Salary|DeptId|\n",
      "+-----+---+------+------+------+\n",
      "|James| 34|     M|  3000|     1|\n",
      "| Anna| 28|     F|  4100|     2|\n",
      "|  Lee| 23|     M|  2700|     1|\n",
      "+-----+---+------+------+------+\n",
      "\n",
      "+----+---+\n",
      "|Name|Age|\n",
      "+----+---+\n",
      "|Anna| 28|\n",
      "+----+---+\n",
      "\n",
      "+------------------+\n",
      "|       avg(Salary)|\n",
      "+------------------+\n",
      "|3266.6666666666665|\n",
      "+------------------+\n",
      "\n"
     ]
    }
   ],
   "source": [
    "data = [\n",
    "    ('James', 34, 'M', 3000, 1),\n",
    "    ('Anna', 28, 'F', 4100, 2),\n",
    "    ('Lee', 23, 'M', 2700, 1)\n",
    "]\n",
    "columns = ['Name', 'Age', 'Gender', 'Salary', 'DeptId']\n",
    "df = spark.createDataFrame(data, schema=columns)\n",
    "df.createOrReplaceTempView('employees')\n",
    "spark.sql('SELECT * FROM employees').show()\n",
    "spark.sql('SELECT Name, Age FROM employees WHERE Salary > 3000').show()\n",
    "spark.sql('SELECT AVG(Salary) FROM employees').show()\n"
   ]
  },
  {
   "cell_type": "markdown",
   "metadata": {},
   "source": [
    "### 2. Advanced Queries for Data Analysis"
   ]
  },
  {
   "cell_type": "code",
   "execution_count": 4,
   "metadata": {},
   "outputs": [
    {
     "name": "stderr",
     "output_type": "stream",
     "text": [
      "[Stage 7:>                                                          (0 + 4) / 4]\r"
     ]
    },
    {
     "name": "stdout",
     "output_type": "stream",
     "text": [
      "+------+-----------+---+\n",
      "|Gender|TotalSalary|Age|\n",
      "+------+-----------+---+\n",
      "|     M|       2700| 23|\n",
      "|     F|       4100| 28|\n",
      "|     M|       3000| 34|\n",
      "+------+-----------+---+\n",
      "\n"
     ]
    },
    {
     "name": "stderr",
     "output_type": "stream",
     "text": [
      "                                                                                \r"
     ]
    }
   ],
   "source": [
    "spark.sql('''\n",
    "SELECT Gender, SUM(Salary) as TotalSalary, Age\n",
    "FROM employees\n",
    "GROUP BY Gender, Age\n",
    "ORDER BY Age\n",
    "''').show()"
   ]
  },
  {
   "cell_type": "code",
   "execution_count": 13,
   "metadata": {},
   "outputs": [
    {
     "name": "stdout",
     "output_type": "stream",
     "text": [
      "+-----+---+------+------+------+\n",
      "| Name|Age|Gender|Salary|DeptId|\n",
      "+-----+---+------+------+------+\n",
      "|James| 34|     M|  3000|     1|\n",
      "| Anna| 28|     F|  4100|     2|\n",
      "|  Lee| 23|     M|  2700|     1|\n",
      "+-----+---+------+------+------+\n",
      "\n",
      "lihat rata rata per departemen\n",
      "+------+---------+\n",
      "|deptId|avgSalary|\n",
      "+------+---------+\n",
      "|     1|   2850.0|\n",
      "|     2|   4100.0|\n",
      "+------+---------+\n",
      "\n"
     ]
    }
   ],
   "source": [
    "# 1. Cari rata-rata gaji per departemen.\n",
    "spark.sql('SELECT * FROM employees').show()\n",
    "print('lihat rata rata per departemen')\n",
    "spark.sql('''\n",
    "SELECT deptId, AVG(Salary) as avgSalary\n",
    "FROM employees\n",
    "GROUP BY deptId\n",
    "''').show()"
   ]
  },
  {
   "cell_type": "code",
   "execution_count": 29,
   "metadata": {},
   "outputs": [
    {
     "name": "stdout",
     "output_type": "stream",
     "text": [
      "+-----+---+------+------+------+\n",
      "| Name|Age|Gender|Salary|DeptId|\n",
      "+-----+---+------+------+------+\n",
      "|James| 34|     M|  3000|     1|\n",
      "| Anna| 28|     F|  4100|     2|\n",
      "|  Lee| 23|     M|  2700|     1|\n",
      "+-----+---+------+------+------+\n",
      "\n",
      "Karyawan yg gajinya diatas rata rata untuk tiap gender\n"
     ]
    },
    {
     "ename": "ParseException",
     "evalue": "\n[PARSE_SYNTAX_ERROR] Syntax error at or near '=>'.(line 10, pos 15)\n\n== SQL ==\n\nSELECT e.Name, e.Gender, e.Salary\nFROM employees e\nJOIN (\n    SELECT Gender, AVG(Salary) as avgSalary\n    FROM employees\n    GROUP BY Gender\n) AS avgPerGender\nON e.Gender = avgPerGender.Gender\nWHERE e.Salary => avgPerGender.avgSalary\n---------------^^^\n",
     "output_type": "error",
     "traceback": [
      "\u001b[0;31m---------------------------------------------------------------------------\u001b[0m",
      "\u001b[0;31mParseException\u001b[0m                            Traceback (most recent call last)",
      "\u001b[1;32m/workspaces/Kuliah/Big Data/praktikum/pertemuan9/pert9.ipynb Cell 8\u001b[0m line \u001b[0;36m1\n\u001b[1;32m      <a href='vscode-notebook-cell://codespaces%2Bautomatic-fishstick-vqxvg49g7pp3p4xv/workspaces/Kuliah/Big%20Data/praktikum/pertemuan9/pert9.ipynb#X10sdnNjb2RlLXJlbW90ZQ%3D%3D?line=2'>3</a>\u001b[0m \u001b[39mprint\u001b[39m(\u001b[39m'\u001b[39m\u001b[39mKaryawan yg gajinya diatas rata rata untuk tiap gender\u001b[39m\u001b[39m'\u001b[39m)\n\u001b[1;32m      <a href='vscode-notebook-cell://codespaces%2Bautomatic-fishstick-vqxvg49g7pp3p4xv/workspaces/Kuliah/Big%20Data/praktikum/pertemuan9/pert9.ipynb#X10sdnNjb2RlLXJlbW90ZQ%3D%3D?line=4'>5</a>\u001b[0m avgPerGender \u001b[39m=\u001b[39m spark\u001b[39m.\u001b[39msql(\u001b[39m'''\u001b[39m\n\u001b[1;32m      <a href='vscode-notebook-cell://codespaces%2Bautomatic-fishstick-vqxvg49g7pp3p4xv/workspaces/Kuliah/Big%20Data/praktikum/pertemuan9/pert9.ipynb#X10sdnNjb2RlLXJlbW90ZQ%3D%3D?line=5'>6</a>\u001b[0m \u001b[39mSELECT Gender, AVG(Salary) as avgSalary\u001b[39m\n\u001b[1;32m      <a href='vscode-notebook-cell://codespaces%2Bautomatic-fishstick-vqxvg49g7pp3p4xv/workspaces/Kuliah/Big%20Data/praktikum/pertemuan9/pert9.ipynb#X10sdnNjb2RlLXJlbW90ZQ%3D%3D?line=6'>7</a>\u001b[0m \u001b[39mFROM employees\u001b[39m\n\u001b[1;32m      <a href='vscode-notebook-cell://codespaces%2Bautomatic-fishstick-vqxvg49g7pp3p4xv/workspaces/Kuliah/Big%20Data/praktikum/pertemuan9/pert9.ipynb#X10sdnNjb2RlLXJlbW90ZQ%3D%3D?line=7'>8</a>\u001b[0m \u001b[39mGROUP BY Gender\u001b[39m\n\u001b[1;32m      <a href='vscode-notebook-cell://codespaces%2Bautomatic-fishstick-vqxvg49g7pp3p4xv/workspaces/Kuliah/Big%20Data/praktikum/pertemuan9/pert9.ipynb#X10sdnNjb2RlLXJlbW90ZQ%3D%3D?line=8'>9</a>\u001b[0m \u001b[39m'''\u001b[39m)\n\u001b[0;32m---> <a href='vscode-notebook-cell://codespaces%2Bautomatic-fishstick-vqxvg49g7pp3p4xv/workspaces/Kuliah/Big%20Data/praktikum/pertemuan9/pert9.ipynb#X10sdnNjb2RlLXJlbW90ZQ%3D%3D?line=10'>11</a>\u001b[0m spark\u001b[39m.\u001b[39;49msql(\u001b[39m'''\u001b[39;49m\n\u001b[1;32m     <a href='vscode-notebook-cell://codespaces%2Bautomatic-fishstick-vqxvg49g7pp3p4xv/workspaces/Kuliah/Big%20Data/praktikum/pertemuan9/pert9.ipynb#X10sdnNjb2RlLXJlbW90ZQ%3D%3D?line=11'>12</a>\u001b[0m \u001b[39mSELECT e.Name, e.Gender, e.Salary\u001b[39;49m\n\u001b[1;32m     <a href='vscode-notebook-cell://codespaces%2Bautomatic-fishstick-vqxvg49g7pp3p4xv/workspaces/Kuliah/Big%20Data/praktikum/pertemuan9/pert9.ipynb#X10sdnNjb2RlLXJlbW90ZQ%3D%3D?line=12'>13</a>\u001b[0m \u001b[39mFROM employees e\u001b[39;49m\n\u001b[1;32m     <a href='vscode-notebook-cell://codespaces%2Bautomatic-fishstick-vqxvg49g7pp3p4xv/workspaces/Kuliah/Big%20Data/praktikum/pertemuan9/pert9.ipynb#X10sdnNjb2RlLXJlbW90ZQ%3D%3D?line=13'>14</a>\u001b[0m \u001b[39mJOIN (\u001b[39;49m\n\u001b[1;32m     <a href='vscode-notebook-cell://codespaces%2Bautomatic-fishstick-vqxvg49g7pp3p4xv/workspaces/Kuliah/Big%20Data/praktikum/pertemuan9/pert9.ipynb#X10sdnNjb2RlLXJlbW90ZQ%3D%3D?line=14'>15</a>\u001b[0m \u001b[39m    SELECT Gender, AVG(Salary) as avgSalary\u001b[39;49m\n\u001b[1;32m     <a href='vscode-notebook-cell://codespaces%2Bautomatic-fishstick-vqxvg49g7pp3p4xv/workspaces/Kuliah/Big%20Data/praktikum/pertemuan9/pert9.ipynb#X10sdnNjb2RlLXJlbW90ZQ%3D%3D?line=15'>16</a>\u001b[0m \u001b[39m    FROM employees\u001b[39;49m\n\u001b[1;32m     <a href='vscode-notebook-cell://codespaces%2Bautomatic-fishstick-vqxvg49g7pp3p4xv/workspaces/Kuliah/Big%20Data/praktikum/pertemuan9/pert9.ipynb#X10sdnNjb2RlLXJlbW90ZQ%3D%3D?line=16'>17</a>\u001b[0m \u001b[39m    GROUP BY Gender\u001b[39;49m\n\u001b[1;32m     <a href='vscode-notebook-cell://codespaces%2Bautomatic-fishstick-vqxvg49g7pp3p4xv/workspaces/Kuliah/Big%20Data/praktikum/pertemuan9/pert9.ipynb#X10sdnNjb2RlLXJlbW90ZQ%3D%3D?line=17'>18</a>\u001b[0m \u001b[39m) AS avgPerGender\u001b[39;49m\n\u001b[1;32m     <a href='vscode-notebook-cell://codespaces%2Bautomatic-fishstick-vqxvg49g7pp3p4xv/workspaces/Kuliah/Big%20Data/praktikum/pertemuan9/pert9.ipynb#X10sdnNjb2RlLXJlbW90ZQ%3D%3D?line=18'>19</a>\u001b[0m \u001b[39mON e.Gender = avgPerGender.Gender\u001b[39;49m\n\u001b[1;32m     <a href='vscode-notebook-cell://codespaces%2Bautomatic-fishstick-vqxvg49g7pp3p4xv/workspaces/Kuliah/Big%20Data/praktikum/pertemuan9/pert9.ipynb#X10sdnNjb2RlLXJlbW90ZQ%3D%3D?line=19'>20</a>\u001b[0m \u001b[39mWHERE e.Salary => avgPerGender.avgSalary\u001b[39;49m\n\u001b[1;32m     <a href='vscode-notebook-cell://codespaces%2Bautomatic-fishstick-vqxvg49g7pp3p4xv/workspaces/Kuliah/Big%20Data/praktikum/pertemuan9/pert9.ipynb#X10sdnNjb2RlLXJlbW90ZQ%3D%3D?line=20'>21</a>\u001b[0m \u001b[39m'''\u001b[39;49m)\u001b[39m.\u001b[39mshow()\n",
      "File \u001b[0;32m~/.python/current/lib/python3.12/site-packages/pyspark/sql/session.py:1631\u001b[0m, in \u001b[0;36mSparkSession.sql\u001b[0;34m(self, sqlQuery, args, **kwargs)\u001b[0m\n\u001b[1;32m   1627\u001b[0m         \u001b[39massert\u001b[39;00m \u001b[39mself\u001b[39m\u001b[39m.\u001b[39m_jvm \u001b[39mis\u001b[39;00m \u001b[39mnot\u001b[39;00m \u001b[39mNone\u001b[39;00m\n\u001b[1;32m   1628\u001b[0m         litArgs \u001b[39m=\u001b[39m \u001b[39mself\u001b[39m\u001b[39m.\u001b[39m_jvm\u001b[39m.\u001b[39mPythonUtils\u001b[39m.\u001b[39mtoArray(\n\u001b[1;32m   1629\u001b[0m             [_to_java_column(lit(v)) \u001b[39mfor\u001b[39;00m v \u001b[39min\u001b[39;00m (args \u001b[39mor\u001b[39;00m [])]\n\u001b[1;32m   1630\u001b[0m         )\n\u001b[0;32m-> 1631\u001b[0m     \u001b[39mreturn\u001b[39;00m DataFrame(\u001b[39mself\u001b[39;49m\u001b[39m.\u001b[39;49m_jsparkSession\u001b[39m.\u001b[39;49msql(sqlQuery, litArgs), \u001b[39mself\u001b[39m)\n\u001b[1;32m   1632\u001b[0m \u001b[39mfinally\u001b[39;00m:\n\u001b[1;32m   1633\u001b[0m     \u001b[39mif\u001b[39;00m \u001b[39mlen\u001b[39m(kwargs) \u001b[39m>\u001b[39m \u001b[39m0\u001b[39m:\n",
      "File \u001b[0;32m~/.python/current/lib/python3.12/site-packages/py4j/java_gateway.py:1322\u001b[0m, in \u001b[0;36mJavaMember.__call__\u001b[0;34m(self, *args)\u001b[0m\n\u001b[1;32m   1316\u001b[0m command \u001b[39m=\u001b[39m proto\u001b[39m.\u001b[39mCALL_COMMAND_NAME \u001b[39m+\u001b[39m\\\n\u001b[1;32m   1317\u001b[0m     \u001b[39mself\u001b[39m\u001b[39m.\u001b[39mcommand_header \u001b[39m+\u001b[39m\\\n\u001b[1;32m   1318\u001b[0m     args_command \u001b[39m+\u001b[39m\\\n\u001b[1;32m   1319\u001b[0m     proto\u001b[39m.\u001b[39mEND_COMMAND_PART\n\u001b[1;32m   1321\u001b[0m answer \u001b[39m=\u001b[39m \u001b[39mself\u001b[39m\u001b[39m.\u001b[39mgateway_client\u001b[39m.\u001b[39msend_command(command)\n\u001b[0;32m-> 1322\u001b[0m return_value \u001b[39m=\u001b[39m get_return_value(\n\u001b[1;32m   1323\u001b[0m     answer, \u001b[39mself\u001b[39;49m\u001b[39m.\u001b[39;49mgateway_client, \u001b[39mself\u001b[39;49m\u001b[39m.\u001b[39;49mtarget_id, \u001b[39mself\u001b[39;49m\u001b[39m.\u001b[39;49mname)\n\u001b[1;32m   1325\u001b[0m \u001b[39mfor\u001b[39;00m temp_arg \u001b[39min\u001b[39;00m temp_args:\n\u001b[1;32m   1326\u001b[0m     \u001b[39mif\u001b[39;00m \u001b[39mhasattr\u001b[39m(temp_arg, \u001b[39m\"\u001b[39m\u001b[39m_detach\u001b[39m\u001b[39m\"\u001b[39m):\n",
      "File \u001b[0;32m~/.python/current/lib/python3.12/site-packages/pyspark/errors/exceptions/captured.py:185\u001b[0m, in \u001b[0;36mcapture_sql_exception.<locals>.deco\u001b[0;34m(*a, **kw)\u001b[0m\n\u001b[1;32m    181\u001b[0m converted \u001b[39m=\u001b[39m convert_exception(e\u001b[39m.\u001b[39mjava_exception)\n\u001b[1;32m    182\u001b[0m \u001b[39mif\u001b[39;00m \u001b[39mnot\u001b[39;00m \u001b[39misinstance\u001b[39m(converted, UnknownException):\n\u001b[1;32m    183\u001b[0m     \u001b[39m# Hide where the exception came from that shows a non-Pythonic\u001b[39;00m\n\u001b[1;32m    184\u001b[0m     \u001b[39m# JVM exception message.\u001b[39;00m\n\u001b[0;32m--> 185\u001b[0m     \u001b[39mraise\u001b[39;00m converted \u001b[39mfrom\u001b[39;00m \u001b[39mNone\u001b[39;00m\n\u001b[1;32m    186\u001b[0m \u001b[39melse\u001b[39;00m:\n\u001b[1;32m    187\u001b[0m     \u001b[39mraise\u001b[39;00m\n",
      "\u001b[0;31mParseException\u001b[0m: \n[PARSE_SYNTAX_ERROR] Syntax error at or near '=>'.(line 10, pos 15)\n\n== SQL ==\n\nSELECT e.Name, e.Gender, e.Salary\nFROM employees e\nJOIN (\n    SELECT Gender, AVG(Salary) as avgSalary\n    FROM employees\n    GROUP BY Gender\n) AS avgPerGender\nON e.Gender = avgPerGender.Gender\nWHERE e.Salary => avgPerGender.avgSalary\n---------------^^^\n"
     ]
    }
   ],
   "source": [
    "# 2. Temukan karyawan yang memiliki gaji di atas rata-rata untuk gender masing-masing.\n",
    "spark.sql('SELECT * FROM employees').show()\n",
    "print('Karyawan yg gajinya diatas rata rata untuk tiap gender')\n",
    "\n",
    "avgPerGender = spark.sql('''\n",
    "SELECT Gender, AVG(Salary) as avgSalary\n",
    "FROM employees\n",
    "GROUP BY Gender\n",
    "''')\n",
    "\n",
    "spark.sql('''\n",
    "SELECT e.Name, e.Gender, e.Salary\n",
    "FROM employees e\n",
    "JOIN (\n",
    "    SELECT Gender, AVG(Salary) as avgSalary\n",
    "    FROM employees\n",
    "    GROUP BY Gender\n",
    ") AS avgPerGender\n",
    "ON e.Gender = avgPerGender.Gender\n",
    "WHERE e.Salary > avgPerGender.avgSalary\n",
    "''').show()\n",
    "\n",
    "\n"
   ]
  }
 ],
 "metadata": {
  "kernelspec": {
   "display_name": "Python 3 (ipykernel)",
   "language": "python",
   "name": "python3"
  },
  "language_info": {
   "codemirror_mode": {
    "name": "ipython",
    "version": 3
   },
   "file_extension": ".py",
   "mimetype": "text/x-python",
   "name": "python",
   "nbconvert_exporter": "python",
   "pygments_lexer": "ipython3",
   "version": "3.9.2"
  }
 },
 "nbformat": 4,
 "nbformat_minor": 2
}
