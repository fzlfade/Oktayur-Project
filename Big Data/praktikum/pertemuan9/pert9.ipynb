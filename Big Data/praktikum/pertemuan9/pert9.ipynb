{
 "cells": [
  {
   "cell_type": "markdown",
   "metadata": {},
   "source": [
    "**Import pyspark.sql**"
   ]
  },
  {
   "cell_type": "code",
   "execution_count": 1,
   "metadata": {},
   "outputs": [
    {
     "name": "stderr",
     "output_type": "stream",
     "text": [
      "24/10/23 01:33:27 WARN Utils: Your hostname, codespaces-d86cfb resolves to a loopback address: 127.0.0.1; using 10.0.3.190 instead (on interface eth0)\n",
      "24/10/23 01:33:27 WARN Utils: Set SPARK_LOCAL_IP if you need to bind to another address\n",
      "Setting default log level to \"WARN\".\n",
      "To adjust logging level use sc.setLogLevel(newLevel). For SparkR, use setLogLevel(newLevel).\n",
      "24/10/23 01:33:28 WARN NativeCodeLoader: Unable to load native-hadoop library for your platform... using builtin-java classes where applicable\n",
      "24/10/23 01:33:30 WARN Utils: Service 'SparkUI' could not bind on port 4040. Attempting port 4041.\n"
     ]
    }
   ],
   "source": [
    "from pyspark.sql import SparkSession\n",
    "\n",
    "spark = SparkSession.builder.appName('tugas_9').getOrCreate()"
   ]
  },
  {
   "cell_type": "markdown",
   "metadata": {},
   "source": [
    "### 1. Basic SQL Operations in Spark SQL"
   ]
  },
  {
   "cell_type": "code",
   "execution_count": 47,
   "metadata": {},
   "outputs": [
    {
     "name": "stdout",
     "output_type": "stream",
     "text": [
      "+-----+---+------+------+------+\n",
      "| Name|Age|Gender|Salary|DeptId|\n",
      "+-----+---+------+------+------+\n",
      "|James| 34|     M|  3000|     1|\n",
      "| Anna| 28|     F|  4100|     2|\n",
      "|  Lee| 23|     M|  2700|     1|\n",
      "| Nisa| 24|     F|  2800|     1|\n",
      "+-----+---+------+------+------+\n",
      "\n",
      "+----+---+\n",
      "|Name|Age|\n",
      "+----+---+\n",
      "|Anna| 28|\n",
      "+----+---+\n",
      "\n",
      "+-----------+\n",
      "|avg(Salary)|\n",
      "+-----------+\n",
      "|     3150.0|\n",
      "+-----------+\n",
      "\n"
     ]
    }
   ],
   "source": [
    "data = [\n",
    "    ('James', 34, 'M', 3000, 1),\n",
    "    ('Anna', 28, 'F', 4100, 2),\n",
    "    ('Lee', 23, 'M', 2700, 1),\n",
    "    ('Nisa', 24, 'F', 2800, 1),\n",
    "]\n",
    "columns = ['Name', 'Age', 'Gender', 'Salary', 'DeptId']\n",
    "df = spark.createDataFrame(data, schema=columns)\n",
    "df.createOrReplaceTempView('employees')\n",
    "spark.sql('SELECT * FROM employees').show()\n",
    "spark.sql('SELECT Name, Age FROM employees WHERE Salary > 3000').show()\n",
    "spark.sql('SELECT AVG(Salary) FROM employees').show()\n"
   ]
  },
  {
   "cell_type": "markdown",
   "metadata": {},
   "source": [
    "### 2. Advanced Queries for Data Analysis"
   ]
  },
  {
   "cell_type": "code",
   "execution_count": 48,
   "metadata": {},
   "outputs": [
    {
     "name": "stdout",
     "output_type": "stream",
     "text": [
      "+------+-----------+---+\n",
      "|Gender|TotalSalary|Age|\n",
      "+------+-----------+---+\n",
      "|     M|       2700| 23|\n",
      "|     F|       2800| 24|\n",
      "|     F|       4100| 28|\n",
      "|     M|       3000| 34|\n",
      "+------+-----------+---+\n",
      "\n"
     ]
    }
   ],
   "source": [
    "spark.sql('''\n",
    "SELECT Gender, SUM(Salary) as TotalSalary, Age\n",
    "FROM employees\n",
    "GROUP BY Gender, Age\n",
    "ORDER BY Age\n",
    "''').show()"
   ]
  },
  {
   "cell_type": "code",
   "execution_count": 49,
   "metadata": {},
   "outputs": [
    {
     "name": "stdout",
     "output_type": "stream",
     "text": [
      "+-----+---+------+------+------+\n",
      "| Name|Age|Gender|Salary|DeptId|\n",
      "+-----+---+------+------+------+\n",
      "|James| 34|     M|  3000|     1|\n",
      "| Anna| 28|     F|  4100|     2|\n",
      "|  Lee| 23|     M|  2700|     1|\n",
      "| Nisa| 24|     F|  2800|     1|\n",
      "+-----+---+------+------+------+\n",
      "\n",
      "lihat rata rata per departemen\n",
      "+------+------------------+\n",
      "|deptId|         avgSalary|\n",
      "+------+------------------+\n",
      "|     1|2833.3333333333335|\n",
      "|     2|            4100.0|\n",
      "+------+------------------+\n",
      "\n"
     ]
    }
   ],
   "source": [
    "# 1. Cari rata-rata gaji per departemen.\n",
    "spark.sql('SELECT * FROM employees').show()\n",
    "print('lihat rata rata per departemen')\n",
    "spark.sql('''\n",
    "SELECT DeptId, AVG(Salary) as avgSalary\n",
    "FROM employees\n",
    "GROUP BY DeptId\n",
    "''').show()"
   ]
  },
  {
   "cell_type": "code",
   "execution_count": 50,
   "metadata": {},
   "outputs": [
    {
     "name": "stdout",
     "output_type": "stream",
     "text": [
      "+-----+---+------+------+------+\n",
      "| Name|Age|Gender|Salary|DeptId|\n",
      "+-----+---+------+------+------+\n",
      "|James| 34|     M|  3000|     1|\n",
      "| Anna| 28|     F|  4100|     2|\n",
      "|  Lee| 23|     M|  2700|     1|\n",
      "| Nisa| 24|     F|  2800|     1|\n",
      "+-----+---+------+------+------+\n",
      "\n",
      "Rata rata tiap gender\n",
      "+------+---------+\n",
      "|Gender|avgSalary|\n",
      "+------+---------+\n",
      "|     F|   3450.0|\n",
      "|     M|   2850.0|\n",
      "+------+---------+\n",
      "\n",
      "Karyawan yg gajinya diatas rata rata untuk tiap gender\n",
      "+-----+------+------+\n",
      "| Name|Gender|Salary|\n",
      "+-----+------+------+\n",
      "| Anna|     F|  4100|\n",
      "|James|     M|  3000|\n",
      "+-----+------+------+\n",
      "\n"
     ]
    }
   ],
   "source": [
    "# 2. Temukan karyawan yang memiliki gaji di atas rata-rata untuk gender masing-masing.\n",
    "spark.sql('SELECT * FROM employees').show()\n",
    "\n",
    "print('Rata rata tiap gender')\n",
    "spark.sql('''\n",
    "SELECT Gender, AVG(Salary) as avgSalary\n",
    "FROM employees\n",
    "GROUP BY Gender\n",
    "''').show()\n",
    "\n",
    "print('Karyawan yg gajinya diatas rata rata untuk tiap gender')\n",
    "spark.sql('''\n",
    "SELECT e.Name, e.Gender, e.Salary\n",
    "FROM employees e\n",
    "JOIN (\n",
    "    SELECT Gender, AVG(Salary) as avgSalary\n",
    "    FROM employees\n",
    "    GROUP BY Gender\n",
    ") AS avgPerGender\n",
    "ON e.Gender = avgPerGender.Gender\n",
    "WHERE e.Salary > avgPerGender.avgSalary\n",
    "''').show()\n",
    "\n",
    "\n"
   ]
  },
  {
   "cell_type": "code",
   "execution_count": 54,
   "metadata": {},
   "outputs": [
    {
     "name": "stdout",
     "output_type": "stream",
     "text": [
      "+-----+---+------+------+------+\n",
      "| Name|Age|Gender|Salary|DeptId|\n",
      "+-----+---+------+------+------+\n",
      "|James| 34|     M|  3000|     1|\n",
      "| Anna| 28|     F|  4100|     2|\n",
      "|  Lee| 23|     M|  2700|     1|\n",
      "| Nisa| 24|     F|  2800|     1|\n",
      "+-----+---+------+------+------+\n",
      "\n",
      "Ranking karyawan berdasarkan gaji dalam departemen mereka\n",
      "+-----+------+------+----+\n",
      "| Name|DeptId|Salary|rank|\n",
      "+-----+------+------+----+\n",
      "|James|     1|  3000|   1|\n",
      "| Nisa|     1|  2800|   2|\n",
      "|  Lee|     1|  2700|   3|\n",
      "| Anna|     2|  4100|   1|\n",
      "+-----+------+------+----+\n",
      "\n"
     ]
    }
   ],
   "source": [
    "# 3. Buat ranking karyawan berdasarkan gaji dalam departemen mereka.\n",
    "spark.sql('SELECT * FROM employees').show()\n",
    "\n",
    "print('Ranking karyawan berdasarkan gaji dalam departemen mereka')\n",
    "spark.sql('''\n",
    "SELECT Name, DeptId, Salary, DENSE_RANK() OVER (PARTITION BY DeptId ORDER BY Salary DESC) AS rank\n",
    "FROM employees\n",
    "ORDER BY DeptId, rank\n",
    "''').show()\n"
   ]
  }
 ],
 "metadata": {
  "kernelspec": {
   "display_name": "Python 3 (ipykernel)",
   "language": "python",
   "name": "python3"
  },
  "language_info": {
   "codemirror_mode": {
    "name": "ipython",
    "version": 3
   },
   "file_extension": ".py",
   "mimetype": "text/x-python",
   "name": "python",
   "nbconvert_exporter": "python",
   "pygments_lexer": "ipython3",
   "version": "3.9.2"
  }
 },
 "nbformat": 4,
 "nbformat_minor": 2
}
