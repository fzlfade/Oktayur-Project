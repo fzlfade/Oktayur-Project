{
 "cells": [
  {
   "cell_type": "markdown",
   "id": "e1b7d46f",
   "metadata": {},
   "source": [
    "# Hands-On Pertemuan 4: Ekosistem Hadoop - Pig dan Hive"
   ]
  },
  {
   "cell_type": "markdown",
   "id": "3c7b80d2",
   "metadata": {},
   "source": [
    "## Tujuan:\n",
    "- Memahami peran dan fungsi Pig serta Hive dalam ekosistem Hadoop.\n",
    "- Mengimplementasikan tugas pemrosesan data menggunakan Pig dan Hive.\n",
    "- Membandingkan kelebihan dan kelemahan Pig dan Hive untuk berbagai skenario pemrosesan data."
   ]
  },
  {
   "cell_type": "markdown",
   "id": "79bd02a3",
   "metadata": {},
   "source": [
    "### 1. Pengenalan Pig\n",
    "Pig adalah platform untuk analisis data besar yang menyediakan bahasa scripting bernama Pig Latin. Pig memudahkan pemrosesan data dengan abstraksi level tinggi dibandingkan menulis MapReduce secara manual.\n",
    "\n",
    "- **Tugas 1**: Pelajari dan pahami dasar-dasar Pig Latin dengan melakukan latihan-latihan berikut:"
   ]
  },
  {
   "cell_type": "code",
   "execution_count": null,
   "id": "e1beb5bd",
   "metadata": {},
   "outputs": [],
   "source": [
    "# Contoh kode Pig Latin sederhana\n",
    "# Kode ini digunakan untuk load data dan melakukan operasi filter serta group.\n",
    "students = LOAD 'students.txt' USING PigStorage(',') AS (name:chararray, age:int, gpa:float);\n",
    "filtered_students = FILTER students BY gpa > 3.0;\n",
    "grouped_by_age = GROUP filtered_students BY age;\n",
    "DUMP grouped_by_age;"
   ]
  },
  {
   "cell_type": "markdown",
   "id": "866e8e41",
   "metadata": {},
   "source": [
    "### 2. Tugas Pig: Pemrosesan Data Sederhana\n",
    "- Unduh dataset dari sumber yang tersedia (misalnya: Kaggle atau UCI Repository).\n",
    "- Gunakan Pig untuk memproses data tersebut dan lakukan analisis sederhana seperti filter, group, dan count.\n",
    "\n",
    "- **Tugas 2**: Implementasikan operasi pemrosesan pada dataset menggunakan Pig. Coba lakukan berbagai operasi, termasuk `FILTER`, `GROUP`, dan `COUNT`."
   ]
  },
  {
   "cell_type": "markdown",
   "id": "58377841",
   "metadata": {},
   "source": [
    "### 3. Pengenalan Hive\n",
    "Hive adalah alat berbasis SQL yang dibangun di atas Hadoop untuk melakukan query dan analisis data besar menggunakan bahasa SQL yang familier.\n",
    "\n",
    "- **Tugas 3**: Pelajari konsep dasar Hive dan coba implementasikan query SQL sederhana pada data yang disimpan di HDFS."
   ]
  },
  {
   "cell_type": "markdown",
   "id": "e4992f9a",
   "metadata": {},
   "source": [
    "### 4. Tugas Hive: Query SQL pada Data Hadoop\n",
    "- Siapkan dataset yang akan di-query menggunakan Hive.\n",
    "- Buat tabel di Hive, import dataset, dan lakukan query seperti `SELECT`, `JOIN`, `GROUP BY`.\n",
    "\n",
    "- **Tugas 4**: Implementasikan query SQL sederhana menggunakan Hive untuk menganalisis data."
   ]
  },
  {
   "cell_type": "code",
   "execution_count": null,
   "id": "68d94e18",
   "metadata": {},
   "outputs": [],
   "source": [
    "# Contoh query Hive sederhana\n",
    "# Kode ini digunakan untuk membuat tabel dan melakukan query pada Hive.\n",
    "CREATE TABLE students (name STRING, age INT, gpa FLOAT) ROW FORMAT DELIMITED FIELDS TERMINATED BY ',';\n",
    "LOAD DATA INPATH '/user/pertemuan4/input/pertemuan4.txt' INTO TABLE students;\n",
    "SELECT * FROM students WHERE gpa > 3.0;\n"
   ]
  },
  {
   "cell_type": "markdown",
   "id": "efd84b43",
   "metadata": {},
   "source": [
    "### 5. Perbandingan Pig dan Hive\n",
    "- **Tugas 5**: Lakukan komparasi antara Pig dan Hive dengan melakukan tugas yang sama menggunakan kedua alat ini. Buat laporan yang mencakup kelebihan dan kelemahan masing-masing serta situasi yang tepat untuk menggunakan salah satu alat."
   ]
  }
 ],
 "metadata": {
  "kernelspec": {
   "display_name": "Python 3 (ipykernel)",
   "language": "python",
   "name": "python3"
  }
 },
 "nbformat": 4,
 "nbformat_minor": 5
}
